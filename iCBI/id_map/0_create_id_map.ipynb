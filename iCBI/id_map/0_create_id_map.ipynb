{
 "cells": [
  {
   "cell_type": "code",
   "execution_count": 29,
   "metadata": {},
   "outputs": [],
   "source": [
    "import cobra as cb\n",
    "import os\n",
    "import pandas as pd\n",
    "import csv\n",
    "import sys\n",
    "sys.path.append('/home/sergio/Dropbox/s/cthermgem-dev/')\n",
    "import settings\n",
    "os.chdir(os.path.join(settings.PROJECT_ROOT,'iCBI'))"
   ]
  },
  {
   "cell_type": "code",
   "execution_count": 32,
   "metadata": {},
   "outputs": [],
   "source": [
    "icbi = cb.io.read_sbml_model(os.path.join(settings.PROJECT_ROOT,'iCBI','iCBI665_v3.sbml')) # v3 contains glucose equivalent uptake reactions\n",
    "isg = cb.io.load_json_model(os.path.join(settings.PROJECT_ROOT,'iSG676','iSG676_cb.json'))"
   ]
  },
  {
   "cell_type": "markdown",
   "metadata": {},
   "source": [
    "# Metabolites"
   ]
  },
  {
   "cell_type": "code",
   "execution_count": 33,
   "metadata": {},
   "outputs": [
    {
     "data": {
      "text/html": [
       "<div>\n",
       "<style scoped>\n",
       "    .dataframe tbody tr th:only-of-type {\n",
       "        vertical-align: middle;\n",
       "    }\n",
       "\n",
       "    .dataframe tbody tr th {\n",
       "        vertical-align: top;\n",
       "    }\n",
       "\n",
       "    .dataframe thead th {\n",
       "        text-align: right;\n",
       "    }\n",
       "</style>\n",
       "<table border=\"1\" class=\"dataframe\">\n",
       "  <thead>\n",
       "    <tr style=\"text-align: right;\">\n",
       "      <th></th>\n",
       "      <th>MS ID</th>\n",
       "      <th>Old MS ID</th>\n",
       "      <th>External ID</th>\n",
       "      <th>Source</th>\n",
       "    </tr>\n",
       "  </thead>\n",
       "  <tbody>\n",
       "    <tr>\n",
       "      <th>0</th>\n",
       "      <td>cpd00201</td>\n",
       "      <td>cpd00201</td>\n",
       "      <td>10fthf</td>\n",
       "      <td>BiGG1</td>\n",
       "    </tr>\n",
       "    <tr>\n",
       "      <th>1</th>\n",
       "      <td>cpd11255</td>\n",
       "      <td>NaN</td>\n",
       "      <td>12d3k5m</td>\n",
       "      <td>BiGG1</td>\n",
       "    </tr>\n",
       "  </tbody>\n",
       "</table>\n",
       "</div>"
      ],
      "text/plain": [
       "      MS ID Old MS ID External ID Source\n",
       "0  cpd00201  cpd00201      10fthf  BiGG1\n",
       "1  cpd11255       NaN     12d3k5m  BiGG1"
      ]
     },
     "execution_count": 33,
     "metadata": {},
     "output_type": "execute_result"
    }
   ],
   "source": [
    "c = pd.read_csv(os.path.join(settings.PROJECT_ROOT,'iCBI','id_map','Compounds_Aliases.tsv'), sep='\\t')\n",
    "c.head(2)"
   ]
  },
  {
   "cell_type": "code",
   "execution_count": 34,
   "metadata": {},
   "outputs": [
    {
     "data": {
      "text/plain": [
       "array(['BiGG1', 'KEGG', 'MetaCyc', 'PlantCyc', 'BiGG'], dtype=object)"
      ]
     },
     "execution_count": 34,
     "metadata": {},
     "output_type": "execute_result"
    }
   ],
   "source": [
    "c.Source.unique()"
   ]
  },
  {
   "cell_type": "markdown",
   "metadata": {},
   "source": [
    "There are 2 bigg sources, BiGG1 and BiGG. Implying BiGG is the most current. "
   ]
  },
  {
   "cell_type": "code",
   "execution_count": 37,
   "metadata": {},
   "outputs": [],
   "source": [
    "# Create mapping dictionaries\n",
    "ms2bigg1 = {}\n",
    "ms2bigg = {}\n",
    "for i,r in c.iterrows():\n",
    "    if r['Source'] == 'BiGG':\n",
    "        ms2bigg[r['MS ID']] = r['External ID']\n",
    "    elif r['Source'] == 'BiGG1':\n",
    "        ms2bigg1[r['MS ID']] = r['External ID']\n"
   ]
  },
  {
   "cell_type": "code",
   "execution_count": 43,
   "metadata": {},
   "outputs": [
    {
     "name": "stdout",
     "output_type": "stream",
     "text": [
      "Not matched:  107\n"
     ]
    }
   ],
   "source": [
    "not_matched = []\n",
    "ms2bigg_icbi = {}\n",
    "for met in icbi.metabolites:\n",
    "    mid = met.id\n",
    "    mid_nc = mid[:-3]\n",
    "    \n",
    "    if mid_nc in ms2bigg:\n",
    "        ms2bigg_icbi[mid_nc] = ms2bigg[mid_nc]\n",
    "    elif mid_nc in ms2bigg1:\n",
    "        ms2bigg_icbi[mid_nc] = ms2bigg1[mid_nc]\n",
    "    else:\n",
    "        ms2bigg_icbi[mid_nc] = mid_nc\n",
    "        not_matched.append(mid_nc)\n",
    "    \n",
    "print('Not matched: ', len(not_matched))"
   ]
  },
  {
   "cell_type": "code",
   "execution_count": 51,
   "metadata": {},
   "outputs": [],
   "source": [
    "names = []\n",
    "for mid in ms2bigg_icbi.keys():\n",
    "    if mid + '_c0' in icbi.metabolites:\n",
    "        names.append(icbi.metabolites.get_by_id(mid +'_c0').name[:-3])\n",
    "    elif mid + '_e0' in icbi.metabolites:\n",
    "        names.append(icbi.metabolites.get_by_id(mid +'_e0').name[:-3])\n",
    "    else:\n",
    "        print(mid)"
   ]
  },
  {
   "cell_type": "code",
   "execution_count": 64,
   "metadata": {},
   "outputs": [
    {
     "data": {
      "text/html": [
       "<div>\n",
       "<style scoped>\n",
       "    .dataframe tbody tr th:only-of-type {\n",
       "        vertical-align: middle;\n",
       "    }\n",
       "\n",
       "    .dataframe tbody tr th {\n",
       "        vertical-align: top;\n",
       "    }\n",
       "\n",
       "    .dataframe thead th {\n",
       "        text-align: right;\n",
       "    }\n",
       "</style>\n",
       "<table border=\"1\" class=\"dataframe\">\n",
       "  <thead>\n",
       "    <tr style=\"text-align: right;\">\n",
       "      <th></th>\n",
       "      <th>bigg</th>\n",
       "      <th>ms</th>\n",
       "      <th>name_icbi</th>\n",
       "    </tr>\n",
       "  </thead>\n",
       "  <tbody>\n",
       "    <tr>\n",
       "      <th>0</th>\n",
       "      <td>pi</td>\n",
       "      <td>cpd00009</td>\n",
       "      <td>Phosphate</td>\n",
       "    </tr>\n",
       "    <tr>\n",
       "      <th>1</th>\n",
       "      <td>h</td>\n",
       "      <td>cpd00067</td>\n",
       "      <td>H_plus_</td>\n",
       "    </tr>\n",
       "    <tr>\n",
       "      <th>2</th>\n",
       "      <td>oh1</td>\n",
       "      <td>cpd00001</td>\n",
       "      <td>H2O</td>\n",
       "    </tr>\n",
       "    <tr>\n",
       "      <th>3</th>\n",
       "      <td>ppi</td>\n",
       "      <td>cpd00012</td>\n",
       "      <td>PPi</td>\n",
       "    </tr>\n",
       "    <tr>\n",
       "      <th>4</th>\n",
       "      <td>co2</td>\n",
       "      <td>cpd00011</td>\n",
       "      <td>CO2</td>\n",
       "    </tr>\n",
       "  </tbody>\n",
       "</table>\n",
       "</div>"
      ],
      "text/plain": [
       "  bigg        ms  name_icbi\n",
       "0   pi  cpd00009  Phosphate\n",
       "1    h  cpd00067    H_plus_\n",
       "2  oh1  cpd00001        H2O\n",
       "3  ppi  cpd00012        PPi\n",
       "4  co2  cpd00011        CO2"
      ]
     },
     "execution_count": 64,
     "metadata": {},
     "output_type": "execute_result"
    }
   ],
   "source": [
    "df = pd.DataFrame({'ms':list(ms2bigg_icbi.keys()), 'bigg':list(ms2bigg_icbi.values()), 'name_icbi':names})\n",
    "df.head()"
   ]
  },
  {
   "cell_type": "code",
   "execution_count": 79,
   "metadata": {},
   "outputs": [],
   "source": [
    "df.to_csv('bigg2ms_met_raw.csv',index=False) # Manual curation will be performed to add relevant unmatched metabolites"
   ]
  },
  {
   "cell_type": "code",
   "execution_count": 81,
   "metadata": {},
   "outputs": [
    {
     "data": {
      "text/html": [
       "\n",
       "        <table>\n",
       "            <tr>\n",
       "                <td><strong>Metabolite identifier</strong></td><td>cpd11424_c0</td>\n",
       "            </tr><tr>\n",
       "                <td><strong>Name</strong></td><td>cpd11424_c0</td>\n",
       "            </tr><tr>\n",
       "                <td><strong>Memory address</strong></td>\n",
       "                <td>0x07f9f9f89be10</td>\n",
       "            </tr><tr>\n",
       "                <td><strong>Formula</strong></td><td>None</td>\n",
       "            </tr><tr>\n",
       "                <td><strong>Compartment</strong></td><td>c0</td>\n",
       "            </tr><tr>\n",
       "                <td><strong>In 2 reaction(s)</strong></td><td>\n",
       "                    DAGS_c0, MAGS_c0</td>\n",
       "            </tr>\n",
       "        </table>"
      ],
      "text/plain": [
       "<Metabolite cpd11424_c0 at 0x7f9f9f89be10>"
      ]
     },
     "execution_count": 81,
     "metadata": {},
     "output_type": "execute_result"
    }
   ],
   "source": [
    "icbi.metabolites.cpd11424_c0"
   ]
  },
  {
   "cell_type": "markdown",
   "metadata": {},
   "source": [
    "# Reactions\n",
    "Reaction in iCBI, as downloaded from KBase do not follow the modelSEED IDs but rather use a modified bigg-based ID"
   ]
  },
  {
   "cell_type": "code",
   "execution_count": 115,
   "metadata": {},
   "outputs": [],
   "source": [
    "def nfix(name):\n",
    "    # removes differences in icbi naming\n",
    "    name = name.replace('_c0','')\n",
    "    name = name.replace('_e0','')\n",
    "    return name\n",
    "\n",
    "rxnid = [nfix(r.id) for r in icbi.reactions]\n",
    "\n",
    "# Load curated map \n",
    "ms2bigg_met = {}\n",
    "with open(os.path.join(settings.PROJECT_ROOT, 'iCBI','id_map', 'bigg2ms_met.csv'), 'r') as f:\n",
    "    reader = csv.DictReader(f)\n",
    "    for row in reader:\n",
    "        ms2bigg_met[row['ms']] = row['bigg']\n",
    "        \n",
    "def ex_remap(rid):\n",
    "    # converts exchange reaction of the form EX_cpd00001_e0 into EX_h20_e and also EX_fuc__L_e_e0 into EX_fuc__L_e\n",
    "    met_id = rid[3:-3]\n",
    "    if met_id in ms2bigg_met:\n",
    "        return 'EX_{}_e'.format(ms2bigg_met[met_id])\n",
    "    else:\n",
    "        return rid[:-3]    "
   ]
  },
  {
   "cell_type": "code",
   "execution_count": 116,
   "metadata": {},
   "outputs": [
    {
     "name": "stdout",
     "output_type": "stream",
     "text": [
      "Unmatched 5\n"
     ]
    }
   ],
   "source": [
    "bigg2ms_rxn = {}\n",
    "unmatched_ms = []\n",
    "for rxn in icbi.reactions:\n",
    "    if rxn.id.startswith('EX_'):\n",
    "        biggid = ex_remap(rxn.id)\n",
    "    else:\n",
    "        biggid = nfix(rxn.id)\n",
    "    try:\n",
    "        r_isg = isg.reactions.get_by_id(biggid)\n",
    "        bigg2ms_rxn[r_isg.id] = rxn.id\n",
    "    except KeyError:\n",
    "        unmatched_ms.append(rxn.id)\n",
    "        bigg2ms_rxn[rxn.id] = rxn.id\n",
    "print('Unmatched', len(unmatched_ms))\n"
   ]
  },
  {
   "cell_type": "code",
   "execution_count": 117,
   "metadata": {},
   "outputs": [],
   "source": [
    "names = [icbi.reactions.get_by_id(rid).name for rid in bigg2ms_rxn.values()]"
   ]
  },
  {
   "cell_type": "code",
   "execution_count": 118,
   "metadata": {},
   "outputs": [
    {
     "data": {
      "text/html": [
       "<div>\n",
       "<style scoped>\n",
       "    .dataframe tbody tr th:only-of-type {\n",
       "        vertical-align: middle;\n",
       "    }\n",
       "\n",
       "    .dataframe tbody tr th {\n",
       "        vertical-align: top;\n",
       "    }\n",
       "\n",
       "    .dataframe thead th {\n",
       "        text-align: right;\n",
       "    }\n",
       "</style>\n",
       "<table border=\"1\" class=\"dataframe\">\n",
       "  <thead>\n",
       "    <tr style=\"text-align: right;\">\n",
       "      <th></th>\n",
       "      <th>bigg</th>\n",
       "      <th>ms</th>\n",
       "      <th>names</th>\n",
       "    </tr>\n",
       "  </thead>\n",
       "  <tbody>\n",
       "    <tr>\n",
       "      <th>0</th>\n",
       "      <td>PPA</td>\n",
       "      <td>PPA_c0</td>\n",
       "      <td>CustomReaction_c0</td>\n",
       "    </tr>\n",
       "    <tr>\n",
       "      <th>1</th>\n",
       "      <td>ACLS</td>\n",
       "      <td>ACLS_c0</td>\n",
       "      <td>pyruvate_pyruvate_acetaldehydetransferase_deca...</td>\n",
       "    </tr>\n",
       "    <tr>\n",
       "      <th>2</th>\n",
       "      <td>PDHam1hi</td>\n",
       "      <td>PDHam1hi_c0</td>\n",
       "      <td>pyruvate_thiamin_diphosphate_acetaldehydetrans...</td>\n",
       "    </tr>\n",
       "    <tr>\n",
       "      <th>3</th>\n",
       "      <td>ECH</td>\n",
       "      <td>ECH_c0</td>\n",
       "      <td>CustomReaction_c0</td>\n",
       "    </tr>\n",
       "    <tr>\n",
       "      <th>4</th>\n",
       "      <td>AHEXASE3</td>\n",
       "      <td>AHEXASE3_c0</td>\n",
       "      <td>chitobiose_N_acetylglucosaminohydrolase_c0</td>\n",
       "    </tr>\n",
       "  </tbody>\n",
       "</table>\n",
       "</div>"
      ],
      "text/plain": [
       "       bigg           ms                                              names\n",
       "0       PPA       PPA_c0                                  CustomReaction_c0\n",
       "1      ACLS      ACLS_c0  pyruvate_pyruvate_acetaldehydetransferase_deca...\n",
       "2  PDHam1hi  PDHam1hi_c0  pyruvate_thiamin_diphosphate_acetaldehydetrans...\n",
       "3       ECH       ECH_c0                                  CustomReaction_c0\n",
       "4  AHEXASE3  AHEXASE3_c0         chitobiose_N_acetylglucosaminohydrolase_c0"
      ]
     },
     "execution_count": 118,
     "metadata": {},
     "output_type": "execute_result"
    }
   ],
   "source": [
    "df = pd.DataFrame({'bigg':list(bigg2ms_rxn.keys()), 'ms':list(bigg2ms_rxn.values()), 'names':names})\n",
    "df.to_csv('bigg2ms_rxn_raw.csv',index=False) # Manual curation will be performed to add relevant unmatched metabolites\n",
    "df.head()"
   ]
  },
  {
   "cell_type": "code",
   "execution_count": 119,
   "metadata": {},
   "outputs": [
    {
     "data": {
      "text/plain": [
       "['PFK_3_ppi_c0', 'FRDx_c0', 'bio1', 'EX_cpd02701_c0', 'EX_cpd11416_c0']"
      ]
     },
     "execution_count": 119,
     "metadata": {},
     "output_type": "execute_result"
    }
   ],
   "source": [
    "unmatched_ms"
   ]
  },
  {
   "cell_type": "markdown",
   "metadata": {},
   "source": [
    "The only unmatched reactions correspond to new additions to the model."
   ]
  }
 ],
 "metadata": {
  "kernelspec": {
   "display_name": "Python 3",
   "language": "python",
   "name": "python3"
  },
  "language_info": {
   "codemirror_mode": {
    "name": "ipython",
    "version": 3
   },
   "file_extension": ".py",
   "mimetype": "text/x-python",
   "name": "python",
   "nbconvert_exporter": "python",
   "pygments_lexer": "ipython3",
   "version": "3.6.5"
  }
 },
 "nbformat": 4,
 "nbformat_minor": 2
}
