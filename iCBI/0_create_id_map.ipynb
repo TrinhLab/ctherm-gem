{
 "cells": [
  {
   "cell_type": "markdown",
   "metadata": {},
   "source": [
    "Add reactions for glucose equivalent uptake simulation"
   ]
  },
  {
   "cell_type": "code",
   "execution_count": 5,
   "metadata": {},
   "outputs": [],
   "source": [
    "import cobra as cb\n",
    "import os\n",
    "import pandas as pd\n",
    "import csv\n",
    "import sys\n",
    "\n",
    "import settings\n",
    "os.chdir(os.path.join(settings.PROJECT_ROOT,'iCBI'))"
   ]
  },
  {
   "cell_type": "code",
   "execution_count": 2,
   "metadata": {},
   "outputs": [],
   "source": [
    "icbi = cb.io.read_sbml_model(os.path.join(settings.PROJECT_ROOT,'iCBI','49.SBML','iCBI676.sbml'))\n",
    "isg = cb.io.load_json_model(os.path.join(settings.PROJECT_ROOT,'iSG676','iSG676_cb.json'))"
   ]
  },
  {
   "cell_type": "markdown",
   "metadata": {},
   "source": [
    "# Metabolites"
   ]
  },
  {
   "cell_type": "code",
   "execution_count": 3,
   "metadata": {},
   "outputs": [
    {
     "data": {
      "text/html": [
       "<div>\n",
       "<style scoped>\n",
       "    .dataframe tbody tr th:only-of-type {\n",
       "        vertical-align: middle;\n",
       "    }\n",
       "\n",
       "    .dataframe tbody tr th {\n",
       "        vertical-align: top;\n",
       "    }\n",
       "\n",
       "    .dataframe thead th {\n",
       "        text-align: right;\n",
       "    }\n",
       "</style>\n",
       "<table border=\"1\" class=\"dataframe\">\n",
       "  <thead>\n",
       "    <tr style=\"text-align: right;\">\n",
       "      <th></th>\n",
       "      <th>id</th>\n",
       "      <th>abbreviation</th>\n",
       "      <th>name</th>\n",
       "      <th>formula</th>\n",
       "      <th>mass</th>\n",
       "      <th>source</th>\n",
       "      <th>inchikey</th>\n",
       "      <th>charge</th>\n",
       "      <th>is_core</th>\n",
       "      <th>is_obsolete</th>\n",
       "      <th>linked_compound</th>\n",
       "      <th>is_cofactor</th>\n",
       "      <th>deltag</th>\n",
       "      <th>deltagerr</th>\n",
       "      <th>pka</th>\n",
       "      <th>pkb</th>\n",
       "      <th>abstract_compound</th>\n",
       "      <th>comprised_of</th>\n",
       "      <th>aliases</th>\n",
       "      <th>smiles</th>\n",
       "    </tr>\n",
       "  </thead>\n",
       "  <tbody>\n",
       "    <tr>\n",
       "      <th>0</th>\n",
       "      <td>cpd00001</td>\n",
       "      <td>h2o</td>\n",
       "      <td>H2O</td>\n",
       "      <td>H2O</td>\n",
       "      <td>18.0</td>\n",
       "      <td>ModelSEED</td>\n",
       "      <td>XLYOFNOQVPJJNP-UHFFFAOYSA-N</td>\n",
       "      <td>0</td>\n",
       "      <td>1</td>\n",
       "      <td>0</td>\n",
       "      <td>NaN</td>\n",
       "      <td>0</td>\n",
       "      <td>-56.687</td>\n",
       "      <td>0.50000</td>\n",
       "      <td>01:15.7</td>\n",
       "      <td>1:-1.8</td>\n",
       "      <td>NaN</td>\n",
       "      <td>NaN</td>\n",
       "      <td>NaN</td>\n",
       "      <td>O</td>\n",
       "    </tr>\n",
       "    <tr>\n",
       "      <th>1</th>\n",
       "      <td>cpd00002</td>\n",
       "      <td>atp</td>\n",
       "      <td>ATP</td>\n",
       "      <td>C10H13N5O13P3</td>\n",
       "      <td>504.0</td>\n",
       "      <td>ModelSEED</td>\n",
       "      <td>ZKHQWZAMYRWXGA-KQYNXXCUSA-K</td>\n",
       "      <td>-3</td>\n",
       "      <td>1</td>\n",
       "      <td>0</td>\n",
       "      <td>NaN</td>\n",
       "      <td>0</td>\n",
       "      <td>-673.850</td>\n",
       "      <td>3.04314</td>\n",
       "      <td>26:0.84;22:2.95;14:13.03;29:1.83;30:7.72</td>\n",
       "      <td>15:3.97;14:-3.66;6:-3.48;9:-9.18</td>\n",
       "      <td>NaN</td>\n",
       "      <td>NaN</td>\n",
       "      <td>NaN</td>\n",
       "      <td>O[C@@H]1[C@@H](COP(=O)(OP(=O)(OP(=O)(O)[O-])[O...</td>\n",
       "    </tr>\n",
       "  </tbody>\n",
       "</table>\n",
       "</div>"
      ],
      "text/plain": [
       "         id abbreviation name        formula   mass     source  \\\n",
       "0  cpd00001          h2o  H2O            H2O   18.0  ModelSEED   \n",
       "1  cpd00002          atp  ATP  C10H13N5O13P3  504.0  ModelSEED   \n",
       "\n",
       "                      inchikey  charge  is_core  is_obsolete linked_compound  \\\n",
       "0  XLYOFNOQVPJJNP-UHFFFAOYSA-N       0        1            0             NaN   \n",
       "1  ZKHQWZAMYRWXGA-KQYNXXCUSA-K      -3        1            0             NaN   \n",
       "\n",
       "   is_cofactor   deltag  deltagerr                                       pka  \\\n",
       "0            0  -56.687    0.50000                                   01:15.7   \n",
       "1            0 -673.850    3.04314  26:0.84;22:2.95;14:13.03;29:1.83;30:7.72   \n",
       "\n",
       "                                pkb  abstract_compound  comprised_of  aliases  \\\n",
       "0                            1:-1.8                NaN           NaN      NaN   \n",
       "1  15:3.97;14:-3.66;6:-3.48;9:-9.18                NaN           NaN      NaN   \n",
       "\n",
       "                                              smiles  \n",
       "0                                                  O  \n",
       "1  O[C@@H]1[C@@H](COP(=O)(OP(=O)(OP(=O)(O)[O-])[O...  "
      ]
     },
     "execution_count": 3,
     "metadata": {},
     "output_type": "execute_result"
    }
   ],
   "source": [
    "# abbreviation corresponds to bigg id with some small changes\n",
    "c = pd.read_csv(os.path.join(settings.PROJECT_ROOT,'iCBI','compounds.tsv'), sep='\\t')\n",
    "c.head(2)"
   ]
  },
  {
   "cell_type": "code",
   "execution_count": 4,
   "metadata": {},
   "outputs": [],
   "source": [
    "def ms_to_bigg1(metid):\n",
    "    metid = metid.replace('-','__')\n",
    "    return metid\n",
    "def ms_to_bigg2(metid):\n",
    "    metid = metid.replace('-','_')\n",
    "    return metid\n",
    "\n",
    "c['abbreviation1'] = c['abbreviation'].map(ms_to_bigg1)\n",
    "c['abbreviation2'] = c['abbreviation'].map(ms_to_bigg2)\n",
    "bigg2ms1 = {r.abbreviation1:r.id for i, r in c.iterrows()}\n",
    "bigg2ms2 = {r.abbreviation2:r.id for i, r in c.iterrows()}"
   ]
  },
  {
   "cell_type": "code",
   "execution_count": 5,
   "metadata": {},
   "outputs": [
    {
     "data": {
      "text/plain": [
       "239"
      ]
     },
     "execution_count": 5,
     "metadata": {},
     "output_type": "execute_result"
    }
   ],
   "source": [
    "not_matched = []\n",
    "bigg2ms = {}\n",
    "for met in isg.metabolites:\n",
    "    mid = met.id\n",
    "    comp = mid[-2:]\n",
    "    mid_nc = mid[:-2]\n",
    "    \n",
    "    if mid_nc in bigg2ms1:\n",
    "        bigg2ms[mid_nc] = bigg2ms1[mid_nc]\n",
    "    elif mid_nc in bigg2ms2:\n",
    "        bigg2ms[mid_nc] = bigg2ms2[mid_nc]\n",
    "    else:\n",
    "        not_matched.append(mid_nc)\n",
    "    \n",
    "len(not_matched)"
   ]
  },
  {
   "cell_type": "code",
   "execution_count": 6,
   "metadata": {},
   "outputs": [
    {
     "data": {
      "text/html": [
       "<div>\n",
       "<style scoped>\n",
       "    .dataframe tbody tr th:only-of-type {\n",
       "        vertical-align: middle;\n",
       "    }\n",
       "\n",
       "    .dataframe tbody tr th {\n",
       "        vertical-align: top;\n",
       "    }\n",
       "\n",
       "    .dataframe thead th {\n",
       "        text-align: right;\n",
       "    }\n",
       "</style>\n",
       "<table border=\"1\" class=\"dataframe\">\n",
       "  <thead>\n",
       "    <tr style=\"text-align: right;\">\n",
       "      <th></th>\n",
       "      <th>bigg</th>\n",
       "      <th>ms</th>\n",
       "    </tr>\n",
       "  </thead>\n",
       "  <tbody>\n",
       "    <tr>\n",
       "      <th>0</th>\n",
       "      <td>h2o</td>\n",
       "      <td>cpd00001</td>\n",
       "    </tr>\n",
       "    <tr>\n",
       "      <th>1</th>\n",
       "      <td>atp</td>\n",
       "      <td>cpd00002</td>\n",
       "    </tr>\n",
       "    <tr>\n",
       "      <th>2</th>\n",
       "      <td>nad</td>\n",
       "      <td>cpd00003</td>\n",
       "    </tr>\n",
       "    <tr>\n",
       "      <th>3</th>\n",
       "      <td>nadh</td>\n",
       "      <td>cpd00004</td>\n",
       "    </tr>\n",
       "    <tr>\n",
       "      <th>4</th>\n",
       "      <td>nadph</td>\n",
       "      <td>cpd00005</td>\n",
       "    </tr>\n",
       "  </tbody>\n",
       "</table>\n",
       "</div>"
      ],
      "text/plain": [
       "    bigg        ms\n",
       "0    h2o  cpd00001\n",
       "1    atp  cpd00002\n",
       "2    nad  cpd00003\n",
       "3   nadh  cpd00004\n",
       "4  nadph  cpd00005"
      ]
     },
     "execution_count": 6,
     "metadata": {},
     "output_type": "execute_result"
    }
   ],
   "source": [
    "df = pd.DataFrame({'bigg':list(bigg2ms.keys()), 'ms':list(bigg2ms.values())})\n",
    "df.head()"
   ]
  },
  {
   "cell_type": "code",
   "execution_count": 7,
   "metadata": {},
   "outputs": [],
   "source": [
    "df.to_csv('bigg2ms_met_raw.csv',index=False) # Manual curation will be performed to add relevant unmatched metabolites"
   ]
  },
  {
   "cell_type": "code",
   "execution_count": 8,
   "metadata": {},
   "outputs": [
    {
     "data": {
      "text/plain": [
       "'orn__L        dacephc        sel          cell5          escys          cell5\\ndocylp        dd2coa         selhcys      cell3          adenSCP        cell4\\ncmpacna       6doer          selcyst      acnamp         3hohodcoa      cell3\\nfdxr_42       airb           phser        slac           3osteACP       glceq\\nfdxo_42       neunng         methsel      3hpimcoa       toctd2eACP     btd_M\\nham           cmpglna        cyanh_gen    6cahexecoa     cproc          ppoh \\nudpacgal      am6ohd         cyang_gen    6hch1eccoa     cproccoa       ppoh \\ncdpdag_gen    pgp_gen        3ohexACP     2a3o4pobut     35cdgmp        3mboh\\nquin          3g12dgr_gen    3hhexACP     ribprn         5m24decoa      3mboh\\nrdxr          5a4idca        thex2eACP    thfyglu        5ho5mhe4ecoa \\npglyc_gen     4c5h2od        3ooctACP     hmpscoa        na15dap      \\nsincoa        3hmoa          toct2eACP    bzylsuccoa     6txan5mp     \\nrdxo          but2eACP       3odecACP     2dhc1ccoa      6tgsnmp      \\ncytd          cdp4dh36ddglc  tdec2eACP    ecgon          5flur        \\ncysi__L       omaketo2       deceACP      3ipro6oxhp     5flurimp     \\ncdpglc        n6all26d       3oddecACP    3ipro6oxhpcoa  trnasec      \\ndag_gen       6ipadtrna      3hddecACP    peracd         bdribf       \\n1ag3p_gen     dtpcudcpp      tddec2eACP   percoa         5pg35pg      \\nLargn         3hbutACP       3omrsACP     2hiprchcoa     4hp4hob      \\nb2coa         3hdecACP       tdeceACP     t2m26d         mthsel       \\nhcarn         3hoctACP       3opalmACP    c2m26d         trnacyt      \\nalac          3hpalmACP      hexdACP      t2m26dcoa      trnacc       \\ncephc         6tins5mp       2dmmq_gen    c2m26dcoa      trnacca      \\n3hppnl        3hmrsACP       mercplac     5hfreulcoa     btd_M        \\n3hpp          6hmhptpp       slfcys       egme           pe_gen       \\n4tmeabut      3hbcoa         2coum        pecgon         3mb2cACP     \\ngluside_cho   2ahethmpp      bdg2hc       pecgoncoa      3mbACP       \\ncdp4dh6doglc  im4act         nicrns       bis5hp2ppoh    branch_c13_fa\\nppgpp         ddeacp         fantp        dhxmethstbe    branch_c17_fa\\ngalglsc       3hdcoa         dpntp        udpnaxgalm     pa_gen       \\nchtbs         selmethtrna    4h2oxg       2oh3mthbpyr    dg12dg       \\nhistda        fdp_B          e4hglu       3mthsalaldh    tg12dg       \\nthcys         oxalosucc      clpn_gen     1hdmetnaph     lysphg       \\ncell4         kgal           ppad         1npathal       phtdylser_gen\\ntrnaprec      klac           2hb          2h3carbnzpyr   glu_lta      \\nmylac         3snpyr         acad         3forsal        aglu_lta     \\ncitac         34dhoxpeg      3hivcoa      2naphtal       ala_lta      \\ncyst__L       34dhmald       mmtsa        2ho4homthbpyr  lta          \\nudpidour      5hoxindact     r3mmal       4hymsal        pd_sub       \\nglylcoa       5hoxindoa      ppyr         np2metsuccoa   gly_tea      \\n13ppd         3hpcoa         metheox      np2homsuccoa   agly_tea     \\nshcl          slnt           adpe         adpcoa         glygly_tea   \\npyald         adsel          glutrna_gln  5c2pentcoa     min_tea      \\ncitm          semselcys      asptrna_asn  3hmop          udecan1      \\nnaphmetoh     seahcys        apaop        SCP            udecan2      \\nhgylcoa       3padsel        cell6        ecys           cell6        \\n'"
      ]
     },
     "execution_count": 8,
     "metadata": {},
     "output_type": "execute_result"
    }
   ],
   "source": [
    "# show unmatched\n",
    "columnize(not_matched)"
   ]
  },
  {
   "cell_type": "markdown",
   "metadata": {},
   "source": [
    "# Reactions"
   ]
  },
  {
   "cell_type": "code",
   "execution_count": 9,
   "metadata": {},
   "outputs": [],
   "source": [
    "def nfix(name):\n",
    "    # removes differences in icbi naming\n",
    "    name = name.replace('_c0','')\n",
    "    name = name.replace('_e0','')\n",
    "    return name\n",
    "\n",
    "rxnid = [nfix(r.id) for r in icbi.reactions]\n",
    "\n",
    "# Load curated map \n",
    "ms2bigg_met = {}\n",
    "with open(os.path.join(settings.PROJECT_ROOT, 'iCBI', 'bigg2ms_met.csv'), 'r') as f:\n",
    "    reader = csv.DictReader(f)\n",
    "    for row in reader:\n",
    "        ms2bigg_met[row['ms']] = row['bigg']\n",
    "        \n",
    "def ex_remap(rid):\n",
    "    # converts exchange reaction of the form EX_cpd00001_e0 into EX_h20_e\n",
    "    met_id = rid[3:-3]\n",
    "    if met_id in ms2bigg_met:\n",
    "        return 'EX_{}_e'.format(ms2bigg_met[met_id])\n",
    "    else:\n",
    "        return rid\n",
    "    "
   ]
  },
  {
   "cell_type": "code",
   "execution_count": 10,
   "metadata": {},
   "outputs": [
    {
     "data": {
      "text/plain": [
       "19"
      ]
     },
     "execution_count": 10,
     "metadata": {},
     "output_type": "execute_result"
    }
   ],
   "source": [
    "bigg2ms_rxn = {}\n",
    "unmatched_ms = []\n",
    "for rxn in icbi.reactions:\n",
    "    if rxn.id.startswith('EX_'):\n",
    "        biggid = ex_remap(rxn.id)\n",
    "    else:\n",
    "        biggid = nfix(rxn.id)\n",
    "    try:\n",
    "        r_isg = isg.reactions.get_by_id(biggid)\n",
    "        bigg2ms_rxn[r_isg.id] = rxn.id\n",
    "    except KeyError:\n",
    "        unmatched_ms.append(rxn.id)\n",
    "len(unmatched_ms) "
   ]
  },
  {
   "cell_type": "code",
   "execution_count": 11,
   "metadata": {},
   "outputs": [
    {
     "data": {
      "text/html": [
       "<div>\n",
       "<style scoped>\n",
       "    .dataframe tbody tr th:only-of-type {\n",
       "        vertical-align: middle;\n",
       "    }\n",
       "\n",
       "    .dataframe tbody tr th {\n",
       "        vertical-align: top;\n",
       "    }\n",
       "\n",
       "    .dataframe thead th {\n",
       "        text-align: right;\n",
       "    }\n",
       "</style>\n",
       "<table border=\"1\" class=\"dataframe\">\n",
       "  <thead>\n",
       "    <tr style=\"text-align: right;\">\n",
       "      <th></th>\n",
       "      <th>bigg</th>\n",
       "      <th>ms</th>\n",
       "    </tr>\n",
       "  </thead>\n",
       "  <tbody>\n",
       "    <tr>\n",
       "      <th>0</th>\n",
       "      <td>PPA</td>\n",
       "      <td>PPA_c0</td>\n",
       "    </tr>\n",
       "    <tr>\n",
       "      <th>1</th>\n",
       "      <td>ACLS</td>\n",
       "      <td>ACLS_c0</td>\n",
       "    </tr>\n",
       "    <tr>\n",
       "      <th>2</th>\n",
       "      <td>PDHam1hi</td>\n",
       "      <td>PDHam1hi_c0</td>\n",
       "    </tr>\n",
       "    <tr>\n",
       "      <th>3</th>\n",
       "      <td>ECH</td>\n",
       "      <td>ECH_c0</td>\n",
       "    </tr>\n",
       "    <tr>\n",
       "      <th>4</th>\n",
       "      <td>AHEXASE3</td>\n",
       "      <td>AHEXASE3_c0</td>\n",
       "    </tr>\n",
       "  </tbody>\n",
       "</table>\n",
       "</div>"
      ],
      "text/plain": [
       "       bigg           ms\n",
       "0       PPA       PPA_c0\n",
       "1      ACLS      ACLS_c0\n",
       "2  PDHam1hi  PDHam1hi_c0\n",
       "3       ECH       ECH_c0\n",
       "4  AHEXASE3  AHEXASE3_c0"
      ]
     },
     "execution_count": 11,
     "metadata": {},
     "output_type": "execute_result"
    }
   ],
   "source": [
    "df = pd.DataFrame({'bigg':list(bigg2ms_rxn.keys()), 'ms':list(bigg2ms_rxn.values())})\n",
    "df.to_csv('bigg2ms_rxn_raw.csv',index=False) # Manual curation will be performed to add relevant unmatched metabolites\n",
    "df.head()"
   ]
  },
  {
   "cell_type": "code",
   "execution_count": 12,
   "metadata": {},
   "outputs": [
    {
     "data": {
      "text/plain": [
       "'PFK_3_ppi_c0    EX_3mboh_e_e0   EX_cit_e_e0  EX_cpd02701_c0  EX_cpd03719_e0\\nEX_na1_e_e0     EX_fuc__L_e_e0  EX_g1p_e_e0  EX_cpd03721_e0  EX_cpd01949_e0\\nEX_ppoh_e_e0    EX_glc__D_e_e0  FRDx_c0      EX_cpd01376_e0  EX_cpd11416_c0\\nEX_2mbtoh_e_e0  EX_fru_e_e0     bio1         EX_cpd03720_e0\\n'"
      ]
     },
     "execution_count": 12,
     "metadata": {},
     "output_type": "execute_result"
    }
   ],
   "source": [
    "columnize(unmatched_ms)"
   ]
  }
 ],
 "metadata": {
  "kernelspec": {
   "display_name": "Python 3",
   "language": "python",
   "name": "python3"
  },
  "language_info": {
   "codemirror_mode": {
    "name": "ipython",
    "version": 3
   },
   "file_extension": ".py",
   "mimetype": "text/x-python",
   "name": "python",
   "nbconvert_exporter": "python",
   "pygments_lexer": "ipython3",
   "version": "3.6.5"
  }
 },
 "nbformat": 4,
 "nbformat_minor": 2
}
