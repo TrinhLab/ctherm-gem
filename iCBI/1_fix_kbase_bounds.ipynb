{
 "cells": [
  {
   "cell_type": "code",
   "execution_count": 1,
   "metadata": {},
   "outputs": [],
   "source": [
    "import cobra as cb\n",
    "import pandas as pd"
   ]
  },
  {
   "cell_type": "markdown",
   "metadata": {},
   "source": [
    "# Load data"
   ]
  },
  {
   "cell_type": "code",
   "execution_count": 2,
   "metadata": {},
   "outputs": [
    {
     "data": {
      "text/html": [
       "<div>\n",
       "<style scoped>\n",
       "    .dataframe tbody tr th:only-of-type {\n",
       "        vertical-align: middle;\n",
       "    }\n",
       "\n",
       "    .dataframe tbody tr th {\n",
       "        vertical-align: top;\n",
       "    }\n",
       "\n",
       "    .dataframe thead th {\n",
       "        text-align: right;\n",
       "    }\n",
       "</style>\n",
       "<table border=\"1\" class=\"dataframe\">\n",
       "  <thead>\n",
       "    <tr style=\"text-align: right;\">\n",
       "      <th></th>\n",
       "      <th>id</th>\n",
       "      <th>direction</th>\n",
       "      <th>compartment</th>\n",
       "      <th>gpr</th>\n",
       "      <th>name</th>\n",
       "      <th>pathway</th>\n",
       "      <th>equation</th>\n",
       "      <th>definition</th>\n",
       "      <th>flux</th>\n",
       "      <th>min_flux</th>\n",
       "      <th>lowerbound</th>\n",
       "      <th>max_flux</th>\n",
       "      <th>upperbound</th>\n",
       "    </tr>\n",
       "  </thead>\n",
       "  <tbody>\n",
       "    <tr>\n",
       "      <th>0</th>\n",
       "      <td>PPA_c0</td>\n",
       "      <td>&gt;</td>\n",
       "      <td>Cytosol_0</td>\n",
       "      <td>CLO1313_RS04240_CDS_1</td>\n",
       "      <td>CustomReaction_c0</td>\n",
       "      <td>NaN</td>\n",
       "      <td>(2) cpd00009[c0] + (2) cpd00067[e0] -&gt; (1) cpd...</td>\n",
       "      <td>(2) Phosphate_c0[c0] + (2) H+_e0[e0] -&gt; (1) H2...</td>\n",
       "      <td>0.000000</td>\n",
       "      <td>0.00000</td>\n",
       "      <td>0</td>\n",
       "      <td>38.7169</td>\n",
       "      <td>1000</td>\n",
       "    </tr>\n",
       "    <tr>\n",
       "      <th>1</th>\n",
       "      <td>ACLS_c0</td>\n",
       "      <td>&lt;</td>\n",
       "      <td>Cytosol_0</td>\n",
       "      <td>((CLO1313_RS00530_CDS_1 and CLO1313_RS00535_CD...</td>\n",
       "      <td>pyruvate:pyruvate acetaldehydetransferase (dec...</td>\n",
       "      <td>NaN</td>\n",
       "      <td>(1) cpd00011[c0] + (1) cpd00668[c0] &lt;- (2) cpd...</td>\n",
       "      <td>(1) CO2_c0[c0] + (1) ALCTT_c0[c0] &lt;- (2) Pyruv...</td>\n",
       "      <td>-0.394004</td>\n",
       "      <td>-7.65257</td>\n",
       "      <td>-1000</td>\n",
       "      <td>0.0000</td>\n",
       "      <td>0</td>\n",
       "    </tr>\n",
       "  </tbody>\n",
       "</table>\n",
       "</div>"
      ],
      "text/plain": [
       "        id direction compartment  \\\n",
       "0   PPA_c0         >   Cytosol_0   \n",
       "1  ACLS_c0         <   Cytosol_0   \n",
       "\n",
       "                                                 gpr  \\\n",
       "0                              CLO1313_RS04240_CDS_1   \n",
       "1  ((CLO1313_RS00530_CDS_1 and CLO1313_RS00535_CD...   \n",
       "\n",
       "                                                name  pathway  \\\n",
       "0                                  CustomReaction_c0      NaN   \n",
       "1  pyruvate:pyruvate acetaldehydetransferase (dec...      NaN   \n",
       "\n",
       "                                            equation  \\\n",
       "0  (2) cpd00009[c0] + (2) cpd00067[e0] -> (1) cpd...   \n",
       "1  (1) cpd00011[c0] + (1) cpd00668[c0] <- (2) cpd...   \n",
       "\n",
       "                                          definition      flux  min_flux  \\\n",
       "0  (2) Phosphate_c0[c0] + (2) H+_e0[e0] -> (1) H2...  0.000000   0.00000   \n",
       "1  (1) CO2_c0[c0] + (1) ALCTT_c0[c0] <- (2) Pyruv... -0.394004  -7.65257   \n",
       "\n",
       "   lowerbound  max_flux  upperbound  \n",
       "0           0   38.7169        1000  \n",
       "1       -1000    0.0000           0  "
      ]
     },
     "execution_count": 2,
     "metadata": {},
     "output_type": "execute_result"
    }
   ],
   "source": [
    "rxn_bounds = pd.read_excel('fba_result.xls','ModelReactions')\n",
    "rxn_bounds.head(2)"
   ]
  },
  {
   "cell_type": "code",
   "execution_count": 3,
   "metadata": {},
   "outputs": [
    {
     "data": {
      "text/html": [
       "<div>\n",
       "<style scoped>\n",
       "    .dataframe tbody tr th:only-of-type {\n",
       "        vertical-align: middle;\n",
       "    }\n",
       "\n",
       "    .dataframe tbody tr th {\n",
       "        vertical-align: top;\n",
       "    }\n",
       "\n",
       "    .dataframe thead th {\n",
       "        text-align: right;\n",
       "    }\n",
       "</style>\n",
       "<table border=\"1\" class=\"dataframe\">\n",
       "  <thead>\n",
       "    <tr style=\"text-align: right;\">\n",
       "      <th></th>\n",
       "      <th>id</th>\n",
       "      <th>name</th>\n",
       "      <th>formula</th>\n",
       "      <th>charge</th>\n",
       "      <th>compartment</th>\n",
       "      <th>uptake</th>\n",
       "      <th>min_uptake</th>\n",
       "      <th>lowerbound</th>\n",
       "      <th>max_uptake</th>\n",
       "      <th>upperbound</th>\n",
       "    </tr>\n",
       "  </thead>\n",
       "  <tbody>\n",
       "    <tr>\n",
       "      <th>0</th>\n",
       "      <td>cpd00067_e0</td>\n",
       "      <td>H+_e0</td>\n",
       "      <td>H</td>\n",
       "      <td>1</td>\n",
       "      <td>NaN</td>\n",
       "      <td>-30.6327</td>\n",
       "      <td>-70.3818</td>\n",
       "      <td>-1000</td>\n",
       "      <td>8.89272</td>\n",
       "      <td>1000</td>\n",
       "    </tr>\n",
       "    <tr>\n",
       "      <th>1</th>\n",
       "      <td>cpd02701_c0</td>\n",
       "      <td>S-Adenosyl-4-methylthio-2-oxobutanoate_c0</td>\n",
       "      <td>C15H19N5O6S</td>\n",
       "      <td>0</td>\n",
       "      <td>NaN</td>\n",
       "      <td>0.0000</td>\n",
       "      <td>0.0000</td>\n",
       "      <td>-1000</td>\n",
       "      <td>0.00000</td>\n",
       "      <td>0</td>\n",
       "    </tr>\n",
       "  </tbody>\n",
       "</table>\n",
       "</div>"
      ],
      "text/plain": [
       "            id                                       name      formula  \\\n",
       "0  cpd00067_e0                                      H+_e0            H   \n",
       "1  cpd02701_c0  S-Adenosyl-4-methylthio-2-oxobutanoate_c0  C15H19N5O6S   \n",
       "\n",
       "   charge  compartment   uptake  min_uptake  lowerbound  max_uptake  \\\n",
       "0       1          NaN -30.6327    -70.3818       -1000     8.89272   \n",
       "1       0          NaN   0.0000      0.0000       -1000     0.00000   \n",
       "\n",
       "   upperbound  \n",
       "0        1000  \n",
       "1           0  "
      ]
     },
     "execution_count": 3,
     "metadata": {},
     "output_type": "execute_result"
    }
   ],
   "source": [
    "ex_bounds = pd.read_excel('fba_result.xls','ModelCompounds')\n",
    "ex_bounds.head(2)"
   ]
  },
  {
   "cell_type": "markdown",
   "metadata": {},
   "source": [
    "# Update bounds of normal and exchange reactions"
   ]
  },
  {
   "cell_type": "code",
   "execution_count": 4,
   "metadata": {},
   "outputs": [],
   "source": [
    "#load model\n",
    "model = cb.io.read_sbml_model('iCBI676.xml')\n",
    "\n",
    "# non-exchange reactions\n",
    "for idx, row in rxn_bounds.iterrows():\n",
    "    good_id = row['id'].replace('-','_')\n",
    "    rxn = model.reactions.get_by_id(good_id)\n",
    "    if (row['lowerbound'] == -1000) and (row['upperbound'] == 0): # The reaction is irreversible but described in the oposite direction\n",
    "        rxn.lower_bound = row['upperbound']\n",
    "        rxn.upper_bound = -row['lowerbound']\n",
    "    else:\n",
    "        rxn.lower_bound = row['lowerbound']\n",
    "        rxn.upper_bound = row['upperbound']\n",
    "\n",
    "#exchanges\n",
    "for idx, row in ex_bounds.iterrows():\n",
    "    rxn_id = 'EX_{}'.format(row['id'])\n",
    "   # if row['name'] is 'Biomass_c0': # Ignore biomass exchange\n",
    "    #    pass\n",
    "    if rxn_id in model.reactions:\n",
    "        rxn = model.reactions.get_by_id(rxn_id)\n",
    "        rxn.lower_bound = -float(row['upperbound'])\n",
    "        rxn.upper_bound =  -float(row['lowerbound'])\n",
    "    else:\n",
    "        print('Reaction {} not present in the model'.format(rxn_id))"
   ]
  },
  {
   "cell_type": "markdown",
   "metadata": {},
   "source": [
    "# Update biomass objective function"
   ]
  },
  {
   "cell_type": "code",
   "execution_count": 5,
   "metadata": {},
   "outputs": [],
   "source": [
    "model.objective = 'BIOMASS_CELLOBIOSE_c0'"
   ]
  },
  {
   "cell_type": "markdown",
   "metadata": {},
   "source": [
    "# Check that growth is now predicted correctly and save model"
   ]
  },
  {
   "cell_type": "code",
   "execution_count": 6,
   "metadata": {},
   "outputs": [
    {
     "name": "stdout",
     "output_type": "stream",
     "text": [
      "IN FLUXES             OUT FLUXES            OBJECTIVES\n",
      "--------------------  --------------------  ----------------------\n",
      "cpd00001_e0  4.93     cpd11640_e0  18.4     BIOMASS_CELL...  0.674\n",
      "cpd00158_e0  4        cpd00067_e0  13.8\n",
      "cpd00073_e0  2.28     cpd00011_e0  12.9\n",
      "cpd00205_e0  0.641    cpd00029_e0   8.06\n",
      "cpd00009_e0  0.536    cpd00069_e0   0.0182\n",
      "cpd00254_e0  0.0923\n",
      "cpd00048_e0  0.0871\n",
      "cpd10516_e0  0.00313\n",
      "cpd00063_e0  0.00291\n"
     ]
    }
   ],
   "source": [
    "model.optimize()\n",
    "model.summary()"
   ]
  },
  {
   "cell_type": "code",
   "execution_count": 7,
   "metadata": {},
   "outputs": [],
   "source": [
    "cb.io.write_sbml_model(model,'iCBI665_v2.sbml')"
   ]
  }
 ],
 "metadata": {
  "kernelspec": {
   "display_name": "Python 3",
   "language": "python",
   "name": "python3"
  },
  "language_info": {
   "codemirror_mode": {
    "name": "ipython",
    "version": 3
   },
   "file_extension": ".py",
   "mimetype": "text/x-python",
   "name": "python",
   "nbconvert_exporter": "python",
   "pygments_lexer": "ipython3",
   "version": "3.6.5"
  }
 },
 "nbformat": 4,
 "nbformat_minor": 2
}
