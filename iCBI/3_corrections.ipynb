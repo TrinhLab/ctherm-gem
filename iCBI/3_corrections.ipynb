{
 "cells": [
  {
   "cell_type": "markdown",
   "metadata": {},
   "source": [
    "# The goal of this notebook is to fix issues with duplicated reactions and other incositencies\n",
    "- Also, Reaction and metabolite notes metadata which was lost by KBASE will be re-added"
   ]
  },
  {
   "cell_type": "code",
   "execution_count": 1,
   "metadata": {},
   "outputs": [],
   "source": [
    "%matplotlib inline\n",
    "import os\n",
    "import sys\n",
    "sys.path.append('/home/sergio/Dropbox/s/cthermgem-dev')\n",
    "sys.path.append('C:\\\\Users\\\\sergio\\\\Dropbox\\\\s\\\\cthermgem-dev\\\\')\n",
    "\n",
    "import cobra as cb\n",
    "import tools.ms2bigg\n",
    "import settings"
   ]
  },
  {
   "cell_type": "code",
   "execution_count": 2,
   "metadata": {},
   "outputs": [],
   "source": [
    "model_ms = cb.io.read_sbml_model(os.path.join(settings.PROJECT_ROOT,'iCBI','iCBI665_v3.sbml'))\n",
    "model = tools.ms2bigg.main(model_ms)"
   ]
  },
  {
   "cell_type": "markdown",
   "metadata": {},
   "source": [
    "# Consolidate reactions present in separately in both directions\n",
    "I spotted the case of GRTT and FRTT, the same reaction  but in different directions, coded by the same gene. To avoid TICs this should be a reversible reaction.\n",
    "Let's do the analysis in a systematic way\n"
   ]
  },
  {
   "cell_type": "code",
   "execution_count": 3,
   "metadata": {},
   "outputs": [
    {
     "name": "stdout",
     "output_type": "stream",
     "text": [
      "{'PGCM', 'PGMT'}\n",
      "{'GRTT', 'FRTT'}\n",
      "{'NA1abc', 'ATPM'}\n",
      "{'ATPM', 'FUCabc'}\n",
      "{'GLCabc', 'ATPM'}\n",
      "{'ATPM', 'SBTabc'}\n",
      "{'FRUabc', 'ATPM'}\n",
      "{'NA1abc', 'FUCabc'}\n",
      "{'GLCabc', 'NA1abc'}\n",
      "{'NA1abc', 'SBTabc'}\n",
      "{'FRUabc', 'NA1abc'}\n",
      "{'GLCabc', 'FUCabc'}\n",
      "{'SBTabc', 'FUCabc'}\n",
      "{'FRUabc', 'FUCabc'}\n",
      "{'GLCabc', 'SBTabc'}\n",
      "{'GLCabc', 'FRUabc'}\n",
      "{'FRUabc', 'SBTabc'}\n",
      "{'BIOMASS_CELLULOSE', 'BIOMASS_CELLOBIOSE'}\n",
      "{'BIOMASS_NO_CELLULOSOME', 'BIOMASS_CELLULOSE'}\n",
      "{'BIOMASS_NO_CELLULOSOME', 'BIOMASS_CELLOBIOSE'}\n"
     ]
    }
   ],
   "source": [
    "same_mets = []\n",
    "for rxn_1 in model.reactions:\n",
    "    met_ids_1 = [met.id for met in rxn_1.metabolites.keys()]\n",
    "    for rxn_2 in model.reactions:\n",
    "        met_ids_2 = [met.id for met in rxn_2.metabolites.keys()]\n",
    "        if rxn_1.id != rxn_2.id:\n",
    "            if set(met_ids_1) == set(met_ids_2):\n",
    "                pair = {rxn_1.id, rxn_2.id}\n",
    "                if pair not in same_mets:\n",
    "                    same_mets.append(pair)\n",
    "                    print(pair)\n"
   ]
  },
  {
   "cell_type": "markdown",
   "metadata": {},
   "source": [
    "- PGMT-PGMC and FRTT-GRTT seem to be actual cases of duplication.\n",
    "- ATPM and abc transporter point at an issue with abc trasnporters lacking the metabolite they should translocate\n",
    "- BIOMASS reactions are \"false positives\" since they are expected to have the same metabolties."
   ]
  },
  {
   "cell_type": "code",
   "execution_count": 4,
   "metadata": {},
   "outputs": [],
   "source": [
    "isg = cb.io.load_json_model(os.path.join(settings.PROJECT_ROOT,'iSG676','iSG676_cb.json'))"
   ]
  },
  {
   "cell_type": "code",
   "execution_count": 5,
   "metadata": {},
   "outputs": [
    {
     "data": {
      "text/plain": [
       "'atp_c + h2o_c --> adp_c + h_c + pi_c'"
      ]
     },
     "execution_count": 5,
     "metadata": {},
     "output_type": "execute_result"
    }
   ],
   "source": [
    "model.reactions.GLCabc.reaction"
   ]
  },
  {
   "cell_type": "code",
   "execution_count": 6,
   "metadata": {},
   "outputs": [
    {
     "data": {
      "text/plain": [
       "'atp_c + glc__D_e + h2o_c --> adp_c + glc__D_c + h_c + pi_c'"
      ]
     },
     "execution_count": 6,
     "metadata": {},
     "output_type": "execute_result"
    }
   ],
   "source": [
    "isg.reactions.GLCabc.reaction"
   ]
  },
  {
   "cell_type": "markdown",
   "metadata": {},
   "source": [
    "The issue with sugar ABC transporters was introduced somwhere along the conversion from iSG to iCBI"
   ]
  },
  {
   "cell_type": "markdown",
   "metadata": {},
   "source": [
    "# Fix real duplicates"
   ]
  },
  {
   "cell_type": "code",
   "execution_count": 7,
   "metadata": {},
   "outputs": [
    {
     "data": {
      "text/html": [
       "\n",
       "        <table>\n",
       "            <tr>\n",
       "                <td><strong>Reaction identifier</strong></td><td>PGMT</td>\n",
       "            </tr><tr>\n",
       "                <td><strong>Name</strong></td><td>alpha_D_Glucose_1_phosphate_1_6_phosphomutase_c0</td>\n",
       "            </tr><tr>\n",
       "                <td><strong>Memory address</strong></td>\n",
       "                <td>0x07fa9f4282748</td>\n",
       "            </tr><tr>\n",
       "                <td><strong>Stoichiometry</strong></td>\n",
       "                <td>\n",
       "                    <p style='text-align:right'>g1p_c <=> g6p_c</p>\n",
       "                    <p style='text-align:right'>Glucose_1_phosphate_c0 <=> D_glucose_6_phosphate_c0</p>\n",
       "                </td>\n",
       "            </tr><tr>\n",
       "                <td><strong>GPR</strong></td><td>CLO1313_RS05070</td>\n",
       "            </tr><tr>\n",
       "                <td><strong>Lower bound</strong></td><td>-1000.0</td>\n",
       "            </tr><tr>\n",
       "                <td><strong>Upper bound</strong></td><td>1000.0</td>\n",
       "            </tr>\n",
       "        </table>\n",
       "        "
      ],
      "text/plain": [
       "<Reaction PGMT at 0x7fa9f4282748>"
      ]
     },
     "execution_count": 7,
     "metadata": {},
     "output_type": "execute_result"
    }
   ],
   "source": [
    "model.reactions.PGMT"
   ]
  },
  {
   "cell_type": "code",
   "execution_count": 8,
   "metadata": {},
   "outputs": [
    {
     "data": {
      "text/html": [
       "\n",
       "        <table>\n",
       "            <tr>\n",
       "                <td><strong>Reaction identifier</strong></td><td>PGCM</td>\n",
       "            </tr><tr>\n",
       "                <td><strong>Name</strong></td><td>alpha_D_Glucose_1_phosphate_1_6_phosphomutase_c0</td>\n",
       "            </tr><tr>\n",
       "                <td><strong>Memory address</strong></td>\n",
       "                <td>0x07fa9f45f5ac8</td>\n",
       "            </tr><tr>\n",
       "                <td><strong>Stoichiometry</strong></td>\n",
       "                <td>\n",
       "                    <p style='text-align:right'>g1p_c <=> g6p_c</p>\n",
       "                    <p style='text-align:right'>Glucose_1_phosphate_c0 <=> D_glucose_6_phosphate_c0</p>\n",
       "                </td>\n",
       "            </tr><tr>\n",
       "                <td><strong>GPR</strong></td><td>CLO1313_RS05070</td>\n",
       "            </tr><tr>\n",
       "                <td><strong>Lower bound</strong></td><td>-1000.0</td>\n",
       "            </tr><tr>\n",
       "                <td><strong>Upper bound</strong></td><td>1000.0</td>\n",
       "            </tr>\n",
       "        </table>\n",
       "        "
      ],
      "text/plain": [
       "<Reaction PGCM at 0x7fa9f45f5ac8>"
      ]
     },
     "execution_count": 8,
     "metadata": {},
     "output_type": "execute_result"
    }
   ],
   "source": [
    "model.reactions.PGCM"
   ]
  },
  {
   "cell_type": "markdown",
   "metadata": {},
   "source": [
    "Both reactions are the same, PGCM is less common"
   ]
  },
  {
   "cell_type": "code",
   "execution_count": 9,
   "metadata": {},
   "outputs": [],
   "source": [
    "model.reactions.PGCM.delete()"
   ]
  },
  {
   "cell_type": "code",
   "execution_count": 10,
   "metadata": {},
   "outputs": [
    {
     "data": {
      "text/html": [
       "\n",
       "        <table>\n",
       "            <tr>\n",
       "                <td><strong>Reaction identifier</strong></td><td>GRTT</td>\n",
       "            </tr><tr>\n",
       "                <td><strong>Name</strong></td><td>CustomReaction_c0</td>\n",
       "            </tr><tr>\n",
       "                <td><strong>Memory address</strong></td>\n",
       "                <td>0x07fa9f44e3198</td>\n",
       "            </tr><tr>\n",
       "                <td><strong>Stoichiometry</strong></td>\n",
       "                <td>\n",
       "                    <p style='text-align:right'>ggdp_c + ipdp_c --> frdp_c + h_c + ppi_c</p>\n",
       "                    <p style='text-align:right'>Geranylgeranyl_diphosphate_c0 + Isopentenyldiphosphate_c0 --> Farnesyldiphosphate_c0 + H_plus__c0 + PPi_c0</p>\n",
       "                </td>\n",
       "            </tr><tr>\n",
       "                <td><strong>GPR</strong></td><td>CLO1313_RS07040</td>\n",
       "            </tr><tr>\n",
       "                <td><strong>Lower bound</strong></td><td>0.0</td>\n",
       "            </tr><tr>\n",
       "                <td><strong>Upper bound</strong></td><td>1000.0</td>\n",
       "            </tr>\n",
       "        </table>\n",
       "        "
      ],
      "text/plain": [
       "<Reaction GRTT at 0x7fa9f44e3198>"
      ]
     },
     "execution_count": 10,
     "metadata": {},
     "output_type": "execute_result"
    }
   ],
   "source": [
    "model.reactions.GRTT"
   ]
  },
  {
   "cell_type": "code",
   "execution_count": 11,
   "metadata": {},
   "outputs": [
    {
     "data": {
      "text/html": [
       "\n",
       "        <table>\n",
       "            <tr>\n",
       "                <td><strong>Reaction identifier</strong></td><td>FRTT</td>\n",
       "            </tr><tr>\n",
       "                <td><strong>Name</strong></td><td>trans_trans_Farnesyl_diphosphate_isopentenyl_diphosphate_farnesyltranstransferase_c0</td>\n",
       "            </tr><tr>\n",
       "                <td><strong>Memory address</strong></td>\n",
       "                <td>0x07fa9f44fd588</td>\n",
       "            </tr><tr>\n",
       "                <td><strong>Stoichiometry</strong></td>\n",
       "                <td>\n",
       "                    <p style='text-align:right'>frdp_c + ipdp_c --> ggdp_c + h_c + ppi_c</p>\n",
       "                    <p style='text-align:right'>Farnesyldiphosphate_c0 + Isopentenyldiphosphate_c0 --> Geranylgeranyl_diphosphate_c0 + H_plus__c0 + PPi_c0</p>\n",
       "                </td>\n",
       "            </tr><tr>\n",
       "                <td><strong>GPR</strong></td><td>CLO1313_RS07040</td>\n",
       "            </tr><tr>\n",
       "                <td><strong>Lower bound</strong></td><td>0.0</td>\n",
       "            </tr><tr>\n",
       "                <td><strong>Upper bound</strong></td><td>1000.0</td>\n",
       "            </tr>\n",
       "        </table>\n",
       "        "
      ],
      "text/plain": [
       "<Reaction FRTT at 0x7fa9f44fd588>"
      ]
     },
     "execution_count": 11,
     "metadata": {},
     "output_type": "execute_result"
    }
   ],
   "source": [
    "model.reactions.FRTT"
   ]
  },
  {
   "cell_type": "markdown",
   "metadata": {},
   "source": [
    "These correspond to the same reaction in two different directions, consolidate into one reversible reaction."
   ]
  },
  {
   "cell_type": "code",
   "execution_count": 12,
   "metadata": {},
   "outputs": [],
   "source": [
    "model.reactions.GRTT.delete()\n",
    "model.reactions.FRTT.bounds = (-1000,1000)"
   ]
  },
  {
   "cell_type": "markdown",
   "metadata": {},
   "source": [
    "# Fix abc transporters"
   ]
  },
  {
   "cell_type": "markdown",
   "metadata": {},
   "source": [
    "Based on the above analysis, the following need to be fixed:\n",
    "- NA1abc\n",
    "- FUCabc\n",
    "- GLCabc\n",
    "- SBTabc\n",
    "- FRUabc\n",
    "The name of these reactions was also changed to ATP_phosphohydrolase_c0, so the error might have been introduced by KBase\n",
    "Additionally, the metabolites involved had been added exchange reactions that directly interact with the cytosolic species. These need to be removed:"
   ]
  },
  {
   "cell_type": "code",
   "execution_count": 13,
   "metadata": {},
   "outputs": [
    {
     "data": {
      "text/plain": [
       "frozenset({<Reaction EX_na1_e_e0 at 0x7fa9f414dd30>,\n",
       "           <Reaction PPAna at 0x7fa9f413c048>})"
      ]
     },
     "execution_count": 13,
     "metadata": {},
     "output_type": "execute_result"
    }
   ],
   "source": [
    "model.metabolites.na1_c.reactions"
   ]
  },
  {
   "cell_type": "code",
   "execution_count": 14,
   "metadata": {},
   "outputs": [
    {
     "data": {
      "text/html": [
       "\n",
       "        <table>\n",
       "            <tr>\n",
       "                <td><strong>Reaction identifier</strong></td><td>EX_na1_e_e0</td>\n",
       "            </tr><tr>\n",
       "                <td><strong>Name</strong></td><td>CustomReaction_e0</td>\n",
       "            </tr><tr>\n",
       "                <td><strong>Memory address</strong></td>\n",
       "                <td>0x07fa9f414dd30</td>\n",
       "            </tr><tr>\n",
       "                <td><strong>Stoichiometry</strong></td>\n",
       "                <td>\n",
       "                    <p style='text-align:right'>na1_c <=> </p>\n",
       "                    <p style='text-align:right'>Na_plus__c0 <=> </p>\n",
       "                </td>\n",
       "            </tr><tr>\n",
       "                <td><strong>GPR</strong></td><td>U</td>\n",
       "            </tr><tr>\n",
       "                <td><strong>Lower bound</strong></td><td>-1000.0</td>\n",
       "            </tr><tr>\n",
       "                <td><strong>Upper bound</strong></td><td>1000.0</td>\n",
       "            </tr>\n",
       "        </table>\n",
       "        "
      ],
      "text/plain": [
       "<Reaction EX_na1_e_e0 at 0x7fa9f414dd30>"
      ]
     },
     "execution_count": 14,
     "metadata": {},
     "output_type": "execute_result"
    }
   ],
   "source": [
    "model.reactions.EX_na1_e_e0"
   ]
  },
  {
   "cell_type": "markdown",
   "metadata": {},
   "source": [
    "Additionally, some are reversible and some are irreversible, this will not be modified now. "
   ]
  },
  {
   "cell_type": "markdown",
   "metadata": {},
   "source": [
    "### NA1abc"
   ]
  },
  {
   "cell_type": "code",
   "execution_count": 15,
   "metadata": {},
   "outputs": [
    {
     "data": {
      "text/plain": [
       "'atp_c + h2o_c + na1_e --> adp_c + h_c + na1_c + pi_c'"
      ]
     },
     "execution_count": 15,
     "metadata": {},
     "output_type": "execute_result"
    }
   ],
   "source": [
    "model.reactions.EX_na1_e_e0.delete()\n",
    "# sodium exchange already exsists and thus is not added\n",
    "rxn_id = 'NA1abc'\n",
    "mets = {}\n",
    "mets[model.metabolites.na1_c] = 1\n",
    "mets[model.metabolites.na1_e] = -1\n",
    "model.reactions.get_by_id(rxn_id).add_metabolites(mets) \n",
    "model.reactions.get_by_id(rxn_id).name = 'Sodium transport via ABC system'\n",
    "model.reactions.get_by_id(rxn_id).reaction\n"
   ]
  },
  {
   "cell_type": "markdown",
   "metadata": {},
   "source": [
    "### FUCabc\n"
   ]
  },
  {
   "cell_type": "code",
   "execution_count": 16,
   "metadata": {},
   "outputs": [
    {
     "data": {
      "text/html": [
       "\n",
       "        <table>\n",
       "            <tr>\n",
       "                <td><strong>Metabolite identifier</strong></td><td>fuc__L_c</td>\n",
       "            </tr><tr>\n",
       "                <td><strong>Name</strong></td><td>L_Fucose_c0</td>\n",
       "            </tr><tr>\n",
       "                <td><strong>Memory address</strong></td>\n",
       "                <td>0x07fa9f4800080</td>\n",
       "            </tr><tr>\n",
       "                <td><strong>Formula</strong></td><td>None</td>\n",
       "            </tr><tr>\n",
       "                <td><strong>Compartment</strong></td><td>c0</td>\n",
       "            </tr><tr>\n",
       "                <td><strong>In 2 reaction(s)</strong></td><td>\n",
       "                    FCLK, EX_fuc__L_e</td>\n",
       "            </tr>\n",
       "        </table>"
      ],
      "text/plain": [
       "<Metabolite fuc__L_c at 0x7fa9f4800080>"
      ]
     },
     "execution_count": 16,
     "metadata": {},
     "output_type": "execute_result"
    }
   ],
   "source": [
    "internal = model.metabolites.fuc__L_c\n",
    "internal"
   ]
  },
  {
   "cell_type": "code",
   "execution_count": 17,
   "metadata": {},
   "outputs": [],
   "source": [
    "external = cb.Metabolite(id='fuc__L_e',formula=internal.formula,name=internal.name,compartment='e0',charge=internal.charge)\n",
    "model.add_metabolites(external)"
   ]
  },
  {
   "cell_type": "code",
   "execution_count": 18,
   "metadata": {},
   "outputs": [
    {
     "data": {
      "text/plain": [
       "'atp_c + fuc__L_e + h2o_c --> adp_c + fuc__L_c + h_c + pi_c'"
      ]
     },
     "execution_count": 18,
     "metadata": {},
     "output_type": "execute_result"
    }
   ],
   "source": [
    "model.reactions.EX_fuc__L_e.delete()\n",
    "ex = model.add_boundary(external, lb=0) # lb not working here\n",
    "ex.lower_bound = 0\n",
    "rxn_id = 'FUCabc'\n",
    "mets = {}\n",
    "mets[model.metabolites.fuc__L_c] = 1\n",
    "mets[model.metabolites.fuc__L_e] = -1\n",
    "\n",
    "model.reactions.get_by_id(rxn_id).add_metabolites(mets) \n",
    "model.reactions.get_by_id(rxn_id).name = 'Fucose transport via ABC system'\n",
    "model.reactions.get_by_id(rxn_id).reaction\n"
   ]
  },
  {
   "cell_type": "markdown",
   "metadata": {},
   "source": [
    "### GLCabc"
   ]
  },
  {
   "cell_type": "code",
   "execution_count": 19,
   "metadata": {},
   "outputs": [
    {
     "data": {
      "text/html": [
       "\n",
       "        <table>\n",
       "            <tr>\n",
       "                <td><strong>Metabolite identifier</strong></td><td>glc__D_c</td>\n",
       "            </tr><tr>\n",
       "                <td><strong>Name</strong></td><td>D_Glucose_c0</td>\n",
       "            </tr><tr>\n",
       "                <td><strong>Memory address</strong></td>\n",
       "                <td>0x07fa9f77b4e48</td>\n",
       "            </tr><tr>\n",
       "                <td><strong>Formula</strong></td><td>None</td>\n",
       "            </tr><tr>\n",
       "                <td><strong>Compartment</strong></td><td>c0</td>\n",
       "            </tr><tr>\n",
       "                <td><strong>In 9 reaction(s)</strong></td><td>\n",
       "                    CEPA, LACZ, BDG2HCGHD, EX_glc__D_e, HEX1, CGGH, CLBH, KLCGH, ABGPT</td>\n",
       "            </tr>\n",
       "        </table>"
      ],
      "text/plain": [
       "<Metabolite glc__D_c at 0x7fa9f77b4e48>"
      ]
     },
     "execution_count": 19,
     "metadata": {},
     "output_type": "execute_result"
    }
   ],
   "source": [
    "internal = model.metabolites.glc__D_c\n",
    "internal"
   ]
  },
  {
   "cell_type": "code",
   "execution_count": 20,
   "metadata": {},
   "outputs": [],
   "source": [
    "external = cb.Metabolite(id='glc__D_e',formula=internal.formula,name=internal.name,compartment='e0',charge=internal.charge)\n",
    "model.add_metabolites(external)"
   ]
  },
  {
   "cell_type": "code",
   "execution_count": 21,
   "metadata": {},
   "outputs": [
    {
     "data": {
      "text/plain": [
       "'atp_c + glc__D_e + h2o_c --> adp_c + glc__D_c + h_c + pi_c'"
      ]
     },
     "execution_count": 21,
     "metadata": {},
     "output_type": "execute_result"
    }
   ],
   "source": [
    "model.reactions.EX_glc__D_e.delete()\n",
    "ex = model.add_boundary(external, lb=0)\n",
    "ex.lower_bound = 0\n",
    "\n",
    "rxn_id = 'GLCabc'\n",
    "mets = {}\n",
    "mets[model.metabolites.glc__D_c] = 1\n",
    "mets[model.metabolites.glc__D_e] = -1\n",
    "\n",
    "model.reactions.get_by_id(rxn_id).add_metabolites(mets) \n",
    "model.reactions.get_by_id(rxn_id).name = 'Glucose transport via ABC system'\n",
    "model.reactions.get_by_id(rxn_id).reaction"
   ]
  },
  {
   "cell_type": "markdown",
   "metadata": {},
   "source": [
    "### SBTabc"
   ]
  },
  {
   "cell_type": "code",
   "execution_count": 22,
   "metadata": {},
   "outputs": [
    {
     "data": {
      "text/html": [
       "\n",
       "        <table>\n",
       "            <tr>\n",
       "                <td><strong>Metabolite identifier</strong></td><td>sbt__D_c</td>\n",
       "            </tr><tr>\n",
       "                <td><strong>Name</strong></td><td>Sorbitol_c0</td>\n",
       "            </tr><tr>\n",
       "                <td><strong>Memory address</strong></td>\n",
       "                <td>0x07fa9f7775278</td>\n",
       "            </tr><tr>\n",
       "                <td><strong>Formula</strong></td><td>None</td>\n",
       "            </tr><tr>\n",
       "                <td><strong>Compartment</strong></td><td>c0</td>\n",
       "            </tr><tr>\n",
       "                <td><strong>In 2 reaction(s)</strong></td><td>\n",
       "                    SBTD_D2, Ex_sbt__D_e</td>\n",
       "            </tr>\n",
       "        </table>"
      ],
      "text/plain": [
       "<Metabolite sbt__D_c at 0x7fa9f7775278>"
      ]
     },
     "execution_count": 22,
     "metadata": {},
     "output_type": "execute_result"
    }
   ],
   "source": [
    "internal = model.metabolites.sbt__D_c\n",
    "internal"
   ]
  },
  {
   "cell_type": "code",
   "execution_count": 23,
   "metadata": {},
   "outputs": [],
   "source": [
    "external = cb.Metabolite(id='sbt__D_e',formula=internal.formula,name=internal.name,compartment='e0',charge=internal.charge)\n",
    "model.add_metabolites(external)"
   ]
  },
  {
   "cell_type": "code",
   "execution_count": 24,
   "metadata": {},
   "outputs": [
    {
     "data": {
      "text/plain": [
       "'atp_c + h2o_c + sbt__D_e --> adp_c + h_c + pi_c + sbt__D_c'"
      ]
     },
     "execution_count": 24,
     "metadata": {},
     "output_type": "execute_result"
    }
   ],
   "source": [
    "model.reactions.Ex_sbt__D_e.delete()\n",
    "ex = model.add_boundary(external, lb=0)\n",
    "ex.lower_bound = 0\n",
    "\n",
    "rxn_id = 'SBTabc'\n",
    "mets = {}\n",
    "mets[model.metabolites.sbt__D_c] = 1\n",
    "mets[model.metabolites.sbt__D_e] = -1\n",
    "\n",
    "model.reactions.get_by_id(rxn_id).add_metabolites(mets) \n",
    "model.reactions.get_by_id(rxn_id).name = 'Sorbitol transport via ABC system'\n",
    "model.reactions.get_by_id(rxn_id).reaction"
   ]
  },
  {
   "cell_type": "markdown",
   "metadata": {},
   "source": [
    "### FRUabc"
   ]
  },
  {
   "cell_type": "code",
   "execution_count": 25,
   "metadata": {},
   "outputs": [
    {
     "data": {
      "text/html": [
       "\n",
       "        <table>\n",
       "            <tr>\n",
       "                <td><strong>Metabolite identifier</strong></td><td>fru_c</td>\n",
       "            </tr><tr>\n",
       "                <td><strong>Name</strong></td><td>D_Fructose_c0</td>\n",
       "            </tr><tr>\n",
       "                <td><strong>Memory address</strong></td>\n",
       "                <td>0x07fa9f77751d0</td>\n",
       "            </tr><tr>\n",
       "                <td><strong>Formula</strong></td><td>None</td>\n",
       "            </tr><tr>\n",
       "                <td><strong>Compartment</strong></td><td>c0</td>\n",
       "            </tr><tr>\n",
       "                <td><strong>In 3 reaction(s)</strong></td><td>\n",
       "                    SBTD_D2, HEX7, EX_fru_e</td>\n",
       "            </tr>\n",
       "        </table>"
      ],
      "text/plain": [
       "<Metabolite fru_c at 0x7fa9f77751d0>"
      ]
     },
     "execution_count": 25,
     "metadata": {},
     "output_type": "execute_result"
    }
   ],
   "source": [
    "internal = model.metabolites.fru_c\n",
    "internal"
   ]
  },
  {
   "cell_type": "code",
   "execution_count": 26,
   "metadata": {},
   "outputs": [],
   "source": [
    "external = cb.Metabolite(id='fru_e',formula=internal.formula,name=internal.name,compartment='e0',charge=internal.charge)\n",
    "model.add_metabolites(external)"
   ]
  },
  {
   "cell_type": "code",
   "execution_count": 27,
   "metadata": {},
   "outputs": [
    {
     "data": {
      "text/plain": [
       "'atp_c + fru_e + h2o_c --> adp_c + fru_c + h_c + pi_c'"
      ]
     },
     "execution_count": 27,
     "metadata": {},
     "output_type": "execute_result"
    }
   ],
   "source": [
    "model.reactions.EX_fru_e.delete()\n",
    "ex = model.add_boundary(external, lb=0)\n",
    "ex.lower_bound = 0\n",
    "\n",
    "rxn_id = 'FRUabc'\n",
    "mets = {}\n",
    "mets[model.metabolites.fru_c] = 1\n",
    "mets[model.metabolites.fru_e] = -1\n",
    "\n",
    "model.reactions.get_by_id(rxn_id).add_metabolites(mets) \n",
    "model.reactions.get_by_id(rxn_id).name = 'Fructose transport via ABC system'\n",
    "model.reactions.get_by_id(rxn_id).reaction"
   ]
  },
  {
   "cell_type": "markdown",
   "metadata": {},
   "source": [
    "# Fix other transporters\n",
    "\n",
    "The citrate proton simport has the wrong stoichiometry and an incorrect exchange reaction was added for citrate."
   ]
  },
  {
   "cell_type": "code",
   "execution_count": 28,
   "metadata": {},
   "outputs": [
    {
     "data": {
      "text/html": [
       "\n",
       "        <table>\n",
       "            <tr>\n",
       "                <td><strong>Reaction identifier</strong></td><td>CITt2</td>\n",
       "            </tr><tr>\n",
       "                <td><strong>Name</strong></td><td>Citrate reversible transport via symport</td>\n",
       "            </tr><tr>\n",
       "                <td><strong>Memory address</strong></td>\n",
       "                <td>0x07fa9f41037b8</td>\n",
       "            </tr><tr>\n",
       "                <td><strong>Stoichiometry</strong></td>\n",
       "                <td>\n",
       "                    <p style='text-align:right'>cit_c + h_c <=> cit_e + h_e</p>\n",
       "                    <p style='text-align:right'>Citrate_c0 + H_plus__c0 <=> Citrate_c0 + H_plus__e0</p>\n",
       "                </td>\n",
       "            </tr><tr>\n",
       "                <td><strong>GPR</strong></td><td>CLO1313_RS03530</td>\n",
       "            </tr><tr>\n",
       "                <td><strong>Lower bound</strong></td><td>-1000.0</td>\n",
       "            </tr><tr>\n",
       "                <td><strong>Upper bound</strong></td><td>1000.0</td>\n",
       "            </tr>\n",
       "        </table>\n",
       "        "
      ],
      "text/plain": [
       "<Reaction CITt2 at 0x7fa9f41037b8>"
      ]
     },
     "execution_count": 28,
     "metadata": {},
     "output_type": "execute_result"
    }
   ],
   "source": [
    "internal = model.metabolites.cit_c\n",
    "external = cb.Metabolite(id='cit_e',formula=internal.formula,name=internal.name,compartment='e0',charge=internal.charge)\n",
    "model.add_metabolites(external)\n",
    "\n",
    "model.reactions.EX_cit_e.delete()\n",
    "ex = model.add_boundary(external, lb=0)\n",
    "ex.lower_bound = 0\n",
    "\n",
    "CITt2 = model.reactions.CITt2\n",
    "mets = CITt2.metabolites\n",
    "new_mets = {}\n",
    "new_mets[model.metabolites.cit_c] = mets[model.metabolites.h_c]\n",
    "new_mets[model.metabolites.cit_e] = mets[model.metabolites.h_e]\n",
    "\n",
    "CITt2.add_metabolites(new_mets) \n",
    "model.reactions.CITt2.name = 'Citrate reversible transport via symport'\n",
    "model.reactions.CITt2"
   ]
  },
  {
   "cell_type": "markdown",
   "metadata": {},
   "source": [
    "# Test if any of the new uptake reactions are blocked:"
   ]
  },
  {
   "cell_type": "code",
   "execution_count": 29,
   "metadata": {},
   "outputs": [
    {
     "name": "stdout",
     "output_type": "stream",
     "text": [
      "trans_id \t transporter_bounds  \t max_flux \t ex_id \t\t original_ex_bounds \t new_ex_bounds\n",
      "NA1abc \t \t (0.0, 1000.0) \t \t 1000.00 \t EX_na1_e \t (-1000.0, 1000.0) \t\t (-1000.0, 1000.0)\n",
      "FUCabc \t \t (0.0, 1000.0) \t \t 1000.00 \t EX_fuc__L_e \t (0, 1000.0) \t\t (-1000, 1000.0)\n",
      "GLCabc \t \t (0.0, 1000.0) \t \t 1000.00 \t EX_glc__D_e \t (0, 1000.0) \t\t (-1000, 1000.0)\n",
      "SBTabc \t \t (0.0, 1000.0) \t \t 1000.00 \t EX_sbt__D_e \t (0, 1000.0) \t\t (-1000, 1000.0)\n",
      "FRUabc \t \t (0.0, 1000.0) \t \t 1000.00 \t EX_fru_e \t (0, 1000.0) \t\t (-1000, 1000.0)\n"
     ]
    }
   ],
   "source": [
    "ex_map = {'NA1abc':'EX_na1_e', 'FUCabc':'EX_fuc__L_e','GLCabc':'EX_glc__D_e', 'SBTabc':'EX_sbt__D_e', 'FRUabc':'EX_fru_e'}\n",
    "\n",
    "with model as tmodel:\n",
    "    print('trans_id \\t transporter_bounds  \\t max_flux \\t ex_id \\t\\t original_ex_bounds \\t new_ex_bounds')\n",
    "    for rxn_id in ['NA1abc', 'FUCabc','GLCabc', 'SBTabc', 'FRUabc']:\n",
    "        rxn = tmodel.reactions.get_by_id(rxn_id)\n",
    "        transporter_bounds = rxn.bounds\n",
    "        ex_rxn = tmodel.reactions.get_by_id(ex_map[rxn_id])\n",
    "        original_exchange_bounds = ex_rxn.bounds\n",
    "        ex_rxn.lower_bound = -1000\n",
    "        \n",
    "        tmodel.objective = rxn\n",
    "        r = tmodel.optimize(objective_sense='maximize')\n",
    "        print('{} \\t \\t {} \\t \\t {:.2f} \\t {} \\t {} \\t\\t {}'.format(rxn.id, rxn.bounds, r.objective_value, ex_rxn.id, original_exchange_bounds, ex_rxn.bounds))"
   ]
  },
  {
   "cell_type": "markdown",
   "metadata": {},
   "source": [
    "All transporter may carry flux if the exchanges (closed by default except for sodium) are opened. "
   ]
  },
  {
   "cell_type": "markdown",
   "metadata": {},
   "source": [
    "# Re-add lost metadata"
   ]
  },
  {
   "cell_type": "code",
   "execution_count": 30,
   "metadata": {},
   "outputs": [],
   "source": [
    "isg = cb.io.load_json_model(os.path.join(settings.PROJECT_ROOT,'iSG676','iSG676_cb.json'))\n",
    "for rxn in model.reactions:\n",
    "    if rxn.id in isg.reactions:\n",
    "        rxn.notes = isg.reactions.get_by_id(rxn.id).notes\n",
    "for met in model.metabolites:\n",
    "    if met in isg.reactions:\n",
    "        met.notes = isg.metabolites.get_by_id(met.id).notes"
   ]
  },
  {
   "cell_type": "markdown",
   "metadata": {},
   "source": [
    "# Save updated model"
   ]
  },
  {
   "cell_type": "code",
   "execution_count": 31,
   "metadata": {},
   "outputs": [],
   "source": [
    "#cb.io.write_sbml_model(model,'iCBI665_v4_bigg.sbml') #sbml conversion will not save notes...\n",
    "cb.io.save_json_model(model,'iCBI665_v4_bigg.json')"
   ]
  }
 ],
 "metadata": {
  "kernelspec": {
   "display_name": "Python 3",
   "language": "python",
   "name": "python3"
  },
  "language_info": {
   "codemirror_mode": {
    "name": "ipython",
    "version": 3
   },
   "file_extension": ".py",
   "mimetype": "text/x-python",
   "name": "python",
   "nbconvert_exporter": "python",
   "pygments_lexer": "ipython3",
   "version": "3.7.3"
  }
 },
 "nbformat": 4,
 "nbformat_minor": 2
}
