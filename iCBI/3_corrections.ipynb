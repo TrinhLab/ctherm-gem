{
 "cells": [
  {
   "cell_type": "markdown",
   "metadata": {},
   "source": [
    "# The goal of this notebook is to fix issues with duplicated reactions and other incositencies"
   ]
  },
  {
   "cell_type": "code",
   "execution_count": 17,
   "metadata": {},
   "outputs": [],
   "source": [
    "%matplotlib inline\n",
    "import os\n",
    "import sys\n",
    "sys.path.append('/home/sergio/Dropbox/s/cthermgem-dev')\n",
    "import cobra as cb\n",
    "import tools.ms2bigg"
   ]
  },
  {
   "cell_type": "code",
   "execution_count": 18,
   "metadata": {},
   "outputs": [],
   "source": [
    "model_ms = cb.io.read_sbml_model(os.path.join(settings.PROJECT_ROOT,'iCBI','iCBI665_v3.sbml'))\n",
    "model = tools.ms2bigg.main(model_ms)"
   ]
  },
  {
   "cell_type": "markdown",
   "metadata": {},
   "source": [
    "# Consolidate reactions present in separately in both directions\n",
    "I spotted the case of GRTT and FRTT, the same reaction  but in different directions, coded by the same gene. To avoid TICs this should be a reversible reaction.\n",
    "Let's do the analysis in a systematic way\n"
   ]
  },
  {
   "cell_type": "code",
   "execution_count": 19,
   "metadata": {},
   "outputs": [
    {
     "name": "stdout",
     "output_type": "stream",
     "text": [
      "{'PGMT', 'PGCM'}\n",
      "{'FRTT', 'GRTT'}\n",
      "{'ATPM', 'NA1abc'}\n",
      "{'ATPM', 'FUCabc'}\n",
      "{'GLCabc', 'ATPM'}\n",
      "{'SBTabc', 'ATPM'}\n",
      "{'FRUabc', 'ATPM'}\n",
      "{'FUCabc', 'NA1abc'}\n",
      "{'GLCabc', 'NA1abc'}\n",
      "{'SBTabc', 'NA1abc'}\n",
      "{'FRUabc', 'NA1abc'}\n",
      "{'GLCabc', 'FUCabc'}\n",
      "{'SBTabc', 'FUCabc'}\n",
      "{'FRUabc', 'FUCabc'}\n",
      "{'GLCabc', 'SBTabc'}\n",
      "{'FRUabc', 'GLCabc'}\n",
      "{'FRUabc', 'SBTabc'}\n",
      "{'BIOMASS_CELLULOSE', 'BIOMASS_CELLOBIOSE'}\n",
      "{'BIOMASS_CELLULOSE', 'BIOMASS_NO_CELLULOSOME'}\n",
      "{'BIOMASS_NO_CELLULOSOME', 'BIOMASS_CELLOBIOSE'}\n"
     ]
    }
   ],
   "source": [
    "same_mets = []\n",
    "for rxn_1 in model.reactions:\n",
    "    met_ids_1 = [met.id for met in rxn_1.metabolites.keys()]\n",
    "    for rxn_2 in model.reactions:\n",
    "        met_ids_2 = [met.id for met in rxn_2.metabolites.keys()]\n",
    "        if rxn_1.id != rxn_2.id:\n",
    "            if set(met_ids_1) == set(met_ids_2):\n",
    "                pair = {rxn_1.id, rxn_2.id}\n",
    "                if pair not in same_mets:\n",
    "                    same_mets.append(pair)\n",
    "                    print(pair)\n"
   ]
  },
  {
   "cell_type": "markdown",
   "metadata": {},
   "source": [
    "- PGMT-PGMC and FRTT-GRTT seem to be actual cases of duplication.\n",
    "- ATPM and abc transporter point at an issue with abc trasnporters lacking the metabolite they should translocate\n",
    "- BIOMASS reactions are \"false positives\" since they are expected to have the same metabolties."
   ]
  },
  {
   "cell_type": "code",
   "execution_count": 23,
   "metadata": {},
   "outputs": [],
   "source": [
    "isg = cb.io.load_json_model(os.path.join(settings.PROJECT_ROOT,'iSG676','iSG676_cb.json'))"
   ]
  },
  {
   "cell_type": "code",
   "execution_count": 24,
   "metadata": {},
   "outputs": [
    {
     "data": {
      "text/plain": [
       "'atp_c + h2o_c --> adp_c + h_c + pi_c'"
      ]
     },
     "execution_count": 24,
     "metadata": {},
     "output_type": "execute_result"
    }
   ],
   "source": [
    "model.reactions.GLCabc.reaction"
   ]
  },
  {
   "cell_type": "code",
   "execution_count": 26,
   "metadata": {},
   "outputs": [
    {
     "data": {
      "text/plain": [
       "'atp_c + glc__D_e + h2o_c --> adp_c + glc__D_c + h_c + pi_c'"
      ]
     },
     "execution_count": 26,
     "metadata": {},
     "output_type": "execute_result"
    }
   ],
   "source": [
    "isg.reactions.GLCabc.reaction"
   ]
  },
  {
   "cell_type": "markdown",
   "metadata": {},
   "source": [
    "The issue with sugar ABC transporters was introduced somwhere along the conversion from iSG to iCBI"
   ]
  },
  {
   "cell_type": "markdown",
   "metadata": {},
   "source": [
    "# Fix real duplicates"
   ]
  },
  {
   "cell_type": "code",
   "execution_count": 20,
   "metadata": {},
   "outputs": [
    {
     "data": {
      "text/html": [
       "\n",
       "        <table>\n",
       "            <tr>\n",
       "                <td><strong>Reaction identifier</strong></td><td>PGMT</td>\n",
       "            </tr><tr>\n",
       "                <td><strong>Name</strong></td><td>alpha_D_Glucose_1_phosphate_1_6_phosphomutase_c0</td>\n",
       "            </tr><tr>\n",
       "                <td><strong>Memory address</strong></td>\n",
       "                <td>0x07f534e3704a8</td>\n",
       "            </tr><tr>\n",
       "                <td><strong>Stoichiometry</strong></td>\n",
       "                <td>\n",
       "                    <p style='text-align:right'>g1p_c <=> g6p_c</p>\n",
       "                    <p style='text-align:right'>Glucose_1_phosphate_c0 <=> D_glucose_6_phosphate_c0</p>\n",
       "                </td>\n",
       "            </tr><tr>\n",
       "                <td><strong>GPR</strong></td><td>CLO1313_RS05070</td>\n",
       "            </tr><tr>\n",
       "                <td><strong>Lower bound</strong></td><td>-1000.0</td>\n",
       "            </tr><tr>\n",
       "                <td><strong>Upper bound</strong></td><td>1000.0</td>\n",
       "            </tr>\n",
       "        </table>\n",
       "        "
      ],
      "text/plain": [
       "<Reaction PGMT at 0x7f534e3704a8>"
      ]
     },
     "execution_count": 20,
     "metadata": {},
     "output_type": "execute_result"
    }
   ],
   "source": [
    "model.reactions.PGMT"
   ]
  },
  {
   "cell_type": "code",
   "execution_count": 22,
   "metadata": {},
   "outputs": [
    {
     "data": {
      "text/html": [
       "\n",
       "        <table>\n",
       "            <tr>\n",
       "                <td><strong>Reaction identifier</strong></td><td>PGCM</td>\n",
       "            </tr><tr>\n",
       "                <td><strong>Name</strong></td><td>alpha_D_Glucose_1_phosphate_1_6_phosphomutase_c0</td>\n",
       "            </tr><tr>\n",
       "                <td><strong>Memory address</strong></td>\n",
       "                <td>0x07f534e5c49e8</td>\n",
       "            </tr><tr>\n",
       "                <td><strong>Stoichiometry</strong></td>\n",
       "                <td>\n",
       "                    <p style='text-align:right'>g1p_c <=> g6p_c</p>\n",
       "                    <p style='text-align:right'>Glucose_1_phosphate_c0 <=> D_glucose_6_phosphate_c0</p>\n",
       "                </td>\n",
       "            </tr><tr>\n",
       "                <td><strong>GPR</strong></td><td>CLO1313_RS05070</td>\n",
       "            </tr><tr>\n",
       "                <td><strong>Lower bound</strong></td><td>-1000.0</td>\n",
       "            </tr><tr>\n",
       "                <td><strong>Upper bound</strong></td><td>1000.0</td>\n",
       "            </tr>\n",
       "        </table>\n",
       "        "
      ],
      "text/plain": [
       "<Reaction PGCM at 0x7f534e5c49e8>"
      ]
     },
     "execution_count": 22,
     "metadata": {},
     "output_type": "execute_result"
    }
   ],
   "source": [
    "model.reactions.PGCM"
   ]
  },
  {
   "cell_type": "markdown",
   "metadata": {},
   "source": [
    "# Fix transporters"
   ]
  },
  {
   "cell_type": "code",
   "execution_count": null,
   "metadata": {},
   "outputs": [],
   "source": []
  },
  {
   "cell_type": "markdown",
   "metadata": {},
   "source": [
    "# Save updated model"
   ]
  },
  {
   "cell_type": "code",
   "execution_count": null,
   "metadata": {},
   "outputs": [],
   "source": []
  }
 ],
 "metadata": {
  "kernelspec": {
   "display_name": "Python 3",
   "language": "python",
   "name": "python3"
  },
  "language_info": {
   "codemirror_mode": {
    "name": "ipython",
    "version": 3
   },
   "file_extension": ".py",
   "mimetype": "text/x-python",
   "name": "python",
   "nbconvert_exporter": "python",
   "pygments_lexer": "ipython3",
   "version": "3.6.5"
  }
 },
 "nbformat": 4,
 "nbformat_minor": 2
}
