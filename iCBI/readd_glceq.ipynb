{
 "cells": [
  {
   "cell_type": "markdown",
   "metadata": {},
   "source": [
    "Re-add reactions for glucose equivalent uptake"
   ]
  },
  {
   "cell_type": "code",
   "execution_count": 1,
   "metadata": {},
   "outputs": [
    {
     "name": "stdout",
     "output_type": "stream",
     "text": [
      "C:\\Users\\sergio\\Dropbox\\s\\cthermgem-dev\n"
     ]
    }
   ],
   "source": [
    "cd .."
   ]
  },
  {
   "cell_type": "code",
   "execution_count": 2,
   "metadata": {},
   "outputs": [],
   "source": [
    "import cobra as cb\n",
    "import os\n",
    "import pandas as pd\n",
    "import csv\n",
    "import settings\n",
    "os.chdir(os.path.join(settings.PROJECT_ROOT,'iCBI'))"
   ]
  },
  {
   "cell_type": "code",
   "execution_count": 3,
   "metadata": {},
   "outputs": [],
   "source": [
    "icbi = cb.io.read_sbml_model(os.path.join(settings.PROJECT_ROOT,'iCBI','49.SBML','iCBI676.sbml'))\n"
   ]
  },
  {
   "cell_type": "code",
   "execution_count": 4,
   "metadata": {},
   "outputs": [
    {
     "data": {
      "text/html": [
       "\n",
       "        <table>\n",
       "            <tr>\n",
       "                <td><strong>Metabolite identifier</strong></td><td>cpd00027_c0</td>\n",
       "            </tr><tr>\n",
       "                <td><strong>Name</strong></td><td>D_Glucose_c0</td>\n",
       "            </tr><tr>\n",
       "                <td><strong>Memory address</strong></td>\n",
       "                <td>0x022e9ed020b8</td>\n",
       "            </tr><tr>\n",
       "                <td><strong>Formula</strong></td><td></td>\n",
       "            </tr><tr>\n",
       "                <td><strong>Compartment</strong></td><td>c0</td>\n",
       "            </tr><tr>\n",
       "                <td><strong>In 9 reaction(s)</strong></td><td>\n",
       "                    CEPA_c0, BDG2HCGHD_c0, HEX1_c0, LACZ_c0, CLBH_c0, KLCGH_c0, CGGH_c0, ABGPT_c0, EX_glc__D_e_e0</td>\n",
       "            </tr>\n",
       "        </table>"
      ],
      "text/plain": [
       "<Metabolite cpd00027_c0 at 0x22e9ed020b8>"
      ]
     },
     "execution_count": 4,
     "metadata": {},
     "output_type": "execute_result"
    }
   ],
   "source": [
    "glc = icbi.metabolites.get_by_id('cpd00027_c0')\n",
    "glc"
   ]
  },
  {
   "cell_type": "code",
   "execution_count": 5,
   "metadata": {},
   "outputs": [],
   "source": [
    "# (formulas are not in SBML)\n",
    "glceq = cb.Metabolite(id='glceq_e0', name='Glucose equivalents', compartment='e0', formula='C6H12O6', charge=glc.charge)"
   ]
  },
  {
   "cell_type": "code",
   "execution_count": 6,
   "metadata": {},
   "outputs": [],
   "source": [
    "icbi.add_metabolites(glceq)"
   ]
  },
  {
   "cell_type": "code",
   "execution_count": 7,
   "metadata": {},
   "outputs": [
    {
     "data": {
      "text/html": [
       "\n",
       "        <table>\n",
       "            <tr>\n",
       "                <td><strong>Reaction identifier</strong></td><td>EX_glceq_e0</td>\n",
       "            </tr><tr>\n",
       "                <td><strong>Name</strong></td><td>Glucose equivalents exchange</td>\n",
       "            </tr><tr>\n",
       "                <td><strong>Memory address</strong></td>\n",
       "                <td>0x022e9f3df2b0</td>\n",
       "            </tr><tr>\n",
       "                <td><strong>Stoichiometry</strong></td>\n",
       "                <td>\n",
       "                    <p style='text-align:right'>glceq_e0 <=> </p>\n",
       "                    <p style='text-align:right'>Glucose equivalents <=> </p>\n",
       "                </td>\n",
       "            </tr><tr>\n",
       "                <td><strong>GPR</strong></td><td></td>\n",
       "            </tr><tr>\n",
       "                <td><strong>Lower bound</strong></td><td>-1000.0</td>\n",
       "            </tr><tr>\n",
       "                <td><strong>Upper bound</strong></td><td>1000.0</td>\n",
       "            </tr>\n",
       "        </table>\n",
       "        "
      ],
      "text/plain": [
       "<Reaction EX_glceq_e0 at 0x22e9f3df2b0>"
      ]
     },
     "execution_count": 7,
     "metadata": {},
     "output_type": "execute_result"
    }
   ],
   "source": [
    "icbi.add_boundary(glceq, type='exchange')"
   ]
  },
  {
   "cell_type": "code",
   "execution_count": 8,
   "metadata": {},
   "outputs": [],
   "source": [
    "cell6 = icbi.metabolites.get_by_id('cpd03719_e0')\n",
    "cell5 = icbi.metabolites.get_by_id('cpd03720_e0')\n",
    "cell4 = icbi.metabolites.get_by_id('cpd01376_e0')\n",
    "cell3 = icbi.metabolites.get_by_id('cpd03721_e0')"
   ]
  },
  {
   "cell_type": "code",
   "execution_count": 9,
   "metadata": {},
   "outputs": [],
   "source": [
    "GLCEQ3_c0 = cb.Reaction(id='GLCEQ3_c0', name='Glucose equivaletn conversion n=3')\n",
    "GLCEQ4_c0 = cb.Reaction(id='GLCEQ4_c0', name='Glucose equivaletn conversion n=4')\n",
    "GLCEQ5_c0 = cb.Reaction(id='GLCEQ5_c0', name='Glucose equivaletn conversion n=5')\n",
    "GLCEQ6_c0 = cb.Reaction(id='GLCEQ6_c0', name='Glucose equivaletn conversion n=6')\n",
    "rxns = [GLCEQ3_c0,GLCEQ4_c0,GLCEQ5_c0,GLCEQ6_c0]\n",
    "icbi.add_reactions(rxns)"
   ]
  },
  {
   "cell_type": "code",
   "execution_count": 10,
   "metadata": {},
   "outputs": [],
   "source": [
    "GLCEQ3_c0.add_metabolites({glceq:-3,cell3:1})\n",
    "GLCEQ4_c0.add_metabolites({glceq:-4,cell4:1})\n",
    "GLCEQ5_c0.add_metabolites({glceq:-5,cell5:1})\n",
    "GLCEQ6_c0.add_metabolites({glceq:-6,cell6:1})"
   ]
  },
  {
   "cell_type": "code",
   "execution_count": 11,
   "metadata": {},
   "outputs": [
    {
     "data": {
      "text/plain": [
       "666"
      ]
     },
     "execution_count": 11,
     "metadata": {},
     "output_type": "execute_result"
    }
   ],
   "source": [
    "len(icbi.genes)"
   ]
  },
  {
   "cell_type": "code",
   "execution_count": 12,
   "metadata": {},
   "outputs": [],
   "source": [
    "# also fix model name\n",
    "icbi.name = 'iCBI665'"
   ]
  },
  {
   "cell_type": "code",
   "execution_count": 13,
   "metadata": {},
   "outputs": [],
   "source": [
    "cb.io.write_sbml_model(icbi,'iCBI665v2.sbml')"
   ]
  }
 ],
 "metadata": {
  "kernelspec": {
   "display_name": "Python 3",
   "language": "python",
   "name": "python3"
  },
  "language_info": {
   "codemirror_mode": {
    "name": "ipython",
    "version": 3
   },
   "file_extension": ".py",
   "mimetype": "text/x-python",
   "name": "python",
   "nbconvert_exporter": "python",
   "pygments_lexer": "ipython3",
   "version": "3.6.5"
  }
 },
 "nbformat": 4,
 "nbformat_minor": 2
}
