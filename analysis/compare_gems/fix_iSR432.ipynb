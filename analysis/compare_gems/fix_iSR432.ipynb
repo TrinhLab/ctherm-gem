{
 "cells": [
  {
   "cell_type": "code",
   "execution_count": 1,
   "metadata": {},
   "outputs": [],
   "source": [
    "import cobra as cb\n",
    "import pandas as pd\n",
    "import re"
   ]
  },
  {
   "cell_type": "code",
   "execution_count": 2,
   "metadata": {},
   "outputs": [
    {
     "name": "stdout",
     "output_type": "stream",
     "text": [
      "iSR432 exchanges: []\n"
     ]
    },
    {
     "data": {
      "text/html": [
       "<div>\n",
       "<style scoped>\n",
       "    .dataframe tbody tr th:only-of-type {\n",
       "        vertical-align: middle;\n",
       "    }\n",
       "\n",
       "    .dataframe tbody tr th {\n",
       "        vertical-align: top;\n",
       "    }\n",
       "\n",
       "    .dataframe thead th {\n",
       "        text-align: right;\n",
       "    }\n",
       "</style>\n",
       "<table border=\"1\" class=\"dataframe\">\n",
       "  <thead>\n",
       "    <tr style=\"text-align: right;\">\n",
       "      <th></th>\n",
       "      <th>ID</th>\n",
       "      <th>lb</th>\n",
       "      <th>ub</th>\n",
       "    </tr>\n",
       "  </thead>\n",
       "  <tbody>\n",
       "    <tr>\n",
       "      <th>0</th>\n",
       "      <td>ca2[e]</td>\n",
       "      <td>-1000.0</td>\n",
       "      <td>0.0</td>\n",
       "    </tr>\n",
       "    <tr>\n",
       "      <th>1</th>\n",
       "      <td>cellulose[e]</td>\n",
       "      <td>-1000.0</td>\n",
       "      <td>0.0</td>\n",
       "    </tr>\n",
       "    <tr>\n",
       "      <th>2</th>\n",
       "      <td>biomass[c]</td>\n",
       "      <td>0.0</td>\n",
       "      <td>1000.0</td>\n",
       "    </tr>\n",
       "    <tr>\n",
       "      <th>3</th>\n",
       "      <td>no2[e]</td>\n",
       "      <td>0.0</td>\n",
       "      <td>1000.0</td>\n",
       "    </tr>\n",
       "    <tr>\n",
       "      <th>4</th>\n",
       "      <td>fru[e]</td>\n",
       "      <td>-1000.0</td>\n",
       "      <td>0.0</td>\n",
       "    </tr>\n",
       "  </tbody>\n",
       "</table>\n",
       "</div>"
      ],
      "text/plain": [
       "             ID      lb      ub\n",
       "0        ca2[e] -1000.0     0.0\n",
       "1  cellulose[e] -1000.0     0.0\n",
       "2    biomass[c]     0.0  1000.0\n",
       "3        no2[e]     0.0  1000.0\n",
       "4        fru[e] -1000.0     0.0"
      ]
     },
     "execution_count": 2,
     "metadata": {},
     "output_type": "execute_result"
    }
   ],
   "source": [
    "m = cb.io.read_sbml_model('iSR432.xml')\n",
    "print('iSR432 exchanges:', m.exchanges) # Exchange reactions are not included in the sbml file...\n",
    "bounds = pd.read_csv('iSR432_exchanges.tsv', '\\t')\n",
    "bounds.head()"
   ]
  },
  {
   "cell_type": "code",
   "execution_count": 3,
   "metadata": {},
   "outputs": [
    {
     "name": "stdout",
     "output_type": "stream",
     "text": [
      "Metabolite biomass_c not in model\n",
      "Metabolite no2_e not in model\n",
      "Metabolite cellmass_c not in model\n",
      "IN FLUXES    OUT FLUXES    OBJECTIVES\n",
      "-----------  ------------  -----------------\n",
      "                           biomass_target  0\n"
     ]
    }
   ],
   "source": [
    "def update_notation(met_id):\n",
    "    # Cobrapy changes name with respect to the table above\n",
    "    met_id = str.replace(met_id,'-','_DASH_')\n",
    "    met_id = str.replace(met_id, '_l', '_L')\n",
    "    met_id = str.replace(met_id, '_d', '_D')\n",
    "    met_id = str.replace(met_id, '_r', '_R')\n",
    "    return met_id[:-3] + '_' + re.findall(r'.*\\[([c,e])\\]', met_id)[0]\n",
    "    \n",
    "for index, row in bounds.iterrows():\n",
    "    met_id = update_notation(row['ID'])\n",
    "    if met_id in m.metabolites:\n",
    "        met = m.metabolites.get_by_id(met_id)\n",
    "    elif (met_id[:-2] + '_c') in m.metabolites:\n",
    "        met = m.metabolites.get_by_id(met_id[:-2] + '_c') \n",
    "    else:\n",
    "        print('Metabolite {} not in model'.format(update_notation(row['ID']) ))\n",
    "        continue\n",
    "    m.add_boundary(met, lb=row['lb'], ub=row['ub'])\n",
    "\n",
    "    #m.add_boundary(met, lb=-1000, ub=1000) # This way the model can grow\n",
    "m.objective = m.reactions.biomass_target\n",
    "m.optimize()\n",
    "m.summary()"
   ]
  },
  {
   "cell_type": "markdown",
   "metadata": {},
   "source": [
    "The three missing metabolites are not in the xml model at all. The two tentative cell mass pseudo-metabolites are not in the biomass reaction.\n",
    "If the -1000,1000 exchanges are used instead of those provided by the authors, then the model can grow. This indicates that an essential metabolite is missing form the input, or that secretion of a certain metabolite must be enabled."
   ]
  },
  {
   "cell_type": "code",
   "execution_count": 7,
   "metadata": {},
   "outputs": [],
   "source": [
    "cb.io.save_json_model(m, 'iSR432_w_exch.json')"
   ]
  }
 ],
 "metadata": {
  "kernelspec": {
   "display_name": "Python 3",
   "language": "python",
   "name": "python3"
  },
  "language_info": {
   "codemirror_mode": {
    "name": "ipython",
    "version": 3
   },
   "file_extension": ".py",
   "mimetype": "text/x-python",
   "name": "python",
   "nbconvert_exporter": "python",
   "pygments_lexer": "ipython3",
   "version": "3.6.5"
  }
 },
 "nbformat": 4,
 "nbformat_minor": 2
}
