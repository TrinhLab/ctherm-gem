{
 "cells": [
  {
   "cell_type": "markdown",
   "metadata": {},
   "source": [
    "# Essentiality analysis\n",
    "\n",
    "The goal of this analysis is to ensure the model correctly predicts the presence or absence of cell growth for well known mutants. Unlike for _E. coli_, extensive mutant libraries have not been charcterized for _C. therm._, in part due to the lack of well-stablish genetic engineering tools. Rather, a few mutants of biotechnological relevance have been relatively well studied.\n",
    "\n",
    "## Background\n",
    "\n",
    "### HydG-ech derived mutants\n",
    "\n",
    "The standard for GEM model validation is the prediction of essentiality phenotypes. In particular, those relevant to metabolic engineering of _C. thermocellum_ should be predicted accurately to prevent designs which grow in-silico but are lethal in vivo.\n",
    "\n",
    "In the publication \n",
    "> Thompson, R. Adam, et al. \"Elucidating central metabolic redox obstacles hindering ethanol production in Clostridium thermocellum.\" Metabolic engineering 32 (2015): 207-219.\"\n",
    "\n",
    "different lethal phenotypes captured by a core model are presented. The experimental evidence is provided in the figure below.\n",
    "\n",
    "Fig. 5. Growth characteristics of parent strain (triangles) and ΔhydG Δech (circles) in MTC media (filled symbols) or MTC with the PFL inhibitor hypophosphite (open symbols). To investigate redox bottlenecks, no additional electron sink (A), 20 mM fumarate (B), 20 mM 2-ketoisovalerate (C), or 2 g/L total sulfate (D) were included in the medium to probe NADH, NAD(P)H, and Fdrd, respectively.\n",
    "\n",
    "<img src=\"./fig5_thompson2015.jpg\" alt=\"Drawing\" style=\"width: 100px;\"/>\n",
    "\n",
    "Based on this evidence, the following phenotypes should be captured by the model:\n",
    "1. hydG-ech-pfl deletion is lethal\n",
    "2. hydG-ech-pfl deletion can recover growth in the presence of an external electron sink, either sulfate or kiv.\n",
    "3. The failure of fumarate addition to recover growth indicates that fumarate reductase is not active in this mutant or fumarate uptake rate is not sufficient.\n",
    "\n",
    "The most important being phenotype 1.\n",
    "\n",
    "## LL1210 related mutants\n",
    "The publication \n",
    "> Tian, Liang, et al. \"Simultaneous achievement of high ethanol yield and titer in Clostridium thermocellum.\" Biotechnology for biofuels 9.1 (2016): 116.\n",
    "\n",
    "studies the mutant with deletion of hydG, ldh, pfl, pta-ackA\n",
    "\n",
    "| Strain name | Description                                                | Growth rate μ (h−1) |\n",
    "|-------------|------------------------------------------------------------|---------------------|\n",
    "| AG553       | C. thermocellum DSM1313 Δhpt ΔhydG Δldh Δpfl Δpta-ack [10] | 0.06 ± 0.01         |\n",
    "| AG601       | Selected from AG553 after first stage adaptive evolution   | 0.10 ± 0.01         |\n",
    "| LL1210      | Selected from AG601 after second stage adaptive evolution  | 0.22 ± 0.02         |\n",
    "\n",
    "As a reference a wild type in avicell tubes grows at 0.33-0.39 (h-1) (see extracelular flux table). While it is not crucial to capture the quantitative change in growth rate it is imporant to ensure that:\n",
    "3. hydg-ldh-pfl-pta/ack mutant can grow"
   ]
  },
  {
   "cell_type": "code",
   "execution_count": null,
   "metadata": {},
   "outputs": [],
   "source": []
  },
  {
   "cell_type": "markdown",
   "metadata": {},
   "source": [
    "# Model simulations"
   ]
  },
  {
   "cell_type": "code",
   "execution_count": 1,
   "metadata": {},
   "outputs": [],
   "source": [
    "import os\n",
    "import sys\n",
    "sys.path.append('/home/sergio/Dropbox/s/cthermgem-dev/')\n",
    "\n",
    "import numpy as np\n",
    "import tools.conf_model\n",
    "import cobra as cb\n",
    "import settings\n",
    "#from tools.essentiality import *\n",
    "%matplotlib inline\n",
    "import matplotlib.pyplot as plt\n",
    "plt.style.use('seaborn')\n",
    "model = cb.io.load_json_model(os.path.join(settings.PROJECT_ROOT,'iCBI', 'iCBI655bigg_cellb_batch.json'))\n",
    "\n",
    "#Several features were updated after this notebook, thus to make the code reproducible, this features must be reverted to their original state:\n",
    "model.reactions.EX_h2s_e.bounds = (0,1000) # Enable sulfide secretion"
   ]
  },
  {
   "cell_type": "markdown",
   "metadata": {},
   "source": [
    "## Phenotype 1: hydG-ech-pfl mutant cannot growth in minimal medium"
   ]
  },
  {
   "cell_type": "code",
   "execution_count": 2,
   "metadata": {},
   "outputs": [
    {
     "name": "stdout",
     "output_type": "stream",
     "text": [
      "Growth rate of wt: 0.38\n",
      "Growth rate of hydG-ech-pfl ko: 0.25 \t fraction of wt: 0.64\n",
      "IN FLUXES         OUT FLUXES          OBJECTIVES\n",
      "----------------  ------------------  ----------------------\n",
      "cellb_e  4        h_e       16.8      BIOMASS_CELL...  0.246\n",
      "nh4_e    1.67     lac__L_e  13.2\n",
      "k_e      0.233    co2_e      0.735\n",
      "pi_e     0.195    h2s_e      0.102\n",
      "so4_e    0.133    h2o_e      0.0502\n",
      "mg2_e    0.0336   gly_e      0.00983\n",
      "fe3_e    0.00114  phe__L_e   0.00664\n",
      "ca2_e    0.00106\n"
     ]
    }
   ],
   "source": [
    "r_wt = model.optimize()\n",
    "print('Growth rate of wt: {:.2f}'.format(r_wt.objective_value))\n",
    "\n",
    "mut_ko = ['BIF','H2ASE_syn', 'PFL', 'ECH']\n",
    "with model as tmodel:\n",
    "    [tmodel.reactions.get_by_id(rxn_id).knock_out() for rxn_id in mut_ko]\n",
    "    r = tmodel.optimize()\n",
    "    print('Growth rate of hydG-ech-pfl ko: {:.2f} \\t fraction of wt: {:.2f}'.format(r.objective_value, r.objective_value/r_wt.objective_value))    \n",
    "    tmodel.summary()"
   ]
  },
  {
   "cell_type": "markdown",
   "metadata": {},
   "source": [
    "The growth rate of this mutant is >50% that of the wild type. GEMs are known to overpredict growth since they do not account for important kinetic and regulatory limiations. However, lethality is often consired around a reduction of 80-90% of the theoretical maximum. Using that reference, we can say that __the model is failing to predict the lethality phenotype.__"
   ]
  },
  {
   "cell_type": "markdown",
   "metadata": {},
   "source": [
    "We observe sulfide secretion, this pathway was studied by Thompson 2015 and further analyzed by [Biswas 2017]( https://biotechnologyforbiofuels.biomedcentral.com/articles/10.1186/s13068-016-0684-x). Biswas 2017 observed a range of 10-20 umol depending on the mutant. \n",
    "    "
   ]
  },
  {
   "cell_type": "code",
   "execution_count": 3,
   "metadata": {},
   "outputs": [
    {
     "name": "stdout",
     "output_type": "stream",
     "text": [
      "IN FLUXES          OUT FLUXES          OBJECTIVES\n",
      "-----------------  ------------------  ----------------------\n",
      "cellb_e  4         h_e       16.3      BIOMASS_CELL...  0.226\n",
      "nh4_e    1.72      lac__L_e  12.7\n",
      "k_e      0.215     co2_e      0.863\n",
      "pi_e     0.18      h2o_e      0.658\n",
      "mg2_e    0.0309    phe__L_e   0.193\n",
      "so4_e    0.0292    etoh_e     0.187\n",
      "fe3_e    0.00105   gly_e      0.00904\n",
      "ca2_e    0.000974\n",
      "WT-EX_h2s_e gr: 0.38\n",
      "Fraction of wt growth: 0.59\n"
     ]
    }
   ],
   "source": [
    "with model as tmodel:\n",
    "    [tmodel.reactions.get_by_id(rxn_id).knock_out() for rxn_id in mut_ko]\n",
    "    tmodel.reactions.EX_h2s_e.knock_out()\n",
    "    rmut = tmodel.optimize()\n",
    "    tmodel.summary()\n",
    "\n",
    "with model as tmodel:\n",
    "    tmodel.reactions.EX_h2s_e.knock_out()\n",
    "    r = tmodel.optimize()\n",
    "    print('WT-EX_h2s_e gr: {:.2f}'.format(r.objective_value))\n",
    "\n",
    "print('Fraction of wt growth: {:.2f}'.format(rmut.objective_value/r.objective_value))\n",
    "\n",
    "deleted_rxns = ['EX_h2s_e']"
   ]
  },
  {
   "cell_type": "markdown",
   "metadata": {},
   "source": [
    "The elimination of sulfide secretion continues to reduce growth rate of the mutant.\n",
    "\n",
    "The current understanding of this mutant is that POR cannot produce suficcient acetyl-coa for growth due to the accumulation of reduced ferredoxin. This opens two hypothesis that still explain growth:\n",
    "1. An alternative source of Acetyl-CoA is active.\n",
    "2. An alternative ferredoxin (or indirectly nad(p)h) oxidation pathway is active."
   ]
  },
  {
   "cell_type": "code",
   "execution_count": 4,
   "metadata": {},
   "outputs": [
    {
     "name": "stdout",
     "output_type": "stream",
     "text": [
      "PRODUCING REACTIONS -- Acetyl_CoA_c0 (accoa_c)\n",
      "----------------------------------------------\n",
      "%      FLUX  RXN ID    REACTION\n",
      "---  ------  --------  --------------------------------------------------\n",
      "58%  13.3    POR       coa_c + 2.0 fdxox_c + h_c + pyr_c --> accoa_c +...\n",
      "42%   9.64   ACS       ac_c + atp_c + coa_c --> accoa_c + amp_c + h_c ...\n",
      "\n",
      "CONSUMING REACTIONS -- Acetyl_CoA_c0 (accoa_c)\n",
      "----------------------------------------------\n",
      "%      FLUX  RXN ID    REACTION\n",
      "---  ------  --------  --------------------------------------------------\n",
      "55%  12.7    ACALD     accoa_c + h_c + nadh_c --> acald_c + coa_c + nad_c\n",
      "42%   9.54   PTAr      accoa_c + pi_c <=> actp_c + coa_c\n",
      "1%    0.283  ACCOAC    accoa_c + atp_c + co2_c + h2o_c --> adp_c + 2.0...\n",
      "1%    0.163  CS        accoa_c + h2o_c + oaa_c --> cit_c + coa_c + h_c\n"
     ]
    }
   ],
   "source": [
    "# Sources of accoa\n",
    "with model as tmodel:\n",
    "    [tmodel.reactions.get_by_id(rxn_id).knock_out() for rxn_id in mut_ko]\n",
    "    [tmodel.reactions.get_by_id(rxn_id).knock_out() for rxn_id in deleted_rxns]\n",
    "    rsol = tmodel.optimize()\n",
    "    \n",
    "    tmodel.metabolites.accoa_c.summary()\n",
    "    # write solution\n",
    "    sol = rsol.to_frame()\n",
    "    sol.drop(columns='reduced_costs', inplace=True)\n",
    "    sol.to_csv('hydgechpfl_fluxes.csv')"
   ]
  },
  {
   "cell_type": "markdown",
   "metadata": {},
   "source": [
    "In the model POR is capable of fully generating all neccessary Acetyl-CoA, so the first hypothesis regarding alternative acetyl-CoA sources can be discarded. From a thermodynamic standpoint, the POR reaciton is generally favorable for a broad range of metaboltie concentrations as shown in panel (D) form the figure below. "
   ]
  },
  {
   "cell_type": "markdown",
   "metadata": {},
   "source": [
    "[Thompson and Trinh 2017](https://onlinelibrary.wiley.com/doi/full/10.1002/bit.26374) performed the following thermodynamic analysis of redox reactions:\n",
    "    \n",
    "<img src=\"./fig3_thompson2017.jpg\" alt=\"Drawing\" style=\"width: 100px;\"/>\n",
    "\n",
    "__Caption__: Effects of reactant and product concentrations on Gibbs energy, calculated using the eQuilibrator tool. (A) Alcohol dehydrogenase, ADHE, assuming 1 mM ethanol. (B) Lactate dehydrogenase, LDH, assuming 1.7 mM pyruvate. (C) Pyruvate:formate lyase, PFL, assuming 1.7 mM pyruvate. (D) Pyruvate:ferredoxin oxidoreductase, PFOR, assuming 1.7 mM pyruvate, and 1 mM CO2. (E) Energy conserving hydrogenase, ECH. (F) Bifurcating hydrogenase, BIF, assuming NADH/NAD+ ratio of 0.4. (G) Reduced ferredoxin:NAD+ oxidoreductase, RNF. (H) NADH‐dependent ferredoxin:NADP+ oxidoreductase, NFN, assuming NADPH/NADP+ ratio of 2. \n",
    "                    "
   ]
  },
  {
   "cell_type": "markdown",
   "metadata": {},
   "source": [
    "We continue to investigate the second hypothesis regarding sources of ferredoxin turnover which should not be viable. "
   ]
  },
  {
   "cell_type": "code",
   "execution_count": 5,
   "metadata": {},
   "outputs": [
    {
     "name": "stdout",
     "output_type": "stream",
     "text": [
      "PRODUCING REACTIONS -- Oxidizedferredoxin_c0 (fdxox_c)\n",
      "------------------------------------------------------\n",
      "%       FLUX  RXN ID    REACTION\n",
      "----  ------  --------  --------------------------------------------------\n",
      "100%   27.4   RNF       2.0 fdxrd_c + nad_c <=> 2.0 fdxox_c + h_c + nadh_c\n",
      "\n",
      "CONSUMING REACTIONS -- Oxidizedferredoxin_c0 (fdxox_c)\n",
      "------------------------------------------------------\n",
      "%       FLUX  RXN ID    REACTION\n",
      "----  ------  --------  --------------------------------------------------\n",
      "97%    26.6   POR       coa_c + 2.0 fdxox_c + h_c + pyr_c --> accoa_c +...\n",
      "3%      0.83  FRNDPR2r  2.0 fdxrd_c + nadh_c + 2.0 nadp_c <=> 2.0 fdxox...\n",
      "PRODUCING REACTIONS -- NADH_c0 (nadh_c)\n",
      "---------------------------------------\n",
      "%      FLUX  RXN ID    REACTION\n",
      "---  ------  --------  --------------------------------------------------\n",
      "51%  15.1    GAPD      g3p_c + nad_c + pi_c <=> 13dpg_c + h_c + nadh_c\n",
      "47%  13.7    RNF       2.0 fdxrd_c + nad_c <=> 2.0 fdxox_c + h_c + nadh_c\n",
      "1%    0.415  FRNDPR2r  2.0 fdxrd_c + nadh_c + 2.0 nadp_c <=> 2.0 fdxox...\n",
      "1%    0.167  PGLYDH    3pg_c + nad_c --> 3php_c + h_c + nadh_c\n",
      "\n",
      "CONSUMING REACTIONS -- NADH_c0 (nadh_c)\n",
      "---------------------------------------\n",
      "%      FLUX  RXN ID    REACTION\n",
      "---  ------  --------  --------------------------------------------------\n",
      "44%  12.8    ALCD2x    acald_c + h_c + nadh_c --> etoh_c + nad_c\n",
      "43%  12.7    ACALD     accoa_c + h_c + nadh_c --> acald_c + coa_c + nad_c\n",
      "12%   3.63   MDH       mal__L_c + nad_c <=> h_c + nadh_c + oaa_c\n",
      "PRODUCING REACTIONS -- NADPH_c0 (nadph_c)\n",
      "-----------------------------------------\n",
      "%      FLUX  RXN ID      REACTION\n",
      "---  ------  ----------  --------------------------------------------------\n",
      "94%  3.73    ME2         mal__L_c + nadp_c --> co2_c + nadph_c + pyr_c\n",
      "4%   0.163   ICDHyr      icit_c + nadp_c --> akg_c + co2_c + nadph_c\n",
      "2%   0.0678  MTHFD       mlthf_c + nadp_c <=> methf_c + nadph_c\n",
      "\n",
      "CONSUMING REACTIONS -- NADPH_c0 (nadph_c)\n",
      "-----------------------------------------\n",
      "%      FLUX  RXN ID      REACTION\n",
      "---  ------  ----------  --------------------------------------------------\n",
      "38%  1.5     GLUDy       glu__L_c + h2o_c + nadp_c <=> akg_c + h_c + nad...\n",
      "21%  0.83    FRNDPR2r    2.0 fdxrd_c + nadh_c + 2.0 nadp_c <=> 2.0 fdxox...\n",
      "7%   0.268   SKDH        3dhsk_c + h_c + nadph_c --> nadp_c + skm_c\n",
      "6%   0.227   TRDR        h_c + nadph_c + trdox_c --> nadp_c + trdrd_c\n",
      "5%   0.212   ASAD        aspsa_c + nadp_c + pi_c <=> 4pasp_c + h_c + nad...\n",
      "3%   0.132   KARA1       alac__S_c + h_c + nadph_c --> 23dhmb_c + nadp_c\n",
      "3%   0.116   G3PD2       dhap_c + h_c + nadph_c --> glyc3p_c + nadp_c\n",
      "2%   0.0875  HSOR        3.0 h_c + 3.0 nadph_c + so3_c --> 3.0 h2o_c + h...\n",
      "2%   0.0845  DHDRPy      nadp_c + thdp_c <=> 23dhdp_c + h_c + nadph_c\n",
      "2%   0.068   BC17FAS     cpd11520_c + 11.0 h_c + 6.0 malACP_c + 12.0 nad...\n",
      "2%   0.0671  KARI_23...  23dhmp_c + nadp_c <=> cpd10162_c + h_c + nadph_c\n"
     ]
    }
   ],
   "source": [
    "with model as tmodel:\n",
    "    [tmodel.reactions.get_by_id(rxn_id).knock_out() for rxn_id in mut_ko]\n",
    "    [tmodel.reactions.get_by_id(rxn_id).knock_out() for rxn_id in deleted_rxns]\n",
    "    tmodel.metabolites.fdxox_c.summary()\n",
    "    tmodel.metabolites.nadh_c.summary()\n",
    "    tmodel.metabolites.nadph_c.summary()"
   ]
  },
  {
   "cell_type": "markdown",
   "metadata": {},
   "source": [
    "As we can see RNF transforms all ferredoxin to NADH. All NADH is consumed between ethanol and MDH. Now the deletion of MDH (not shown above) activates alternative pathwyas which still enable growth. So at this point the complexity is to high for manual exploration and we need to systematically evaluate what deletions disable growth in the mutant but not in the wild type:"
   ]
  },
  {
   "cell_type": "code",
   "execution_count": 6,
   "metadata": {},
   "outputs": [],
   "source": [
    "# wild type growth\n",
    "with model as tmodel:\n",
    "    tmodel.reactions.EX_h2s_e.knock_out()\n",
    "    r = tmodel.optimize()\n",
    "    wt_gr =r.objective_value\n",
    "\n",
    "min_wt_gr  = 0.95*wt_gr\n",
    "max_mut_gr = 0.20*wt_gr"
   ]
  },
  {
   "cell_type": "code",
   "execution_count": 7,
   "metadata": {},
   "outputs": [
    {
     "name": "stdout",
     "output_type": "stream",
     "text": [
      "DRPA \t 2dr5p_c --> acald_c + g3p_c\n",
      "MTHFC \t h2o_c + methf_c <=> 10fthf_c + h_c\n",
      "GLYt2r \t gly_e + h_e <=> gly_c + h_c\n",
      "PPM2 \t 2dr1p_c <=> 2dr5p_c\n",
      "EX_gly_e \t gly_e --> \n"
     ]
    }
   ],
   "source": [
    "# Single deletion\n",
    "#WT\n",
    "with model as tmodel:\n",
    "    [tmodel.reactions.get_by_id(rxn_id).knock_out() for rxn_id in deleted_rxns]\n",
    "    sd = cb.flux_analysis.single_reaction_deletion(tmodel)\n",
    "    no_effect_wt = set(map(lambda x: list(x)[0],sd.index[sd['growth'] >= min_wt_gr]))\n",
    "#Mut\n",
    "with model as tmodel:\n",
    "    [tmodel.reactions.get_by_id(rxn_id).knock_out() for rxn_id in mut_ko]\n",
    "    [tmodel.reactions.get_by_id(rxn_id).knock_out() for rxn_id in deleted_rxns]\n",
    "    sd = cb.flux_analysis.single_reaction_deletion(tmodel)\n",
    "    lethal_mut = set(map(lambda x: list(x)[0],sd.index[sd['growth'] <= max_mut_gr]))\n",
    "    \n",
    "candidates = no_effect_wt.intersection(lethal_mut)\n",
    "\n",
    "# display candidates:\n",
    "for rid in candidates:\n",
    "    print('{} \\t {}'.format(rid, model.reactions.get_by_id(rid).reaction))"
   ]
  },
  {
   "cell_type": "markdown",
   "metadata": {},
   "source": [
    "Three solutions seem available, but only one is feasible:\n",
    "1. Remove recyling of DNA/RNA sugars leading to acetaldehyde, which likely acts as electron sink. This pathway is not a well documented pathway in C. therm, and it is the only deletion which is consistent with growth recovery by addition of external electron sinks as shown below. \n",
    "2. Remove glycine secretion. This solutions is not consistent with growth recovery by addition of external electron sinks.\n",
    "3. Remove MTHFC. This prevents the synthesis of essential biomass precursors. However, the experimental dataset demonstrates that by adding reducible compounds to the media growth can be recovered. Also note that MTHFC deletion makes PFL essential on its own, and this deletion is known to not be essential. "
   ]
  },
  {
   "cell_type": "code",
   "execution_count": 8,
   "metadata": {},
   "outputs": [
    {
     "name": "stdout",
     "output_type": "stream",
     "text": [
      "IN FLUXES       OUT FLUXES       OBJECTIVES\n",
      "--------------  ---------------  -------------------------\n",
      "cellb_e  0.357  co2_e     1.25   BIOMASS_CELL...  -3.5e-15\n",
      "nh4_e    0.179  etoh_e    1.07\n",
      "                val__L_e  0.179\n",
      "                h_e       0.179\n",
      "WT-EX_h2s_e gr: 0.38\n",
      "Fraction of wt growth: -0.00\n"
     ]
    }
   ],
   "source": [
    "with model as tmodel:\n",
    "    [tmodel.reactions.get_by_id(rxn_id).knock_out() for rxn_id in mut_ko]\n",
    "    tmodel.reactions.EX_h2s_e.knock_out()\n",
    "    tmodel.reactions.DRPA.knock_out()\n",
    "\n",
    "    rmut = tmodel.optimize()\n",
    "    tmodel.summary()\n",
    "\n",
    "with model as tmodel:\n",
    "    tmodel.reactions.EX_h2s_e.knock_out()\n",
    "    tmodel.reactions.DRPA.knock_out()\n",
    "    r = tmodel.optimize()\n",
    "    print('WT-EX_h2s_e gr: {:.2f}'.format(r.objective_value))\n",
    "\n",
    "print('Fraction of wt growth: {:.2f}'.format(rmut.objective_value/r.objective_value))\n",
    "\n",
    "deleted_rxns = ['EX_h2s_e', 'DRPA']"
   ]
  },
  {
   "cell_type": "markdown",
   "metadata": {},
   "source": [
    "## Conclusion for Phenotype 1\n",
    "1. A secondary pathway formed by DRPA which produced acetaldehyde and g3p from dUTP was disabled to avoid an uncharacterized electron skink. \n",
    "2. Sulfide secretion provided an electron sink. When high amounts of sulfate are provided to the medium, growth is observed. Otherwise we consider this pathway to not be relevant, and thus remove sulfide secretion.\n",
    "\n",
    "Modification of these two features has no impact on wild type growth prediction but reduces mutant growth rate below 20% of the wild type maximum, which is considered lethal. "
   ]
  },
  {
   "cell_type": "markdown",
   "metadata": {},
   "source": [
    "# Phenotype 2: Do fumarate, sulfate, or ketoisovalerate recover growth in the mutant?\n",
    "\n",
    "In the Core model publication cited at the begining, the addition of the following reactions in separate instances led the model to precit growth:\n",
    "\n",
    "| ID    | Formula                                               | Genes             |\n",
    "|-------|-------------------------------------------------------|-------------------|\n",
    "| FUM1  | FUM_ext = FUM .                                       |                   |\n",
    "| FUM2  | FUM + NADH = SUCC + NAD .                             | Clo1313_2640;3018 |\n",
    "| FUM3  | SUCC = SUCC_ext.                                      |                   |\n",
    "| ISOV1 | AKIV_ext = AKIV .                                     |                   |\n",
    "| ISOV2 | AKIV + fdox + 2 NADPH = IBOH + CO2 + fdred + 2 NADP . | Clo1313_0382-383  |\n",
    "| ISOV3 | IBOH = IBOH_ext .                                     |                   |\n",
    "| SULF1 | SO4_ext = SO4 .                                       |                   |\n",
    "| SULF2 | SO4 + fdred = SO3 + fdox .                            | Clo1313_0118-124  |\n",
    "| SULF3 | SO3 + fdred = Sulfide + fdox .                        | Clo1313_0118-124  |\n",
    "| SULF4 | Sulfide = Sulf_ext .                                  |                   |\n",
    "\n",
    "As previously noted, only sulfate and kivd addition recover growth (albeit not as in the wild type, but rather with low growth or long lag phase)\n",
    "\n",
    "\n",
    "## Fumarate\n"
   ]
  },
  {
   "cell_type": "code",
   "execution_count": 9,
   "metadata": {},
   "outputs": [
    {
     "name": "stdout",
     "output_type": "stream",
     "text": [
      "IN FLUXES          OUT FLUXES         OBJECTIVES\n",
      "-----------------  -----------------  ---------------------\n",
      "fum_e      1e+03   co2_e     684      BIOMASS_CELL...  3.88\n",
      "h2o_e    618       succ_e    650\n",
      "h_e      320       ac_e      322\n",
      "nh4_e     26.4     gly_e       0.156\n",
      "cellb_e    4       phe__L_e    0.105\n",
      "k_e        3.69\n",
      "pi_e       3.09\n",
      "mg2_e      0.532\n",
      "so4_e      0.501\n",
      "fe3_e      0.018\n",
      "ca2_e      0.0168\n"
     ]
    }
   ],
   "source": [
    "with model as tmodel:\n",
    "    [tmodel.reactions.get_by_id(rxn_id).knock_out() for rxn_id in deleted_rxns]\n",
    "    [tmodel.reactions.get_by_id(rxn_id).knock_out() for rxn_id in mut_ko]\n",
    "\n",
    "    # allow fumarate input\n",
    "    tmodel.reactions.EX_fum_e.bounds = (-1000,0)\n",
    "    # fumraate reductase was added to the GEM. \n",
    "    # Include reaction converting fumarate to succinate, which is not present in the GEM\n",
    "    #FUM2 = cb.Reaction(id='FUM2')\n",
    "    #tmodel.add_reaction(FUM2)\n",
    "    #tmodel.reactions.FUM2.reaction = 'fum_c + nadh_c + h_c => succ_c + nad_c'\n",
    "    # allow succinate secretion\n",
    "    tmodel.reactions.EX_succ_e.bounds = (0,1000)\n",
    "    # tmodel.objective = 'FUM2' # check the reaction is not blocked\n",
    "    r = tmodel.optimize()\n",
    "    tmodel.summary()\n",
    "    mut_fum_gr = r.objective_value"
   ]
  },
  {
   "cell_type": "markdown",
   "metadata": {},
   "source": [
    "Fumarate predicts growth recovery consistently with the redox-imbalance hypothesis\n",
    "\n",
    "## Sulfate\n",
    "Sulfate is essential for the model, since it is used to provide sulfur for cysteine biosynthesis, as demonstrated by the plot below. \n",
    "However, we can simulate high concentrations of sulfate by enabling h2s secretion."
   ]
  },
  {
   "cell_type": "code",
   "execution_count": 10,
   "metadata": {},
   "outputs": [
    {
     "name": "stdout",
     "output_type": "stream",
     "text": [
      "(0, 1000)\n"
     ]
    },
    {
     "data": {
      "image/png": "[encoded data removed]",
      "text/plain": [
       "<Figure size 432x288 with 1 Axes>"
      ]
     },
     "metadata": {},
     "output_type": "display_data"
    }
   ],
   "source": [
    "x = np.linspace(-10,0,20)\n",
    "y = []\n",
    "with model:\n",
    "    for l in np.nditer(x):\n",
    "        model.reactions.EX_so4_e.lower_bound = l\n",
    "        y.append(model.optimize().objective_value)\n",
    "plt.scatter(x,y)\n",
    "plt.xlabel('EX_so4_e(lower bound)')\n",
    "plt.ylabel('Growth rate')\n",
    "print(model.reactions.EX_h2s_e.bounds)"
   ]
  },
  {
   "cell_type": "code",
   "execution_count": 11,
   "metadata": {},
   "outputs": [
    {
     "name": "stdout",
     "output_type": "stream",
     "text": [
      "IN FLUXES         OUT FLUXES          OBJECTIVES\n",
      "----------------  ------------------  ----------------------\n",
      "cellb_e  4        h_e       16.8      BIOMASS_CELL...  0.246\n",
      "nh4_e    1.67     lac__L_e  13.2\n",
      "k_e      0.233    co2_e      0.735\n",
      "pi_e     0.195    h2s_e      0.102\n",
      "so4_e    0.133    h2o_e      0.0502\n",
      "mg2_e    0.0336   gly_e      0.00983\n",
      "fe3_e    0.00114  phe__L_e   0.00664\n",
      "ca2_e    0.00106\n"
     ]
    }
   ],
   "source": [
    "with model as tmodel:\n",
    "    [tmodel.reactions.get_by_id(rxn_id).knock_out() for rxn_id in deleted_rxns]\n",
    "    [tmodel.reactions.get_by_id(rxn_id).knock_out() for rxn_id in mut_ko]\n",
    "\n",
    "    # allow sulfide secretion\n",
    "    tmodel.reactions.EX_h2s_e.bounds = (0,1000)\n",
    "\n",
    "    # tmodel.objective = 'FUM2' # check the reaction is not blocked\n",
    "    mut_sul_gr = tmodel.optimize().objective_value\n",
    "    tmodel.summary()"
   ]
  },
  {
   "cell_type": "markdown",
   "metadata": {},
   "source": [
    "Indeed so4 uptake is significantly increased, and a significant efflux of h2s enables growth."
   ]
  },
  {
   "cell_type": "markdown",
   "metadata": {},
   "source": [
    "## KIV\n",
    "\n",
    "Here we enable the isobutanol pathway providing one of its intermediates"
   ]
  },
  {
   "cell_type": "code",
   "execution_count": 12,
   "metadata": {},
   "outputs": [
    {
     "name": "stdout",
     "output_type": "stream",
     "text": [
      "IN FLUXES          OUT FLUXES         OBJECTIVES\n",
      "-----------------  -----------------  ----------------------\n",
      "h2o_e    10.7      co2_e     38.1     BIOMASS_CELL...  0.386\n",
      "h_e       7.31     ibutoh_e  24.9\n",
      "cellb_e   4        ac_e      11.9\n",
      "nh4_e     2.63     gly_e      0.0155\n",
      "k_e       0.367    phe__L_e   0.0104\n",
      "pi_e      0.307\n",
      "mg2_e     0.0529\n",
      "so4_e     0.0498\n",
      "fe3_e     0.00179\n",
      "ca2_e     0.00167\n"
     ]
    }
   ],
   "source": [
    "with model as tmodel:\n",
    "    [tmodel.reactions.get_by_id(rxn_id).knock_out() for rxn_id in deleted_rxns]\n",
    "    [tmodel.reactions.get_by_id(rxn_id).knock_out() for rxn_id in mut_ko]\n",
    "    tmodel.reactions.EX_ibutoh_e.bounds = (0,1000)\n",
    "    sk = tmodel.add_boundary(tmodel.metabolites.get_by_id('3mob_c'))\n",
    "    mut_kiv_gr = tmodel.optimize().objective_value\n",
    "    tmodel.summary()"
   ]
  },
  {
   "cell_type": "markdown",
   "metadata": {},
   "source": [
    "Again this fully recovers growth. Unlike fumarate, growth rate goes back to the wild-type level. \n",
    "\n",
    "## Conclusion for phenotype 2:\n",
    "The predictions are consistent with the core model, which accuratly represented experimental observations with the exception of fumarate. \n",
    "\n",
    "## Phenotype 3: Growth of LL1210\n",
    "\n",
    "As shown below the strain is able to grow, consistently with experimental observations."
   ]
  },
  {
   "cell_type": "code",
   "execution_count": 13,
   "metadata": {},
   "outputs": [
    {
     "name": "stdout",
     "output_type": "stream",
     "text": [
      "IN FLUXES          OUT FLUXES         OBJECTIVES\n",
      "-----------------  -----------------  ----------------------\n",
      "h2o_e    10.2      h2_e      24.3     BIOMASS_CELL...  0.381\n",
      "cellb_e   4        h_e       17.3\n",
      "nh4_e     2.6      co2_e     13\n",
      "k_e       0.363    ac_e      11.5\n",
      "pi_e      0.303    gly_e      0.0153\n",
      "mg2_e     0.0522   phe__L_e   0.0103\n",
      "so4_e     0.0493\n",
      "fe3_e     0.00177\n",
      "ca2_e     0.00165\n",
      "Growth rate of wt: 0.38, growth rate of Mut: 0.38, fraction: 1.00\n"
     ]
    }
   ],
   "source": [
    "# ll1210 mutant\n",
    "with model as tmodel:\n",
    "    [tmodel.reactions.get_by_id(rxn_id).knock_out() for rxn_id in deleted_rxns]\n",
    "    r_wt = model.optimize()\n",
    "    wt_gr = r_wt.objective_value\n",
    "    tmodel.reactions.BIF.knock_out() #hydg\n",
    "    tmodel.reactions.H2ASE_syn.knock_out() #hydg\n",
    "    tmodel.reactions.PFL.knock_out()\n",
    "    tmodel.reactions.LDH_L.knock_out()\n",
    "    tmodel.reactions.PTAr.knock_out()\n",
    "    tmodel.reactions.ACKr.knock_out()\n",
    "    \n",
    "    r = tmodel.optimize()\n",
    "    ll1210_gr = r.objective_value\n",
    "    tmodel.summary()\n",
    "    print('Growth rate of wt: {:.2f}, growth rate of Mut: {:.2f}, fraction: {:.2f}'.format(\n",
    "        r_wt.objective_value, r.objective_value, r.objective_value/r_wt.objective_value))\n",
    "\n",
    "    "
   ]
  },
  {
   "cell_type": "markdown",
   "metadata": {},
   "source": [
    "## Conclusion for phenotype 3\n",
    "As expected, the LL1210 mutant is able to to grow. "
   ]
  }
 ],
 "metadata": {
  "kernelspec": {
   "display_name": "Python 3",
   "language": "python",
   "name": "python3"
  },
  "language_info": {
   "codemirror_mode": {
    "name": "ipython",
    "version": 3
   },
   "file_extension": ".py",
   "mimetype": "text/x-python",
   "name": "python",
   "nbconvert_exporter": "python",
   "pygments_lexer": "ipython3",
   "version": "3.7.2"
  }
 },
 "nbformat": 4,
 "nbformat_minor": 2
}
