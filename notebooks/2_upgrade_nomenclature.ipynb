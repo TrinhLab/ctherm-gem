{
 "cells": [
  {
   "cell_type": "markdown",
   "metadata": {},
   "source": [
    "The main goal of the nomenclature update is to replace the metabolite and reaction ids from kegg ids into a human-readable form. Also some incosistencies may be fixed alogn the way. BiGG ids are currently the best option for metabolites and reactions. Unfortunately, this is not a trivial proccess, because bigg ids can match to several kegg ids, and also, not all kegg ids have a corresponding bigg id. This implies that some level of manual curation will have to be performed.\n",
    "In the first part of the upgrade process (this notebook) a series of tables will be constructured with default new reaction/metabolite ids and names. In the second part (next notebook), the manually curated tables will be applied to the model. \n"
   ]
  },
  {
   "cell_type": "code",
   "execution_count": 1,
   "metadata": {
    "collapsed": true
   },
   "outputs": [],
   "source": [
    "import cobra as cb\n",
    "import os\n",
    "import re\n",
    "import requests\n",
    "import pandas as pd\n",
    "\n",
    "model = cb.io.read_sbml_model(os.path.abspath(\"iSG/iSG601_1.xml\"))"
   ]
  },
  {
   "cell_type": "markdown",
   "metadata": {},
   "source": [
    "## Subsystems\n",
    "There are not universal identifiers for subsytems yet. However, from visual inspection we find some obvious duplicates in the model subsystems due to name capitalization. While other subsystems overlap (e.g. Phenylalanine metabolism, and Phenylalanine, tyrosine and tryptophan biosynthesis,etc.), they still maintain specific information, so for now they will be left as they are. At this point we are still fixing trivial errors, in the future subsystems will be curated in more detail."
   ]
  },
  {
   "cell_type": "code",
   "execution_count": 2,
   "metadata": {
    "collapsed": true
   },
   "outputs": [
    {
     "name": "stdout",
     "output_type": "stream",
     "text": [
      "\nAlanine, aspartate and glutamate metabolism\nAmino sugar and nucleotide sugar metabolism\nAminoacyl-tRNA biosynthesis\nAminobenzoate degradation\nArginine and proline metabolism\nAtrazine degradation\nBenzoate degradation\nBiosynthesis of 12-, 14- and 16-membered macrolides\nBiosynthesis of unsaturated fatty acids\nBiotin metabolism\nBisphenol degradation\nButanoate metabolism\nC5-Branched dibasic acid metabolism\nCaprolactam degradation\nCellulose Metabolism\nChloroalkane and chloroalkene degradation\nCitrate cycle (TCA cycle)\nCyanoamino acid metabolism\nCysteine Metabolism\nCysteine and methionine metabolism\nD-Alanine metabolism\nD-Glutamine and D-glutamate metabolism\nDrug metabolism - other enzymes\nEthylbenzene degradation\nFatty Acid Metabolism\nFatty acid biosynthesis\nFatty acid elongation\nFatty acid metabolism\nFatty acid synthesis\nFolate biosynthesis\nFructose and mannose metabolism\nGalactose metabolism\nGeraniol degradation\nGlutamate Metabolism\nGlutathione metabolism\nGlycerolipid metabolism\nGlycerophospholipid metabolism\nGlycine, serine and threonine metabolism\nGlycolysis / Gluconeogenesis\nGlycolysis/Gluconeogenesis\nGlyoxylate and dicarboxylate metabolism\nHOMOSER-THRESYN-PWY\nHistidine metabolism\nLimonene and pinene degradation\nLysine biosynthesis\nLysine degradation\nMethane metabolism\nMethionine Metabolism\nN-Glycan biosynthesis\nNaphthalene degradation\nNicotinate and nicotinamide metabolism\nNitrogen metabolism\nNitrotoluene degradation\nOne carbon pool by folate\nPantothenate and CoA biosynthesis\nPenicillin and cephalosporin biosynthesis\nPentose and glucuronate interconversions\nPentose phosphate pathway\nPeptidoglycan biosynthesis\nPhenylalanine metabolism\nPhenylalanine, tyrosine and tryptophan biosynthesis\nPhenylpropanoid biosynthesis\nPorphyrin and chlorophyll metabolism\nPropanoate metabolism\nPurine metabolism\nPyrimidine metabolism\nPyruvate Metabolism\nPyruvate metabolism\nRedox metabolism\nRiboflavin metabolism\nSelenocompound metabolism\nSphingolipid metabolism\nStarch and sucrose metabolism\nStreptomycin biosynthesis\nSugar Metabolism\nSulfur metabolism\nTaurine and hypotaurine metabolism\nTerpenoid backbone biosynthesis\nThiamine metabolism\nToluene degradation\nTransport between c and e\nTropane, piperidine and pyridine alkaloid biosynthesis\nTryptophan metabolism\nTyrosine metabolism\nTyrosine, Tryptophan, and Phenylalanine Metabolism\nUbiquinone and other terpenoid-quinone biosynthesis\nValine, leucine and isoleucine biosynthesis\nValine, leucine and isoleucine degradation\nVitamin B6 metabolism\nZeatin biosynthesis\nbeta-Alanine metabolism\n"
     ]
    }
   ],
   "source": [
    "all_subsystems= sorted(list(set([reaction.subsystem for reaction in model.reactions])))\n",
    "for i in range(len(all_subsystems)):\n",
    "    print(all_subsystems[i])"
   ]
  },
  {
   "cell_type": "code",
   "execution_count": 3,
   "metadata": {},
   "outputs": [],
   "source": [
    "# Manual corrections:\n",
    "consolidate_subsys = {'Fatty acid biosynthesis': 'Fatty acid synthesis',\n",
    "                      'Fatty Acid Metabolism': 'Fatty acid metabolism',\n",
    "                      'Glycolysis / Gluconeogenesis': 'Glycolysis/Gluconeogenesis',\n",
    "                      'Pyruvate Metabolism': 'Pyruvate metabolism'}\n",
    "\n",
    "with open(os.path.abspath(os.path.join('iSG','subsystem_corrections.csv')), 'w') as myfile:\n",
    "    myfile.write('Old-name,new-name\\n')\n",
    "    for key, value in consolidate_subsys.items():      \n",
    "        myfile.write(\"{0},{1}\\n\".format(key,value))"
   ]
  },
  {
   "cell_type": "markdown",
   "metadata": {},
   "source": [
    "## BiGG IDs\n",
    "First we will retreive the BiGG namespace mapping to kegg reactions. It should be noted that one kegg id is linked with several BiGG ids. "
   ]
  },
  {
   "cell_type": "code",
   "execution_count": 4,
   "metadata": {},
   "outputs": [],
   "source": [
    "# Reactions\n",
    "reaction_namespace = requests.get('http://bigg.ucsd.edu/static/namespace/bigg_models_reactions.txt').text.split('\\n')\n",
    "headers = reaction_namespace.pop(0)\n",
    "kegg2bigg_reactions= {}\n",
    "biggid2biggname_reactions ={}\n",
    "for line in reaction_namespace:\n",
    "    cols = line.split('\\t')\n",
    "    bigg_id = cols[0]\n",
    "    bigg_name = cols[1]\n",
    "    db_links = cols[4].split('; ')\n",
    "    for link in db_links:\n",
    "        if link.startswith('KEGG'):\n",
    "            kegg_id = re.search('(R\\d+)',link).group(1)\n",
    "            kegg2bigg_reactions.setdefault(kegg_id, []).append(bigg_id)\n",
    "    biggid2biggname_reactions[bigg_id] = bigg_name\n",
    "            \n",
    "# Metabolites\n",
    "metabolite_namespace = requests.get('http://bigg.ucsd.edu/static/namespace/bigg_models_metabolites.txt').text.split('\\n')\n",
    "headers = metabolite_namespace.pop(0)\n",
    "kegg2bigg_metabolites = {}\n",
    "biggid2biggname_metabolites = {}\n",
    "used_universal_ids = [] # Universal ids are repeated because keys correspond to bigg_ids. ASSUMING that datbase links are the same for all metabolites with the same universal id!\n",
    "for line in metabolite_namespace:\n",
    "    cols = line.split('\\t')\n",
    "    universal_bigg_id = cols[1]\n",
    "    bigg_name = cols[2]\n",
    "    if universal_bigg_id not in used_universal_ids:\n",
    "        used_universal_ids.append(universal_bigg_id)\n",
    "        db_links = cols[4].split('; ')\n",
    "        for link in db_links:\n",
    "            if link.startswith('KEGG Compound'):\n",
    "                kegg_id = re.search('(C|G)\\d+',link).group(0) # G are glycans, which often have an equivalent C\n",
    "                kegg2bigg_metabolites.setdefault(kegg_id, []).append(universal_bigg_id)\n",
    "    biggid2biggname_metabolites[universal_bigg_id] = bigg_name"
   ]
  },
  {
   "cell_type": "markdown",
   "metadata": {},
   "source": [
    "### Reactions"
   ]
  },
  {
   "cell_type": "code",
   "execution_count": 5,
   "metadata": {},
   "outputs": [],
   "source": [
    "# Reaction nomenclature table\n",
    "# The default name will avoid ids with lowercase letters or digits if possible\n",
    "def rmCompartment(id_str,compartment):\n",
    "    return re.sub('_'+ compartment +'$', '', id_str)\n",
    "def get_elemnts_with_lowercase(lin):\n",
    "    return [elem for elem in lin if any([c for c in elem if c.islower()])]\n",
    "def get_elemnts_with_digit(lin):\n",
    "    return [elem for elem in lin if any([c for c in elem if c.isdigit()])]\n",
    "    \n",
    "# Reaction table \n",
    "iat_id = [rxn.id for rxn in model.reactions]\n",
    "iat_name = [rxn.name for rxn in model.reactions]\n",
    "iat_KEGG = []\n",
    "iat_BIGG = []\n",
    "iat_core = []\n",
    "bigg_id = []\n",
    "bigg_name = []\n",
    "isg_id = []\n",
    "isg_name = []\n",
    "\n",
    "for rxn in model.reactions:\n",
    "    # iat data\n",
    "    if 'KEGG' in rxn.notes:\n",
    "        iat_KEGG.append(rxn.notes['KEGG'])\n",
    "    else:\n",
    "        iat_KEGG.append('')\n",
    "    \n",
    "    if 'BIGG' in rxn.notes:\n",
    "        iat_BIGG.append(rxn.notes['BIGG'])\n",
    "    else:\n",
    "        iat_BIGG.append('')\n",
    "    if 'iAT_CORE' in rxn.notes:\n",
    "        iat_core.append(rxn.notes['iAT_CORE'])\n",
    "    else:\n",
    "        iat_core.append('')\n",
    "        \n",
    "    # match with bigg\n",
    "    reaction_id_nc = rmCompartment(rxn.id,'c') # some reactions with kegg id have _c appended\n",
    "    if reaction_id_nc in kegg2bigg_reactions:\n",
    "        bigg_match_id = kegg2bigg_reactions[reaction_id_nc] \n",
    "        bigg_match_name = [biggid2biggname_reactions[bigg_id] for bigg_id in bigg_match_id]\n",
    "        bigg_id.append(bigg_match_id)\n",
    "        bigg_name.append(bigg_match_name)\n",
    "        \n",
    "    # default name for isg\n",
    "        lc_ids = get_elemnts_with_lowercase(bigg_match_id)\n",
    "        num_ids = get_elemnts_with_digit(bigg_match_id)\n",
    "        cand_id = list((set(bigg_match_id) - set(lc_ids))-set(num_ids))\n",
    "        \n",
    "        if not cand_id:\n",
    "            def_isg_id = bigg_match_id[0]\n",
    "        else:\n",
    "            def_isg_id = cand_id[0]\n",
    "            \n",
    "        isg_id.append(def_isg_id)\n",
    "        isg_name.append(biggid2biggname_reactions[def_isg_id])\n",
    "    else:\n",
    "        bigg_id.append('')\n",
    "        bigg_name.append('')\n",
    "        isg_id.append('')\n",
    "        isg_name.append('')"
   ]
  },
  {
   "cell_type": "code",
   "execution_count": 6,
   "metadata": {},
   "outputs": [],
   "source": [
    "#load reaction equations\n",
    "req = pd.read_excel(os.path.abspath(os.path.join('iAT601','iAT601_reaction_equations.xlsx')))\n",
    "req.set_index(['rxn_id'], inplace= True)\n",
    "requation = req.to_dict()\n",
    "req.head()\n",
    "id2eq = requation['rxn_eq']\n",
    "iat_formula = []\n",
    "iat_formula = [id2eq[rxnid] for rxnid in iat_id]"
   ]
  },
  {
   "cell_type": "code",
   "execution_count": 7,
   "metadata": {},
   "outputs": [],
   "source": [
    "#write out table\n",
    "# we will improve these defaults later\n",
    "col_names = ['iat_id','iat_name','iat_formula','iat_kegg','iat_bigg','iat_core','bigg_id','bigg_name','isg_id','isg_name']\n",
    "reaction_nom = pd.DataFrame(\n",
    "    {'iat_id': iat_id,\n",
    "     'iat_name': iat_name,\n",
    "     'iat_formula': iat_formula,\n",
    "     'iat_kegg': iat_KEGG,\n",
    "     'iat_bigg': iat_BIGG,\n",
    "     'iat_core': iat_core,\n",
    "     'bigg_id': bigg_id,\n",
    "     'bigg_name': bigg_name,\n",
    "     'isg_id': isg_id,\n",
    "     'isg_name': isg_name}, columns=col_names)\n",
    "reaction_nom.to_csv(os.path.abspath(os.path.join('iSG', 'reaction_nomenclature.csv')),index=False)"
   ]
  },
  {
   "cell_type": "markdown",
   "metadata": {},
   "source": [
    "### Metabolites\n",
    "This case is simpler, as metabolites rarely link to more than one bigg id. Also metabolite metadata is more limited\n",
    "However, there are a couple of issues in iAT601: First, the metabolite formula is embedded in the name. Second, not all metabolites include a formula embedded in their name."
   ]
  },
  {
   "cell_type": "code",
   "execution_count": 10,
   "metadata": {},
   "outputs": [],
   "source": [
    "# table \n",
    "iat_id = [met.id for met in model.metabolites]\n",
    "iat_name = [met.name for met in model.metabolites]\n",
    "bigg_id = []\n",
    "bigg_name = []\n",
    "isg_id = []\n",
    "isg_name = []\n",
    "isg_formula = []\n",
    "\n",
    "for met in model.metabolites:\n",
    "    try:\n",
    "        isg_formula.append(met.name.split('_')[1])\n",
    "    except IndexError:\n",
    "        isg_formula.append(met.name)\n",
    "    except:\n",
    "        print(\"Unexpected error:\", sys.exc_info()[0])\n",
    "        raise\n",
    "    # match with bigg\n",
    "    met_id_nc = rmCompartment(met.id, 'c') # some reactions with kegg id have _c appended\n",
    "    if met_id_nc in kegg2bigg_metabolites:\n",
    "        bigg_match_id = kegg2bigg_metabolites[met_id_nc] \n",
    "        bigg_match_name = [biggid2biggname_metabolites[bigg_id] for bigg_id in bigg_match_id]\n",
    "        if len(bigg_match_id) > 1:\n",
    "            bigg_id.append(bigg_match_id)\n",
    "            bigg_name.append(bigg_match_name)\n",
    "        else:   \n",
    "            bigg_id.append('')\n",
    "            bigg_name.append('')\n",
    "        \n",
    "        isg_id.append(bigg_match_id[0])\n",
    "        isg_name.append(bigg_match_name[0]) \n",
    "    else:\n",
    "        bigg_id.append('')\n",
    "        bigg_name.append('')\n",
    "        isg_id.append('')\n",
    "        isg_name.append(met.name.split('_')[0])"
   ]
  },
  {
   "cell_type": "code",
   "execution_count": 11,
   "metadata": {},
   "outputs": [],
   "source": [
    "# write out\n",
    "col_names = ['iat_id','iat_name','bigg_id(>1)', 'bigg_name(>1)','isg_id','isg_formula','isg_name']\n",
    "reaction_nom = pd.DataFrame(\n",
    "    {'iat_id': iat_id,\n",
    "     'iat_name': iat_name,\n",
    "     'bigg_id(>1)': bigg_id,\n",
    "     'bigg_name(>1)': bigg_name,\n",
    "     'isg_id': isg_id,\n",
    "     'isg_formula': isg_formula,\n",
    "     'isg_name': isg_name}, columns=col_names)\n",
    "reaction_nom.to_csv(os.path.abspath(os.path.join('iSG', 'metabolite_nomenclature.csv')),index=False)"
   ]
  }
 ],
 "metadata": {
  "kernelspec": {
   "display_name": "Python 2",
   "language": "python",
   "name": "python2"
  },
  "language_info": {
   "codemirror_mode": {
    "name": "ipython",
    "version": 2
   },
   "file_extension": ".py",
   "mimetype": "text/x-python",
   "name": "python",
   "nbconvert_exporter": "python",
   "pygments_lexer": "ipython2",
   "version": "2.7.6"
  }
 },
 "nbformat": 4,
 "nbformat_minor": 0
}
