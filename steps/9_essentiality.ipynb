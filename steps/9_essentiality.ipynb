{
 "cells": [
  {
   "cell_type": "markdown",
   "metadata": {},
   "source": [
    "# Essentiality analysis\n",
    "\n",
    "The goal of this analysis is to ensure the model correctly predicts the presence or absence of cell growth for well known mutants. Unlike for _E. coli_, extensive mutant libraries have not been charcterized for C. therm. Rather, a few mutants of biotechnological relevance have been relatively well studied.\n",
    "\n",
    "## Background\n",
    "\n",
    "### HydG-ech derived mutants\n",
    "\n",
    "The standard for GEM model validation is the prediction of essentiality phenotypes. In particular, those relevant to metabolic engineering of C. thermocellum should be predicted accurately. To prevent designs which grow in-silico but are lethal in vivo.\n",
    "\n",
    "In the publication \n",
    "> Thompson, R. Adam, et al. \"Elucidating central metabolic redox obstacles hindering ethanol production in Clostridium thermocellum.\" Metabolic engineering 32 (2015): 207-219.\"\n",
    "\n",
    "different lethal phenotypes captured by a core model are presented. The experimental evidence is provided in the figure below.\n",
    "\n",
    "Fig. 5. Growth characteristics of parent strain (triangles) and ΔhydG Δech (circles) in MTC media (filled symbols) or MTC with the PFL inhibitor hypophosphite (open symbols). To investigate redox bottlenecks, no additional electron sink (A), 20 mM fumarate (B), 20 mM 2-ketoisovalerate (C), or 2 g/L total sulfate (D) were included in the medium to probe NADH, NAD(P)H, and Fdrd, respectively.\n",
    "\n",
    "<img src=\"fig5_thompson2015.jpg\" alt=\"Drawing\" style=\"width: 100px;\"/>\n",
    "\n",
    "Based on this evidence, the following phenotypes should be captured by the model:\n",
    "1. hydG-ech-pfl deletion is lethal\n",
    "2. hydG-ech-pfl deletion can recover growth in the presence of an external electron sink, either sulfate or kiv.\n",
    "\n",
    "The most important being phenotype 1.\n",
    "\n",
    "## LL1210 related mutants\n",
    "The publication \n",
    "> Tian, Liang, et al. \"Simultaneous achievement of high ethanol yield and titer in Clostridium thermocellum.\" Biotechnology for biofuels 9.1 (2016): 116.\n",
    "\n",
    "studies the mutant with deletion of hydG, ldh, pfl, pta-ackA\n",
    "\n",
    "| Strain name | Description                                                | Growth rate μ (h−1) |\n",
    "|-------------|------------------------------------------------------------|---------------------|\n",
    "| AG553       | C. thermocellum DSM1313 Δhpt ΔhydG Δldh Δpfl Δpta-ack [10] | 0.06 ± 0.01         |\n",
    "| AG601       | Selected from AG553 after first stage adaptive evolution   | 0.10 ± 0.01         |\n",
    "| LL1210      | Selected from AG601 after second stage adaptive evolution  | 0.22 ± 0.02         |\n",
    "\n",
    "As a reference a wild type in avicell tubes grows at 0.33-0.39 (h-1) (see extracelular flux table). While it is not crucial to capture the quantitative change in growth rate it is imporant to ensure that:\n",
    "3. hydg-ldh-pfl-pta/ack mutant can grow"
   ]
  },
  {
   "cell_type": "markdown",
   "metadata": {},
   "source": [
    "# Model simulations"
   ]
  },
  {
   "cell_type": "code",
   "execution_count": 1,
   "metadata": {},
   "outputs": [],
   "source": [
    "%matplotlib inline\n",
    "import os\n",
    "import sys\n",
    "sys.path.append('/home/sergio/Dropbox/cthermgem-dev')\n",
    "os.chdir('/home/sergio/Dropbox/cthermgem-dev')\n",
    "import matplotlib.pyplot as plt\n",
    "plt.style.use('seaborn')\n",
    "import csv\n",
    "\n",
    "import numpy as np\n",
    "import tools.conf_model\n",
    "import cobra as cb\n",
    "import settings\n",
    "from tools.essentiality import *\n",
    "model = cb.io.load_json_model(os.path.join(settings.INTERMEDIATE_MODEL_ROOT, 'iSG_5.json'))\n",
    "set_conditions(model, medium_str='cellb', secretion='common_secretion')\n",
    "model.objective = 'BIOMASS_CELLOBIOSE'\n",
    "\n",
    "#Several features were updated after this notebook, thus to make the code reproducible, this features must be reverted to their original state:\n",
    "model.reactions.EX_h2s_e.bounds = (0,1000) # Enable sulfide secretion\n",
    "model.reactions.ACS.bounds = (0,1000) # Enable ACS"
   ]
  },
  {
   "cell_type": "markdown",
   "metadata": {},
   "source": [
    "## Phenotype 1: hydG-ech-pfl mutant cannot growth in minimal medium"
   ]
  },
  {
   "cell_type": "code",
   "execution_count": 2,
   "metadata": {},
   "outputs": [
    {
     "name": "stdout",
     "output_type": "stream",
     "text": [
      "Growth rate of wt: 0.38\n",
      "Growth rate of hydG-ech-pfl ko: 0.19 \t fraction of wt: 0.50\n",
      "IN FLUXES          OUT FLUXES         OBJECTIVES\n",
      "-----------------  -----------------  ----------------------\n",
      "cellb_e  4         lac__L_e  8.16     BIOMASS_CELL...  0.188\n",
      "so4_e    1.94      h_e       7.46\n",
      "nh4_e    1.41      h2o_e     6.92\n",
      "pi_e     0.203     co2_e     5.98\n",
      "k_e      0.179     etoh_e    5.42\n",
      "mg2_e    0.0258    h2s_e     1.92\n",
      "fe3_e    0.000874  phe__L_e  0.0448\n",
      "ca2_e    0.000813  gly_e     0.00755\n"
     ]
    }
   ],
   "source": [
    "r_wt = model.optimize()\n",
    "print('Growth rate of wt: {:.2f}'.format(r_wt.objective_value))\n",
    "\n",
    "mut_ko = ['BIF','H2ASE_syn', 'PFL', 'ECH']\n",
    "with model as tmodel:\n",
    "    [tmodel.reactions.get_by_id(rxn_id).knock_out() for rxn_id in mut_ko]\n",
    "    r = tmodel.optimize()\n",
    "    print('Growth rate of hydG-ech-pfl ko: {:.2f} \\t fraction of wt: {:.2f}'.format(r.objective_value, r.objective_value/r_wt.objective_value))    \n",
    "    tmodel.summary()"
   ]
  },
  {
   "cell_type": "markdown",
   "metadata": {},
   "source": [
    "The growth rate of this mutant is 50% that of the wild type. GEMs are known to overpredict growth since they do not account for important kinetic and regulatory limiations. However, lethality is often consired around a reduction of 80-90% of the theoretical maximum. Using that reference, we can say that __the model is failing to predict the lethality phenotype.__"
   ]
  },
  {
   "cell_type": "markdown",
   "metadata": {},
   "source": [
    "We observe sulfide secretion, this pathway was studied by Thompson 2015 and further analyzed by [Biswas 2017]( https://biotechnologyforbiofuels.biomedcentral.com/articles/10.1186/s13068-016-0684-x). Biswas 2017 observed a range of 10-20 umol depending on the mutant. \n",
    "    "
   ]
  },
  {
   "cell_type": "code",
   "execution_count": 3,
   "metadata": {},
   "outputs": [
    {
     "name": "stdout",
     "output_type": "stream",
     "text": [
      "IN FLUXES          OUT FLUXES          OBJECTIVES\n",
      "-----------------  ------------------  ----------------------\n",
      "cellb_e  4         h_e       15        BIOMASS_CELL...  0.158\n",
      "h2o_e    1.27      lac__L_e  14\n",
      "nh4_e    1.19      co2_e      0.473\n",
      "pi_e     0.17      phe__L_e   0.0375\n",
      "k_e      0.15      gly_e      0.00633\n",
      "mg2_e    0.0216\n",
      "so4_e    0.0204\n",
      "fe3_e    0.000733\n",
      "ca2_e    0.000682\n",
      "WT-EX_h2s_e gr: 0.38\n",
      "Fraction of wt growth: 0.42\n"
     ]
    }
   ],
   "source": [
    "with model as tmodel:\n",
    "    [tmodel.reactions.get_by_id(rxn_id).knock_out() for rxn_id in mut_ko]\n",
    "    tmodel.reactions.EX_h2s_e.knock_out()\n",
    "    rmut = tmodel.optimize()\n",
    "    tmodel.summary()\n",
    "\n",
    "with model as tmodel:\n",
    "    tmodel.reactions.EX_h2s_e.knock_out()\n",
    "    r = tmodel.optimize()\n",
    "    print('WT-EX_h2s_e gr: {:.2f}'.format(r.objective_value))\n",
    "\n",
    "print('Fraction of wt growth: {:.2f}'.format(rmut.objective_value/r.objective_value))\n",
    "\n",
    "deleted_rxns = ['EX_h2s_e']"
   ]
  },
  {
   "cell_type": "markdown",
   "metadata": {},
   "source": [
    "The elimination of sulfide secretion continues to reduce growth rate of the mutant to 42% of the wild type.\n",
    "\n",
    "The current understanding of this mutant is that POR cannot produce suficcient acetyl-coa for growth due to the accumulation of reduced ferredoxin. This opens two hypothesis that still explain growth:\n",
    "1. An alternative source of Acetyl-CoA is active.\n",
    "2. An alternative ferredoxin (or indirectly nad(p)h) oxidation pathway is active."
   ]
  },
  {
   "cell_type": "code",
   "execution_count": 4,
   "metadata": {},
   "outputs": [
    {
     "name": "stdout",
     "output_type": "stream",
     "text": [
      "PRODUCING REACTIONS -- Acetyl-CoA (accoa_c)\n",
      "-------------------------------------------\n",
      "%       FLUX  RXN ID    REACTION\n",
      "---  -------  --------  --------------------------------------------------\n",
      "97%  14.1     ACS       ac_c + atp_c + coa_c --> accoa_c + amp_c + ppi_c\n",
      "3%    0.436   POR       coa_c + 2.0 fdxo_42_c + pyr_c --> accoa_c + co2...\n",
      "\n",
      "CONSUMING REACTIONS -- Acetyl-CoA (accoa_c)\n",
      "-------------------------------------------\n",
      "%       FLUX  RXN ID    REACTION\n",
      "---  -------  --------  --------------------------------------------------\n",
      "97%  14.1     PTAr      accoa_c + pi_c <=> actp_c + coa_c\n",
      "1%    0.198   ACCOAC    accoa_c + atp_c + co2_c + h2o_c --> adp_c + 2.0...\n",
      "1%    0.114   CS        accoa_c + h2o_c + oaa_c --> cit_c + coa_c + h_c\n",
      "0%    0.0609  HSERTA    accoa_c + hom__L_c <=> achms_c + coa_c\n",
      "0%    0.0527  IPPS      3mob_c + accoa_c + h2o_c --> 3c3hmp_c + coa_c +...\n",
      "0%    0.0452  G1PACT    accoa_c + gam1p_c --> acgam1p_c + coa_c + h_c\n",
      "0%    0.0252  ACOATA    ACP_c + accoa_c --> acACP_c + coa_c\n",
      "IN FLUXES          OUT FLUXES          OBJECTIVES\n",
      "-----------------  ------------------  -----------------------\n",
      "nh4_e    8.03      h2o_e     12.4      BIOMASS_CELL...  0.0761\n",
      "cellb_e  4         h_e        7.98\n",
      "pi_e     0.082     co2_e      7.72\n",
      "k_e      0.0724    val__L_e   7.42\n",
      "mg2_e    0.0104    phe__L_e   0.057\n",
      "so4_e    0.00983   etoh_e     0.0389\n",
      "fe3_e    0.000353  ac_e       0.0325\n",
      "ca2_e    0.000328  gly_e      0.00305\n",
      "PRODUCING REACTIONS -- Acetyl-CoA (accoa_c)\n",
      "-------------------------------------------\n",
      "%       FLUX  RXN ID    REACTION\n",
      "----  ------  --------  --------------------------------------------------\n",
      "100%  0.242   POR       coa_c + 2.0 fdxo_42_c + pyr_c --> accoa_c + co2...\n",
      "\n",
      "CONSUMING REACTIONS -- Acetyl-CoA (accoa_c)\n",
      "-------------------------------------------\n",
      "%       FLUX  RXN ID    REACTION\n",
      "----  ------  --------  --------------------------------------------------\n",
      "39%   0.0955  ACCOAC    accoa_c + atp_c + co2_c + h2o_c --> adp_c + 2.0...\n",
      "23%   0.0551  CS        accoa_c + h2o_c + oaa_c --> cit_c + coa_c + h_c\n",
      "12%   0.0293  HSERTA    accoa_c + hom__L_c <=> achms_c + coa_c\n",
      "10%   0.0254  IPPS      3mob_c + accoa_c + h2o_c --> 3c3hmp_c + coa_c +...\n",
      "9%    0.0218  G1PACT    accoa_c + gam1p_c --> acgam1p_c + coa_c + h_c\n",
      "5%    0.0121  ACOATA    ACP_c + accoa_c --> acACP_c + coa_c\n",
      "\n",
      "WT-EX_h2s_e gr: 0.38\n",
      "Fraction of wt growth: 0.20\n"
     ]
    }
   ],
   "source": [
    "# Sources of accoa\n",
    "with model as tmodel:\n",
    "    [tmodel.reactions.get_by_id(rxn_id).knock_out() for rxn_id in mut_ko]\n",
    "    [tmodel.reactions.get_by_id(rxn_id).knock_out() for rxn_id in deleted_rxns]\n",
    "    tmodel.metabolites.accoa_c.summary()\n",
    "    tmodel.reactions.ACS.knock_out()\n",
    "    rmut = tmodel.optimize()\n",
    "    tmodel.summary()\n",
    "    tmodel.metabolites.accoa_c.summary()\n",
    "\n",
    "with model as tmodel:\n",
    "    [tmodel.reactions.get_by_id(rxn_id).knock_out() for rxn_id in deleted_rxns]\n",
    "    tmodel.reactions.ACS.knock_out()\n",
    "    r = tmodel.optimize()\n",
    "\n",
    "print('\\nWT-EX_h2s_e gr: {:.2f}'.format(r.objective_value))\n",
    "mut_gr = rmut.objective_value\n",
    "print('Fraction of wt growth: {:.2f}'.format(mut_gr/r.objective_value))\n",
    "\n",
    "deleted_rxns.append('ACS')"
   ]
  },
  {
   "cell_type": "markdown",
   "metadata": {},
   "source": [
    "We observed that ACS was capable of generating the majority of acetyl CoA required for growth. ACS was added to the model due to the genome annotation but there is no evidence of this reaction in C. therm. Furhtermore acetate consumption phenotypes have not been observed. So the current knowledge leads us to believe that ACS is not active in C. therm.\n",
    "\n",
    "These modifications reduce growth to 20% of the wild type. This can be considered lethal, even for more curated models. We will dig a bit further to identify what pathways still support growth.\n",
    "\n",
    "Investigating potential errors in redox metabolism is much more challenging since due to its highly redundant and interconected nature, as well as interactions with major metabolic reactions which cannot be deleted. Thus, we will perform a systematic deletion analysis to identify which single-deletions reduce growth rate below 20% of the wild type value"
   ]
  },
  {
   "cell_type": "code",
   "execution_count": 5,
   "metadata": {},
   "outputs": [
    {
     "name": "stdout",
     "output_type": "stream",
     "text": [
      "Essential in: WT: 210; Mut: 225, Mutant and not WT (excluding reactions which reduce wt growth below 90%): 16\n",
      "\n",
      "DRPA \t 2dr5p_c --> acald_c + g3p_c\n",
      "GLYt2r \t gly_c + h_c <=> gly_e + h_e\n",
      "POR \t coa_c + 2.0 fdxo_42_c + pyr_c --> accoa_c + co2_c + 2.0 fdxr_42_c + h_c\n",
      "GLUDy \t glu__L_c + h2o_c + nadp_c <=> akg_c + h_c + nadph_c + nh4_c\n",
      "ALCD2x \t acald_c + h_c + nadh_c --> etoh_c + nad_c\n",
      "PPM2 \t 2dr1p_c <=> 2dr5p_c\n",
      "MTHFC \t h2o_c + methf_c <=> 10fthf_c\n",
      "EX_etoh_e \t etoh_e --> \n",
      "PPDK \t amp_c + h_c + pep_c + ppi_c --> atp_c + pi_c + pyr_c\n",
      "VALt2r \t h_c + val__L_c <=> h_e + val__L_e\n",
      "EX_gly_e \t gly_e --> \n",
      "NDPK1 \t atp_c + gdp_c <=> adp_c + gtp_c\n",
      "ETOHt \t etoh_c <=> etoh_e\n",
      "FRNDPR2r \t 2.0 fdxr_42_c + h_c + nadh_c + 2.0 nadp_c <=> 2.0 fdxo_42_c + nad_c + 2.0 nadph_c\n",
      "ATPS \t atp_c + h2o_c + h_c --> adp_c + 2.0 h_e + pi_c\n",
      "EX_val__L_e \t val__L_e --> \n"
     ]
    }
   ],
   "source": [
    "with model as tmodel:\n",
    "    [tmodel.reactions.get_by_id(rxn_id).knock_out() for rxn_id in deleted_rxns]\n",
    "    # wt\n",
    "    r_wt = tmodel.optimize()\n",
    "    wt_del = cb.flux_analysis.single_reaction_deletion(tmodel)\n",
    "    \n",
    "    # mut\n",
    "    [tmodel.reactions.get_by_id(rxn_id).knock_out() for rxn_id in mut_ko]\n",
    "    mut_del = cb.flux_analysis.single_reaction_deletion(tmodel)\n",
    "\n",
    "MIN_GROWTH = 0.2* r_wt.objective_value\n",
    "mut_essen = set(mut_del.index[mut_del['growth']<= MIN_GROWTH])\n",
    "wt_essen = set(wt_del.index[wt_del['growth']<= MIN_GROWTH])\n",
    "wt_eff = set(wt_del.index[wt_del['growth'] < 0.9*r_wt.objective_value]) # deletions which reduce wt growth below 90% of the original value\n",
    "\n",
    "print('Essential in: WT: {}; Mut: {}, Mutant and not WT (excluding reactions which reduce wt growth below 90%): {}\\n'.format(len(wt_essen), len(mut_essen), len((mut_essen-wt_essen)-wt_eff)))\n",
    "keyrxn = mut_essen-wt_essen-wt_eff\n",
    "for rxn in keyrxn:\n",
    "    rxnid = list(rxn)[0]\n",
    "    print('{} \\t {}'.format(list(rxn)[0], model.reactions.get_by_id(rxnid).reaction))"
   ]
  },
  {
   "cell_type": "markdown",
   "metadata": {},
   "source": [
    "Several electron sinks suport growth. Notably MTHFC deletion makes PFL essential. "
   ]
  },
  {
   "cell_type": "markdown",
   "metadata": {},
   "source": [
    "## Conclusion for Phenotype 1\n",
    "1. ACS was providing an acetyl-CoA source which is likely not present or relevant in C. therm. There is no evidence of this reaction in C. therm. \n",
    "2. Sulfide secretion provided an electron sink. When high amounts of sulfate are provided to the medium, growth is observed. Otherwise we consider this pathway to not be relevant, and thus remove sulfide secretion.\n",
    "Modification of these two features reduces growth rate to 20% of the wild type maximum, which is considered lethal. "
   ]
  },
  {
   "cell_type": "markdown",
   "metadata": {},
   "source": [
    "# Phenotype 2: Do fumarate, sulfate, or ketoisovalerate recover growth in the mutant?\n",
    "\n",
    "In the Core model publication cited at the begining, the addition of the following reactions in separate instances led the model to precit growth:\n",
    "\n",
    "| ID    | Formula                                               | Genes             |\n",
    "|-------|-------------------------------------------------------|-------------------|\n",
    "| FUM1  | FUM_ext = FUM .                                       |                   |\n",
    "| FUM2  | FUM + NADH = SUCC + NAD .                             | Clo1313_2640;3018 |\n",
    "| FUM3  | SUCC = SUCC_ext.                                      |                   |\n",
    "| ISOV1 | AKIV_ext = AKIV .                                     |                   |\n",
    "| ISOV2 | AKIV + fdox + 2 NADPH = IBOH + CO2 + fdred + 2 NADP . | Clo1313_0382-383  |\n",
    "| ISOV3 | IBOH = IBOH_ext .                                     |                   |\n",
    "| SULF1 | SO4_ext = SO4 .                                       |                   |\n",
    "| SULF2 | SO4 + fdred = SO3 + fdox .                            | Clo1313_0118-124  |\n",
    "| SULF3 | SO3 + fdred = Sulfide + fdox .                        | Clo1313_0118-124  |\n",
    "| SULF4 | Sulfide = Sulf_ext .                                  |                   |\n",
    "\n",
    "As previously noted, only sulfate and kivd addition recover growth (albeit not as in the wild type, but rather with low growth or long lag phase)\n",
    "\n",
    "\n",
    "## Fumarate\n"
   ]
  },
  {
   "cell_type": "code",
   "execution_count": 6,
   "metadata": {},
   "outputs": [
    {
     "name": "stdout",
     "output_type": "stream",
     "text": [
      "IN FLUXES           OUT FLUXES         OBJECTIVES\n",
      "------------------  -----------------  ----------------------\n",
      "fum_e    128        succ_e    105      BIOMASS_CELL...  0.598\n",
      "h2o_e     48.5      co2_e      56.6\n",
      "h_e       11.1      ac_e       31.6\n",
      "nh4_e      4.49     phe__L_e    0.142\n",
      "cellb_e    4        gly_e       0.024\n",
      "pi_e       0.645\n",
      "k_e        0.569\n",
      "mg2_e      0.082\n",
      "so4_e      0.0773\n",
      "fe3_e      0.00278\n",
      "ca2_e      0.00258\n"
     ]
    }
   ],
   "source": [
    "with model as tmodel:\n",
    "    [tmodel.reactions.get_by_id(rxn_id).knock_out() for rxn_id in deleted_rxns]\n",
    "    [tmodel.reactions.get_by_id(rxn_id).knock_out() for rxn_id in mut_ko]\n",
    "\n",
    "    # allow fumarate input\n",
    "    tmodel.reactions.EX_fum_e.bounds = (-1000,0)\n",
    "    # Include reaction converting fumarate to succinate, which is not present in the GEM\n",
    "    FUM2 = cb.Reaction(id='FUM2')\n",
    "    tmodel.add_reaction(FUM2)\n",
    "    tmodel.reactions.FUM2.reaction = 'fum_c + nadh_c + h_c => succ_c + nad_c'\n",
    "    # allow succinate secretion\n",
    "    tmodel.reactions.EX_succ_e.bounds = (0,1000)\n",
    "    # tmodel.objective = 'FUM2' # check the reaction is not blocked\n",
    "    r = tmodel.optimize()\n",
    "    tmodel.summary()\n",
    "    mut_fum_gr = r.objective_value"
   ]
  },
  {
   "cell_type": "markdown",
   "metadata": {},
   "source": [
    "Fumarate predicts growth recovery consistently with the redox-imbalance hypothesis\n",
    "\n",
    "## Sulfate\n",
    "Sulfate is essential for the model, since it is used to provide sulfur for cysteine biosynthesis, as demonstrated by the plot below. \n",
    "However, we can simulate high concentrations of sulfate by enabling h2s secretion."
   ]
  },
  {
   "cell_type": "code",
   "execution_count": 7,
   "metadata": {},
   "outputs": [
    {
     "name": "stdout",
     "output_type": "stream",
     "text": [
      "(0, 1000)\n"
     ]
    },
    {
     "data": {
      "image/png": "[encoded data removed]",
      "text/plain": [
       "<Figure size 432x288 with 1 Axes>"
      ]
     },
     "metadata": {},
     "output_type": "display_data"
    }
   ],
   "source": [
    "x = np.linspace(-10,0,20)\n",
    "y = []\n",
    "with model:\n",
    "    for l in np.nditer(x):\n",
    "        model.reactions.EX_so4_e.lower_bound = l\n",
    "        y.append(model.optimize().objective_value)\n",
    "plt.scatter(x,y)\n",
    "plt.xlabel('EX_so4_e(lower bount)')\n",
    "plt.ylabel('Growth rate')\n",
    "print(model.reactions.EX_h2s_e.bounds)"
   ]
  },
  {
   "cell_type": "code",
   "execution_count": 8,
   "metadata": {},
   "outputs": [
    {
     "name": "stdout",
     "output_type": "stream",
     "text": [
      "IN FLUXES          OUT FLUXES         OBJECTIVES\n",
      "-----------------  -----------------  ----------------------\n",
      "cellb_e  4         lac__L_e  8.19     BIOMASS_CELL...  0.188\n",
      "so4_e    1.98      h_e       7.53\n",
      "nh4_e    1.41      h2o_e     6.98\n",
      "pi_e     0.203     co2_e     5.96\n",
      "k_e      0.179     etoh_e    5.31\n",
      "mg2_e    0.0258    h2s_e     1.95\n",
      "fe3_e    0.000873  ac_e      0.0802\n",
      "ca2_e    0.000812  phe__L_e  0.0447\n",
      "                   gly_e     0.00753\n"
     ]
    }
   ],
   "source": [
    "with model as tmodel:\n",
    "    [tmodel.reactions.get_by_id(rxn_id).knock_out() for rxn_id in deleted_rxns]\n",
    "    [tmodel.reactions.get_by_id(rxn_id).knock_out() for rxn_id in mut_ko]\n",
    "\n",
    "    # allow sulfide secretion\n",
    "    tmodel.reactions.EX_h2s_e.bounds = (0,1000)\n",
    "\n",
    "    # tmodel.objective = 'FUM2' # check the reaction is not blocked\n",
    "    mut_sul_gr = tmodel.optimize().objective_value\n",
    "    tmodel.summary()"
   ]
  },
  {
   "cell_type": "markdown",
   "metadata": {},
   "source": [
    "Indeed so4 uptake is significantly increased, and a significant efflux of h2s enables growth."
   ]
  },
  {
   "cell_type": "markdown",
   "metadata": {},
   "source": [
    "## KIV\n",
    "\n",
    "Here we enable the isobutanol pathway providing one of its intermediates"
   ]
  },
  {
   "cell_type": "code",
   "execution_count": 9,
   "metadata": {},
   "outputs": [
    {
     "name": "stdout",
     "output_type": "stream",
     "text": [
      "IN FLUXES          OUT FLUXES         OBJECTIVES\n",
      "-----------------  -----------------  ---------------------\n",
      "3mob_c   34.9      co2_e     47.4     BIOMASS_CELL...  0.38\n",
      "h_e      21        ibutoh_e  34.7\n",
      "h2o_e     9.44     ac_e      11.5\n",
      "cellb_e   4        phe__L_e   0.0902\n",
      "nh4_e     2.85     gly_e      0.0152\n",
      "pi_e      0.409\n",
      "k_e       0.361\n",
      "mg2_e     0.052\n",
      "so4_e     0.049\n",
      "fe3_e     0.00176\n",
      "ca2_e     0.00164\n"
     ]
    }
   ],
   "source": [
    "with model as tmodel:\n",
    "    [tmodel.reactions.get_by_id(rxn_id).knock_out() for rxn_id in deleted_rxns]\n",
    "    [tmodel.reactions.get_by_id(rxn_id).knock_out() for rxn_id in mut_ko]\n",
    "    tmodel.reactions.EX_ibutoh_e.bounds = (0,1000)\n",
    "    sk = tmodel.add_boundary(tmodel.metabolites.get_by_id('3mob_c'))\n",
    "    mut_kiv_gr = tmodel.optimize().objective_value\n",
    "    tmodel.summary()"
   ]
  },
  {
   "cell_type": "markdown",
   "metadata": {},
   "source": [
    "Again this fully recovers growth. Unlike fumarate, growth rate goes back to the wild-type level. \n",
    "\n",
    "## Conclusion for phenotype 2:\n",
    "The predictions are consistent with the core model, which accuratly represented experimental observations with the exception of fumarate. \n",
    "\n",
    "## Phenotype 3: Growth of LL1210\n",
    "\n",
    "As shown below the strain is able to grow, consistently with experimental observations."
   ]
  },
  {
   "cell_type": "code",
   "execution_count": 10,
   "metadata": {},
   "outputs": [
    {
     "name": "stdout",
     "output_type": "stream",
     "text": [
      "IN FLUXES         OUT FLUXES         OBJECTIVES\n",
      "----------------  -----------------  ----------------------\n",
      "cellb_e  4        h2_e      13.7     BIOMASS_CELL...  0.295\n",
      "h2o_e    2.97     co2_e     13.3\n",
      "nh4_e    2.22     etoh_e     8.3\n",
      "pi_e     0.318    h_e        5.73\n",
      "k_e      0.281    ac_e       3.82\n",
      "mg2_e    0.0405   phe__L_e   0.0702\n",
      "so4_e    0.0381   gly_e      0.0118\n",
      "fe3_e    0.00137\n",
      "ca2_e    0.00127\n",
      "Growth rate of wt: 0.38, growth rate of Mut: 0.30, fraction: 0.79\n"
     ]
    }
   ],
   "source": [
    "# ll1210 mutant\n",
    "with model as tmodel:\n",
    "    [tmodel.reactions.get_by_id(rxn_id).knock_out() for rxn_id in deleted_rxns]\n",
    "    r_wt = model.optimize()\n",
    "    wt_gr = r_wt.objective_value\n",
    "    tmodel.reactions.BIF.knock_out() #hydg\n",
    "    tmodel.reactions.H2ASE_syn.knock_out() #hydg\n",
    "    tmodel.reactions.PFL.knock_out()\n",
    "    tmodel.reactions.LDH_L.knock_out()\n",
    "    tmodel.reactions.PTAr.knock_out()\n",
    "    tmodel.reactions.ACKr.knock_out()\n",
    "    \n",
    "    r = tmodel.optimize()\n",
    "    ll1210_gr = r.objective_value\n",
    "    tmodel.summary()\n",
    "    print('Growth rate of wt: {:.2f}, growth rate of Mut: {:.2f}, fraction: {:.2f}'.format(\n",
    "        r_wt.objective_value, r.objective_value, r.objective_value/r_wt.objective_value))\n",
    "\n",
    "    "
   ]
  },
  {
   "cell_type": "markdown",
   "metadata": {},
   "source": [
    "## Fractions of growth reduction for different mutants/strains"
   ]
  },
  {
   "cell_type": "code",
   "execution_count": 11,
   "metadata": {},
   "outputs": [],
   "source": [
    "## Add other mutants:\n",
    "with model as tmodel:\n",
    "    [tmodel.reactions.get_by_id(rxn_id).knock_out() for rxn_id in deleted_rxns]\n",
    "    tmodel.reactions.BIF.knock_out() #hydg\n",
    "    tmodel.reactions.H2ASE_syn.knock_out() #hydg \n",
    "    hydg_gr = tmodel.optimize().objective_value\n",
    "    tmodel.reactions.ECH.knock_out()\n",
    "    hydgech_gr = tmodel.optimize().objective_value\n",
    "\n",
    "with model as tmodel:\n",
    "    [tmodel.reactions.get_by_id(rxn_id).knock_out() for rxn_id in deleted_rxns]\n",
    "    tmodel.reactions.BIF.knock_out() #hydg\n",
    "    tmodel.reactions.H2ASE_syn.knock_out() #hydg \n",
    "    tmodel.reactions.PTAr.knock_out()\n",
    "    tmodel.reactions.ACKr.knock_out()\n",
    "    hydgpta_gr = tmodel.optimize().objective_value\n",
    "\n",
    "with model as tmodel:\n",
    "    [tmodel.reactions.get_by_id(rxn_id).knock_out() for rxn_id in deleted_rxns]\n",
    "    tmodel.reactions.LDH_L.knock_out()\n",
    "    ldh_gr = tmodel.optimize().objective_value\n",
    "    tmodel.reactions.PTAr.knock_out()\n",
    "    tmodel.reactions.ACKr.knock_out()\n",
    "    ldhpta_gr = tmodel.optimize().objective_value\n",
    "\n",
    "with model as tmodel:\n",
    "    [tmodel.reactions.get_by_id(rxn_id).knock_out() for rxn_id in deleted_rxns]\n",
    "    tmodel.reactions.PTAr.knock_out()\n",
    "    tmodel.reactions.ACKr.knock_out()\n",
    "    pta_gr = tmodel.optimize().objective_value\n",
    "\n",
    "\n",
    "with open('mutant_gr.csv', 'w') as f:\n",
    "    w = csv.writer(f, delimiter=',', lineterminator='\\n')\n",
    "    mut = 'hydG-ech-pfl'\n",
    "    ll1210 = 'hydG-pfl-ldh-pta-ack'\n",
    "    w.writerow(['Strain', 'Medium', 'Fraction of WT growth rate'])\n",
    "    w.writerow(['hydG','MTC',hydg_gr/wt_gr])\n",
    "    w.writerow(['hydG-ech','MTC',hydg_gr/wt_gr])\n",
    "    w.writerow(['hydG-ech-pta-ack','MTC', hydgpta_gr/wt_gr])\n",
    "    w.writerow([mut,'MTC', mut_gr/wt_gr])\n",
    "    w.writerow([mut,'MTC+fumarate', mut_fum_gr/wt_gr])\n",
    "    w.writerow([mut,'MTC+sulfate', mut_sul_gr/wt_gr])\n",
    "    w.writerow([mut,'MTC+ketoisovalerate', mut_kiv_gr/wt_gr])\n",
    "    w.writerow([ll1210, 'MTC', ll1210_gr/wt_gr])\n",
    "    w.writerow(['ldh', 'MTC', ldh_gr/wt_gr])\n",
    "    w.writerow(['pta-ack','MTC',pta_gr/wt_gr])\n",
    "    w.writerow(['ldh-pta-ack','MTC',ldhpta_gr/wt_gr])"
   ]
  },
  {
   "cell_type": "code",
   "execution_count": 12,
   "metadata": {},
   "outputs": [
    {
     "name": "stdout",
     "output_type": "stream",
     "text": [
      "IN FLUXES         OUT FLUXES         OBJECTIVES\n",
      "----------------  -----------------  ----------------------\n",
      "h2o_e    9.24     h_e       13.6     BIOMASS_CELL...  0.364\n",
      "cellb_e  4        co2_e     12.6\n",
      "nh4_e    2.72     ac_e      11.2\n",
      "pi_e     0.392    phe__L_e   0.0865\n",
      "k_e      0.346\n",
      "mg2_e    0.0499\n",
      "so4_e    0.047\n",
      "fe3_e    0.00169\n",
      "ca2_e    0.00157\n",
      "PRODUCING REACTIONS -- Acetate (ac_c)\n",
      "-------------------------------------\n",
      "%        FLUX  RXN ID    REACTION\n",
      "----  -------  --------  --------------------------------------------------\n",
      "89%    9.97    ACADT     acad_c + ppi_c --> ac_c + atp_c + h_c\n",
      "11%    1.21    ALDD2y    acald_c + h2o_c + nadp_c --> ac_c + 2.0 h_c + n...\n",
      "0%     0.0321  AHHST     achms_c + h2s_c --> ac_c + hcys__L_c\n",
      "0%     0.015   CYSS      acser_c + h2s_c --> ac_c + cys__L_c\n",
      "\n",
      "CONSUMING REACTIONS -- Acetate (ac_c)\n",
      "-------------------------------------\n",
      "%        FLUX  RXN ID    REACTION\n",
      "----  -------  --------  --------------------------------------------------\n",
      "100%  11.2     ACt2r     ac_c + h_c <=> ac_e + h_e\n"
     ]
    }
   ],
   "source": [
    "# pta-ack can still make significant ammounts of acetate in-silico:\n",
    "with model as tmodel:\n",
    "    [tmodel.reactions.get_by_id(rxn_id).knock_out() for rxn_id in deleted_rxns]\n",
    "    tmodel.reactions.LDH_L.knock_out()\n",
    "    tmodel.reactions.PTAr.knock_out()\n",
    "    tmodel.reactions.ACKr.knock_out()\n",
    "    tmodel.optimize()\n",
    "    tmodel.summary()\n",
    "    tmodel.metabolites.ac_c.summary()"
   ]
  }
 ],
 "metadata": {
  "kernelspec": {
   "display_name": "Python 3",
   "language": "python",
   "name": "python3"
  },
  "language_info": {
   "codemirror_mode": {
    "name": "ipython",
    "version": 3
   },
   "file_extension": ".py",
   "mimetype": "text/x-python",
   "name": "python",
   "nbconvert_exporter": "python",
   "pygments_lexer": "ipython3",
   "version": "3.6.5"
  }
 },
 "nbformat": 4,
 "nbformat_minor": 2
}
