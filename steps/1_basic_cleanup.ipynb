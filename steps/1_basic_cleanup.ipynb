{
 "cells": [
  {
   "cell_type": "markdown",
   "metadata": {},
   "source": [
    "The purpose of this section is to convert the reaction IDs and metabolite IDs to the human readable BIGG format. For metabolites and reactions which do not appear in kegg, new bigg-like IDs will be created. In addition, the subsystems IDs in iAT601 are repeated but with small variations (e.g. captilization). Unfortunately at the time there is no standard for subsytem nomenclature. Certain metabolites appear in both isomeric forms, which leads to repeated reactions and pathway connectivity issues ( This may not be a nomenclature problem)."
   ]
  },
  {
   "cell_type": "markdown",
   "metadata": {},
   "source": [
    "## Import model"
   ]
  },
  {
   "cell_type": "code",
   "execution_count": null,
   "metadata": {
    "collapsed": true
   },
   "outputs": [],
   "source": [
    "import cobra as cb\n",
    "import os"
   ]
  },
  {
   "cell_type": "code",
   "execution_count": 2,
   "metadata": {
    "collapsed": false
   },
   "outputs": [
    {
     "name": "stderr",
     "output_type": "stream",
     "text": [
      "cobra\\core\\reaction.py:394 UserWarning: malformed gene_reaction_rule 'Clo1313_1355; Clo1313_1353; Clo1313_1356' for <Reaction R01197_c at 0x212786ba470>\ncobra\\core\\reaction.py:394 UserWarning: malformed gene_reaction_rule 'Clo1313_2018; Clo1313_2017' for <Reaction R03660_c at 0x212787d7898>\n"
     ]
    },
    {
     "name": "stderr",
     "output_type": "stream",
     "text": [
      "cobra\\core\\reaction.py:394 UserWarning: malformed gene_reaction_rule 'Clo1313_1355; Clo1313_1353; Clo1313_1356' for <Reaction R01197_c at 0x21278d83a20>\ncobra\\core\\reaction.py:394 UserWarning: malformed gene_reaction_rule 'Clo1313_2018; Clo1313_2017' for <Reaction R03660_c at 0x21278e92e48>\n"
     ]
    }
   ],
   "source": [
    "cbmodel = cb.io.read_sbml_model(os.path.abspath(\"iAT601/iAT601_CB.xml\"))\n",
    "cbmodel = cb.io.read_sbml_model(os.path.abspath(\"iAT601/iAT601_CE.xml\"))"
   ]
  },
  {
   "cell_type": "markdown",
   "metadata": {},
   "source": [
    "Like the warning gracefully indicates, the GPR is incorrect, we will replace those with an \"or\" for the sake of generality and later revisit them for accuracy. "
   ]
  },
  {
   "cell_type": "code",
   "execution_count": 3,
   "metadata": {
    "collapsed": true
   },
   "outputs": [],
   "source": [
    "badGPR = ['Clo1313_1355; Clo1313_1353; Clo1313_1356','Clo1313_2018; Clo1313_2017']\n",
    "goodGPR = ['Clo1313_1355 or Clo1313_1353 or Clo1313_1356','Clo1313_2018 or Clo1313_2017']\n",
    "\n",
    "def fixGPR(fin,fout):\n",
    "    for line in fin:\n",
    "        if badGPR[0] in line:\n",
    "            fout.write(line.replace(badGPR[0],goodGPR[0]))\n",
    "        elif badGPR[1] in line:\n",
    "            fout.write(line.replace(badGPR[1],goodGPR[1]))\n",
    "        else:\n",
    "            fout.write(line)\n",
    "    fin.close()\n",
    "    fout.close()\n",
    "    \n",
    "fin_CB = open(os.path.abspath(\"iAT601/iAT601_CB.xml\"), 'r')\n",
    "fout_CB = open(os.path.abspath(\"iAT601/iAT601_CB_fixed_GPR.xml\"), 'w')\n",
    "fixGPR(fin_CB,fout_CB)\n",
    "\n",
    "fin_CE = open(os.path.abspath(\"iAT601/iAT601_CE.xml\"), 'r')\n",
    "fout_CE = open(os.path.abspath(\"iAT601/iAT601_CE_fixed_GPR.xml\"), 'w')\n",
    "fixGPR(fin_CE,fout_CE)"
   ]
  },
  {
   "cell_type": "code",
   "execution_count": 4,
   "metadata": {
    "collapsed": true
   },
   "outputs": [],
   "source": [
    "cbmodel = cb.io.read_sbml_model(os.path.abspath(\"iAT601/iAT601_CB_fixed_GPR.xml\"))\n",
    "cemodel = cb.io.read_sbml_model(os.path.abspath(\"iAT601/iAT601_CE_fixed_GPR.xml\"))"
   ]
  },
  {
   "cell_type": "markdown",
   "metadata": {},
   "source": [
    "What is the actual difference between the two models?"
   ]
  },
  {
   "cell_type": "code",
   "execution_count": 5,
   "metadata": {
    "collapsed": false
   },
   "outputs": [
    {
     "name": "stdout",
     "output_type": "stream",
     "text": [
      "True\nTrue\n"
     ]
    }
   ],
   "source": [
    "# Compare reaction and metabolite ids\n",
    "print(set([reaction.id for reaction in cbmodel.reactions]) == set([reaction.id for reaction in cemodel.reactions]))\n",
    "print(set([metabolite.id for metabolite in cbmodel.metabolites]) == set([metabolite.id for metabolite in cemodel.metabolites]))"
   ]
  },
  {
   "cell_type": "code",
   "execution_count": 6,
   "metadata": {
    "collapsed": false
   },
   "outputs": [
    {
     "name": "stdout",
     "output_type": "stream",
     "text": [
      "Rxn: EXC_IN_m20 cb_bounds: (3.42, 3.48) ce_bounds (0.0, 0.0)\nRxn: EXC_IN_m97 cb_bounds: (0.0, 0.0) ce_bounds (1.0517, 1.078)\nRxn: EXC_OUT_m51 cb_bounds: (4.09, 4.29) ce_bounds (2.6, 2.66)\nRxn: EXC_OUT_m52 cb_bounds: (1.77, 3.49) ce_bounds (3.25, 3.55)\nRxn: EXC_OUT_m53 cb_bounds: (1.76, 1.78) ce_bounds (1.38, 1.39)\nRxn: EXC_OUT_m54 cb_bounds: (0.0, 0.2) ce_bounds (0.0, 0.0)\nRxn: EXC_OUT_m55 cb_bounds: (7.48, 8.24) ce_bounds (0.0, 1000.0)\nRxn: EXC_OUT_m56 cb_bounds: (0.0, 0.2) ce_bounds (0.0, 1000.0)\n"
     ]
    }
   ],
   "source": [
    "# Compare reaction bounds\n",
    "with open(os.path.abspath(os.path.join('iAT601','cb_ce_diff.tsv')), 'w') as myfile:\n",
    "    myfile.write('rxn_id\\tcb_bounds\\tce_bounds\\n')\n",
    "    for cb_reaction in cbmodel.reactions:\n",
    "        for ce_reaction in cemodel.reactions:\n",
    "            if cb_reaction.id == ce_reaction.id:\n",
    "                if cb_reaction.bounds != ce_reaction.bounds:\n",
    "                    print('Rxn:',cb_reaction.id,'cb_bounds:',cb_reaction.bounds,'ce_bounds',ce_reaction.bounds)\n",
    "                    myfile.write('{0}\\t{1}\\t{2}\\n'.format(cb_reaction.id,str(cb_reaction.bounds),str(ce_reaction.bounds)))"
   ]
  },
  {
   "cell_type": "code",
   "execution_count": 7,
   "metadata": {
    "collapsed": false,
    "scrolled": true
   },
   "outputs": [
    {
     "name": "stdout",
     "output_type": "stream",
     "text": [
      "Cellobiose_C12H22O11\nCellohexaose\n{'EXC_IN_m20': 3.48, 'EXC_IN_m17': 5.0, 'EXC_IN_m21': 5.0, 'EXC_IN_m22': 1000.0, 'EXC_IN_m23': 1000.0, 'EXC_IN_m24': 1000.0, 'EXC_IN_m25': 1000.0, 'EXC_IN_m26': 1000.0, 'EXC_IN_m27': 1000.0, 'EXC_IN_m28': 1000.0, 'EXC_IN_m30': 1000.0, 'EXC_IN_m101': 1000.0, 'EXC_BOTH_m18': 1000.0, 'EXC_BOTH_m35': 0.5}\n{'EXC_IN_m17': 5.0, 'EXC_IN_m21': 5.0, 'EXC_IN_m22': 1000.0, 'EXC_IN_m23': 1000.0, 'EXC_IN_m24': 1000.0, 'EXC_IN_m25': 1000.0, 'EXC_IN_m26': 1000.0, 'EXC_IN_m27': 1000.0, 'EXC_IN_m28': 1000.0, 'EXC_IN_m30': 1000.0, 'EXC_IN_m97': 1.078, 'EXC_IN_m101': 1000.0, 'EXC_BOTH_m18': 1000.0, 'EXC_BOTH_m35': 0.5}\n"
     ]
    }
   ],
   "source": [
    "# write out lb and ub for media\n",
    "print(cbmodel.metabolites.m20.name)\n",
    "print(cbmodel.metabolites.m97.name)\n",
    "print(cbmodel.medium)\n",
    "print(cemodel.medium)\n",
    "with open(os.path.abspath(os.path.join('iAT601','media', 'iAT601_cb_medium.csv')), 'w') as myfile:\n",
    "    myfile.write('rxn_id,rxn_lb,rxn_ub\\n')\n",
    "    for key, value in cbmodel.medium.items():\n",
    "        rxn = getattr(cbmodel.reactions, key)\n",
    "        myfile.write(\"{0},{1},{2}\\n\".format(key, rxn.lower_bound, rxn.upper_bound))\n",
    "        \n",
    "with open(os.path.abspath(os.path.join('iAT601','media', 'iAT601_ce_medium.csv')), 'w') as myfile:\n",
    "    myfile.write('rxn_id,rxn_lb,rxn_ub\\n')\n",
    "    for key, value in cemodel.medium.items():\n",
    "        rxn = getattr(cemodel.reactions, key)\n",
    "        myfile.write(\"{0},{1},{2}\\n\".format(key, rxn.lower_bound, rxn.upper_bound))"
   ]
  },
  {
   "cell_type": "markdown",
   "metadata": {},
   "source": [
    "The difference is just in the media. We will continue with the cellulose model from now on, and when refering to specific simulation we will adjust to the appropriate media."
   ]
  },
  {
   "cell_type": "code",
   "execution_count": 8,
   "metadata": {
    "collapsed": false
   },
   "outputs": [],
   "source": [
    "model = cbmodel.copy()\n",
    "model.id = 'iSG601_1'"
   ]
  },
  {
   "cell_type": "markdown",
   "metadata": {},
   "source": [
    "## Further model cleaning"
   ]
  },
  {
   "cell_type": "markdown",
   "metadata": {},
   "source": [
    "Remove metabolites that do not participate in any reaction, as well as reactions without assigned metabolites. ( Note cb.manipulation.delete.prune_unused_metabolites(model)) is not working correctly, it needs to be run several times)"
   ]
  },
  {
   "cell_type": "code",
   "execution_count": 9,
   "metadata": {
    "collapsed": false
   },
   "outputs": [
    {
     "name": "stdout",
     "output_type": "stream",
     "text": [
      "51\n"
     ]
    }
   ],
   "source": [
    "junk_met_id = []\n",
    "for met in model.metabolites:\n",
    "    if not met.reactions:\n",
    "        junk_met_id.append(met.id)\n",
    "\n",
    "print(len(junk_met_id))\n",
    "\n",
    "with open(os.path.abspath(os.path.join('iAT601','unused_metabolites_in_iAT601.csv')), 'w') as myfile:\n",
    "    for item in junk_met_id:\n",
    "        myfile.write(\"%s\\n\" % item)\n"
   ]
  },
  {
   "cell_type": "code",
   "execution_count": 10,
   "metadata": {
    "collapsed": false
   },
   "outputs": [
    {
     "data": {
      "text/plain": [
       "[]"
      ]
     },
     "execution_count": 10,
     "metadata": {},
     "output_type": "execute_result"
    }
   ],
   "source": [
    "# Check unused reactions\n",
    "cb.manipulation.delete.prune_unused_reactions(model)"
   ]
  },
  {
   "cell_type": "code",
   "execution_count": 11,
   "metadata": {
    "collapsed": false
   },
   "outputs": [
    {
     "name": "stdout",
     "output_type": "stream",
     "text": [
      "{<Metabolite C06010_c at 0x2127a855e48>: -1.0, <Metabolite C00810_c at 0x2127a832ba8>: 1.0, <Metabolite C00011_c at 0x2127a6a5dd8>: 1.0}\n{<Metabolite C00900_c at 0x2127a832eb8>: -1.0, <Metabolite C00810_c at 0x2127a832ba8>: 1.0, <Metabolite C00011_c at 0x2127a6a5dd8>: 1.0}\n\n\n"
     ]
    }
   ],
   "source": [
    "#The reactions R02948_c R02948b_c are repeated..\n",
    "print(model.reactions.R02948_c.metabolites)\n",
    "print(model.reactions.R02948b_c.metabolites)\n",
    "\n",
    "print(model.reactions.R02948_c.gene_reaction_rule)\n",
    "print(model.reactions.R02948b_c.gene_reaction_rule)\n",
    "\n",
    "#model.remove_reactions('R02948b_c')\n",
    " # Remove copy\n",
    "model.remove_reactions(['R02948b_c'])"
   ]
  },
  {
   "cell_type": "code",
   "execution_count": 12,
   "metadata": {
    "collapsed": false
   },
   "outputs": [],
   "source": [
    "cb.io.mat.save_matlab_model(model, os.path.abspath(os.path.join('iSG', 'iSG601_1.mat'))) \n",
    "cb.io.sbml.write_cobra_model_to_sbml_file(model,os.path.abspath(os.path.join('iSG','iSG601_1.xml'))) "
   ]
  },
  {
   "cell_type": "markdown",
   "metadata": {},
   "source": [
    "For transport and exchange reactions we will replace the old metabolite ids:"
   ]
  }
 ],
 "metadata": {
  "anaconda-cloud": {},
  "kernelspec": {
   "display_name": "Python [default]",
   "language": "python",
   "name": "python3"
  },
  "language_info": {
   "codemirror_mode": {
    "name": "ipython",
    "version": 3
   },
   "file_extension": ".py",
   "mimetype": "text/x-python",
   "name": "python",
   "nbconvert_exporter": "python",
   "pygments_lexer": "ipython3",
   "version": "3.5.2"
  }
 },
 "nbformat": 4,
 "nbformat_minor": 2
}
