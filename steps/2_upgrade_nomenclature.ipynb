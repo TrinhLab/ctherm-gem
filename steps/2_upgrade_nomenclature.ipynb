{
 "cells": [
  {
   "cell_type": "markdown",
   "metadata": {},
   "source": [
    "The main goal of the nomenclature update is to replace the metabolite and reaction ids from kegg ids into a human-readable form. Also some incosistencies may be fixed alogn the way. BiGG ids are currently the best option for metabolites and reactions. Unfortunately, this is not a trivial proccess, because bigg ids can match to several kegg ids, and also, not all kegg ids have a corresponding bigg id. This implies that some level of manual curation will have to be performed.\n",
    "In the first part of the upgrade process (this notebook) a series of tables will be constructured with default new reaction/metabolite ids and names. In the second part (next notebook), the manually curated tables will be applied to the model. \n"
   ]
  },
  {
   "cell_type": "code",
   "execution_count": null,
   "metadata": {},
   "outputs": [],
   "source": [
    "import cobra as cb\n",
    "import os\n",
    "import re\n",
    "import requests\n",
    "import json\n",
    "import pandas as pd\n",
    "\n",
    "model = cb.io.read_sbml_model(os.path.abspath(\"iSG/iSG601_1.xml\"))"
   ]
  },
  {
   "cell_type": "markdown",
   "metadata": {},
   "source": [
    "## Subsystems\n",
    "There are not universal identifiers for subsytems yet. However, from visual inspection we find some obvious duplicates in the model subsystems due to name capitalization. While other subsystems overlap (e.g. Phenylalanine metabolism, and Phenylalanine, tyrosine and tryptophan biosynthesis,etc.), they still maintain specific information, so for now they will be left as they are. At this point we are still fixing trivial errors, in the future subsystems will be curated in more detail."
   ]
  },
  {
   "cell_type": "code",
   "execution_count": 2,
   "metadata": {
    "collapsed": true
   },
   "outputs": [
    {
     "name": "stdout",
     "output_type": "stream",
     "text": [
      "\nAlanine, aspartate and glutamate metabolism\nAmino sugar and nucleotide sugar metabolism\nAminoacyl-tRNA biosynthesis\nAminobenzoate degradation\nArginine and proline metabolism\nAtrazine degradation\nBenzoate degradation\nBiosynthesis of 12-, 14- and 16-membered macrolides\nBiosynthesis of unsaturated fatty acids\nBiotin metabolism\nBisphenol degradation\nButanoate metabolism\nC5-Branched dibasic acid metabolism\nCaprolactam degradation\nCellulose Metabolism\nChloroalkane and chloroalkene degradation\nCitrate cycle (TCA cycle)\nCyanoamino acid metabolism\nCysteine Metabolism\nCysteine and methionine metabolism\nD-Alanine metabolism\nD-Glutamine and D-glutamate metabolism\nDrug metabolism - other enzymes\nEthylbenzene degradation\nFatty Acid Metabolism\nFatty acid biosynthesis\nFatty acid elongation\nFatty acid metabolism\nFatty acid synthesis\nFolate biosynthesis\nFructose and mannose metabolism\nGalactose metabolism\nGeraniol degradation\nGlutamate Metabolism\nGlutathione metabolism\nGlycerolipid metabolism\nGlycerophospholipid metabolism\nGlycine, serine and threonine metabolism\nGlycolysis / Gluconeogenesis\nGlycolysis/Gluconeogenesis\nGlyoxylate and dicarboxylate metabolism\nHOMOSER-THRESYN-PWY\nHistidine metabolism\nLimonene and pinene degradation\nLysine biosynthesis\nLysine degradation\nMethane metabolism\nMethionine Metabolism\nN-Glycan biosynthesis\nNaphthalene degradation\nNicotinate and nicotinamide metabolism\nNitrogen metabolism\nNitrotoluene degradation\nOne carbon pool by folate\nPantothenate and CoA biosynthesis\nPenicillin and cephalosporin biosynthesis\nPentose and glucuronate interconversions\nPentose phosphate pathway\nPeptidoglycan biosynthesis\nPhenylalanine metabolism\nPhenylalanine, tyrosine and tryptophan biosynthesis\nPhenylpropanoid biosynthesis\nPorphyrin and chlorophyll metabolism\nPropanoate metabolism\nPurine metabolism\nPyrimidine metabolism\nPyruvate Metabolism\nPyruvate metabolism\nRedox metabolism\nRiboflavin metabolism\nSelenocompound metabolism\nSphingolipid metabolism\nStarch and sucrose metabolism\nStreptomycin biosynthesis\nSugar Metabolism\nSulfur metabolism\nTaurine and hypotaurine metabolism\nTerpenoid backbone biosynthesis\nThiamine metabolism\nToluene degradation\nTransport between c and e\nTropane, piperidine and pyridine alkaloid biosynthesis\nTryptophan metabolism\nTyrosine metabolism\nTyrosine, Tryptophan, and Phenylalanine Metabolism\nUbiquinone and other terpenoid-quinone biosynthesis\nValine, leucine and isoleucine biosynthesis\nValine, leucine and isoleucine degradation\nVitamin B6 metabolism\nZeatin biosynthesis\nbeta-Alanine metabolism\n"
     ]
    }
   ],
   "source": [
    "all_subsystems= sorted(list(set([reaction.subsystem for reaction in model.reactions])))\n",
    "for i in range(len(all_subsystems)):\n",
    "    print(all_subsystems[i])"
   ]
  },
  {
   "cell_type": "code",
   "execution_count": 3,
   "metadata": {
    "collapsed": true
   },
   "outputs": [],
   "source": [
    "# Manual corrections:\n",
    "consolidate_subsys = {'Fatty acid biosynthesis': 'Fatty acid synthesis',\n",
    "                      'Fatty Acid Metabolism': 'Fatty acid metabolism',\n",
    "                      'Glycolysis / Gluconeogenesis': 'Glycolysis/Gluconeogenesis',\n",
    "                      'Pyruvate Metabolism': 'Pyruvate metabolism'}\n",
    "\n",
    "with open(os.path.abspath(os.path.join('iSG','subsystem_corrections.csv')), 'w') as myfile:\n",
    "    myfile.write('Old-name,new-name\\n')\n",
    "    for key, value in consolidate_subsys.items():      \n",
    "        myfile.write(\"{0},{1}\\n\".format(key,value))"
   ]
  },
  {
   "cell_type": "markdown",
   "metadata": {},
   "source": [
    "## BiGG IDs\n",
    "First we will retreive the BiGG namespace mapping to kegg reactions. It should be noted that one kegg id is linked with several BiGG ids. "
   ]
  },
  {
   "cell_type": "code",
   "execution_count": 4,
   "metadata": {
    "collapsed": true
   },
   "outputs": [
    {
     "data": {
      "text/plain": [
       "\"           \\n# Metabolites\\n# The namespace has missing links for kegg, so will go through all metabolites in bigg\\nmetabolite_namespace = requests.get('http://bigg.ucsd.edu/static/namespace/bigg_models_metabolites.txt').text.split('\\n')\\nheaders = metabolite_namespace.pop(0)\\nkegg2bigg_metabolites = {}\\nbiggid2biggname_metabolites = {}\\nused_universal_ids = [] # Universal ids are repeated because keys correspond to bigg_ids. ASSUMING that datbase links are the same for all metabolites with the same universal id!\\nfor line in metabolite_namespace:\\n    cols = line.split('\\t')\\n    universal_bigg_id = cols[1]\\n    bigg_name = cols[2]\\n    if universal_bigg_id not in used_universal_ids:\\n        used_universal_ids.append(universal_bigg_id)\\n        db_links = cols[4].split('; ')\\n        for link in db_links:\\n            if link.startswith('KEGG Compound'):\\n                kegg_id = re.search('(C|G)\\\\d+',link).group(0) # G are glycans, which often have an equivalent C\\n                kegg2bigg_metabolites.setdefault(kegg_id, []).append(universal_bigg_id)\\n    biggid2biggname_metabolites[universal_bigg_id] = bigg_name\\n\""
      ]
     },
     "execution_count": 4,
     "metadata": {},
     "output_type": "execute_result"
    }
   ],
   "source": [
    "# Reactions\n",
    "reaction_namespace = requests.get('http://bigg.ucsd.edu/static/namespace/bigg_models_reactions.txt').text.split('\\n')\n",
    "headers = reaction_namespace.pop(0)\n",
    "kegg2bigg_reactions= {}\n",
    "biggid2biggname_reactions ={}\n",
    "for line in reaction_namespace:\n",
    "    cols = line.split('\\t')\n",
    "    bigg_id = cols[0]\n",
    "    bigg_name = cols[1]\n",
    "    db_links = cols[4].split('; ')\n",
    "    for link in db_links:\n",
    "        if link.startswith('KEGG'):\n",
    "            kegg_id = re.search('(R\\d+)',link).group(1)\n",
    "            kegg2bigg_reactions.setdefault(kegg_id, []).append(bigg_id)\n",
    "    biggid2biggname_reactions[bigg_id] = bigg_name\n",
    " \n",
    "\"\"\"           \n",
    "# Metabolites\n",
    "# The namespace has missing links for kegg, so will go through all metabolites in bigg\n",
    "metabolite_namespace = requests.get('http://bigg.ucsd.edu/static/namespace/bigg_models_metabolites.txt').text.split('\\n')\n",
    "headers = metabolite_namespace.pop(0)\n",
    "kegg2bigg_metabolites = {}\n",
    "biggid2biggname_metabolites = {}\n",
    "used_universal_ids = [] # Universal ids are repeated because keys correspond to bigg_ids. ASSUMING that datbase links are the same for all metabolites with the same universal id!\n",
    "for line in metabolite_namespace:\n",
    "    cols = line.split('\\t')\n",
    "    universal_bigg_id = cols[1]\n",
    "    bigg_name = cols[2]\n",
    "    if universal_bigg_id not in used_universal_ids:\n",
    "        used_universal_ids.append(universal_bigg_id)\n",
    "        db_links = cols[4].split('; ')\n",
    "        for link in db_links:\n",
    "            if link.startswith('KEGG Compound'):\n",
    "                kegg_id = re.search('(C|G)\\d+',link).group(0) # G are glycans, which often have an equivalent C\n",
    "                kegg2bigg_metabolites.setdefault(kegg_id, []).append(universal_bigg_id)\n",
    "    biggid2biggname_metabolites[universal_bigg_id] = bigg_name\n",
    "\"\"\""
   ]
  },
  {
   "cell_type": "markdown",
   "metadata": {},
   "source": [
    "### Reactions"
   ]
  },
  {
   "cell_type": "code",
   "execution_count": 5,
   "metadata": {
    "collapsed": true
   },
   "outputs": [],
   "source": [
    "# Reaction nomenclature table\n",
    "# The default name will avoid ids with lowercase letters or digits if possible\n",
    "def rmCompartment(id_str,compartment):\n",
    "    return re.sub('_'+ compartment +'$', '', id_str)\n",
    "def get_elemnts_with_lowercase(lin):\n",
    "    return [elem for elem in lin if any([c for c in elem if c.islower()])]\n",
    "def get_elemnts_with_digit(lin):\n",
    "    return [elem for elem in lin if any([c for c in elem if c.isdigit()])]\n",
    "    \n",
    "# Reaction table \n",
    "iat_id = [rxn.id for rxn in model.reactions]\n",
    "iat_name = [rxn.name for rxn in model.reactions]\n",
    "iat_KEGG = []\n",
    "iat_BIGG = []\n",
    "iat_core = []\n",
    "bigg_id = []\n",
    "bigg_name = []\n",
    "isg_id = []\n",
    "isg_name = []\n",
    "\n",
    "for rxn in model.reactions:\n",
    "    # iat data\n",
    "    if 'KEGG' in rxn.notes:\n",
    "        iat_KEGG.append(rxn.notes['KEGG'])\n",
    "    else:\n",
    "        iat_KEGG.append('')\n",
    "    \n",
    "    if 'BIGG' in rxn.notes:\n",
    "        iat_BIGG.append(rxn.notes['BIGG'])\n",
    "    else:\n",
    "        iat_BIGG.append('')\n",
    "    if 'IAT CORE' in rxn.notes:\n",
    "        iat_core.append(rxn.notes['IAT CORE'])\n",
    "    else:\n",
    "        iat_core.append('')\n",
    "        \n",
    "    # match with bigg\n",
    "    reaction_id_nc = rmCompartment(rxn.id,'c') # some reactions with kegg id have _c appended\n",
    "    if reaction_id_nc in kegg2bigg_reactions:\n",
    "        bigg_match_id = kegg2bigg_reactions[reaction_id_nc] \n",
    "        bigg_match_name = [biggid2biggname_reactions[bigg_id] for bigg_id in bigg_match_id]\n",
    "        bigg_id.append(bigg_match_id)\n",
    "        bigg_name.append(bigg_match_name)\n",
    "        \n",
    "    # default name for isg\n",
    "        lc_ids = get_elemnts_with_lowercase(bigg_match_id)\n",
    "        num_ids = get_elemnts_with_digit(bigg_match_id)\n",
    "        cand_id = list((set(bigg_match_id) - set(lc_ids))-set(num_ids))\n",
    "        \n",
    "        if not cand_id:\n",
    "            def_isg_id = bigg_match_id[0]\n",
    "        else:\n",
    "            def_isg_id = cand_id[0]\n",
    "            \n",
    "        isg_id.append(def_isg_id)\n",
    "        isg_name.append(biggid2biggname_reactions[def_isg_id])\n",
    "    else:\n",
    "        bigg_id.append('')\n",
    "        bigg_name.append('')\n",
    "        isg_id.append('')\n",
    "        isg_name.append('')"
   ]
  },
  {
   "cell_type": "code",
   "execution_count": 6,
   "metadata": {
    "collapsed": true
   },
   "outputs": [],
   "source": [
    "#load reaction equations\n",
    "req = pd.read_excel(os.path.abspath(os.path.join('iAT601','iAT601_reaction_equations.xlsx')))\n",
    "req.set_index(['rxn_id'], inplace= True)\n",
    "requation = req.to_dict()\n",
    "req.head()\n",
    "id2eq = requation['rxn_eq']\n",
    "iat_formula = []\n",
    "iat_formula = [id2eq[rxnid] for rxnid in iat_id]"
   ]
  },
  {
   "cell_type": "code",
   "execution_count": 7,
   "metadata": {
    "collapsed": true
   },
   "outputs": [],
   "source": [
    "#write out table\n",
    "# we will improve these defaults later\n",
    "col_names = ['iat_id','iat_name','iat_formula','iat_kegg','iat_bigg','iat_core','bigg_id','bigg_name','isg_id','isg_name']\n",
    "reaction_nom = pd.DataFrame(\n",
    "    {'iat_id': iat_id,\n",
    "     'iat_name': iat_name,\n",
    "     'iat_formula': iat_formula,\n",
    "     'iat_kegg': iat_KEGG,\n",
    "     'iat_bigg': iat_BIGG,\n",
    "     'iat_core': iat_core,\n",
    "     'bigg_id': bigg_id,\n",
    "     'bigg_name': bigg_name,\n",
    "     'isg_id': isg_id,\n",
    "     'isg_name': isg_name}, columns=col_names)\n",
    "reaction_nom.to_csv(os.path.abspath(os.path.join('iSG', 'reaction_nomenclature.csv')),index=False)"
   ]
  },
  {
   "cell_type": "markdown",
   "metadata": {},
   "source": [
    "### Metabolites\n",
    "This case is simpler, as metabolites rarely link to more than one bigg id. Also metabolite metadata is more limited\n",
    "However, there are a couple of issues in iAT601: First, the metabolite formula is embedded in the name. Second, not all metabolites include a formula embedded in their name."
   ]
  },
  {
   "cell_type": "code",
   "execution_count": 9,
   "metadata": {
    "collapsed": true
   },
   "outputs": [],
   "source": [
    "# Gather information\n",
    "# all universal metabolite ids\n",
    "metabolite_namespace = requests.get('http://bigg.ucsd.edu/static/namespace/bigg_models_metabolites.txt').text.split('\\n')\n",
    "met_api = 'http://bigg.ucsd.edu/api/v2/universal/metabolites/'\n",
    "\n",
    "headers = metabolite_namespace.pop(0)\n",
    "bigg_universal_ids = list(set([row.split('\\t')[1] for row in metabolite_namespace]))\n",
    "\n",
    "biggid2biggname_metabolites = dict(zip([row.split('\\t')[1] for row in metabolite_namespace],\n",
    "                                   [row.split('\\t')[2] for row in metabolite_namespace]))\n",
    "allmetdict = {}\n",
    "kegg2bigg_metabolites = {}\n",
    "\n",
    "for bigg_id in bigg_universal_ids:\n",
    "    metdict = json.loads(requests.get(met_api + bigg_id).text) #(This query is pretty slow)\n",
    "    allmetdict[bigg_id] = metdict\n",
    "    \n",
    "    if 'KEGG Compound' in metdict['database_links']:\n",
    "        for link in metdict['database_links']['KEGG Compound']:\n",
    "            kegg_id = link['id']\n",
    "            kegg2bigg_metabolites.setdefault(kegg_id, []).append(bigg_id)"
   ]
  },
  {
   "cell_type": "code",
   "execution_count": null,
   "metadata": {
    "collapsed": true
   },
   "outputs": [],
   "source": [
    "# table \n",
    "iat_id = [met.id for met in model.metabolites]\n",
    "iat_name = [met.name for met in model.metabolites]\n",
    "bigg_id = []\n",
    "bigg_name = []\n",
    "bigg_charge = []\n",
    "isg_id = []\n",
    "isg_name = []\n",
    "isg_formula = []\n",
    "isg_charge = []\n",
    "isg_kegg = []\n",
    "bigg_formula =[]\n",
    "\n",
    "for met in model.metabolites:\n",
    "    \n",
    "    # match with bigg\n",
    "    met_id_nc = rmCompartment(met.id, 'c') # some reactions with kegg id have _c appended\n",
    "    isg_kegg.append(met_id_nc)\n",
    "    \n",
    "    if met_id_nc in kegg2bigg_metabolites:\n",
    "        bigg_match_id = kegg2bigg_metabolites[met_id_nc] \n",
    "        bigg_match_name = [biggid2biggname_metabolites[bigg_id] for bigg_id in bigg_match_id]\n",
    "        if len(bigg_match_id) > 1:\n",
    "            bigg_id.append(bigg_match_id)\n",
    "            bigg_name.append(bigg_match_name)\n",
    "        else:   \n",
    "            bigg_id.append('')\n",
    "            bigg_name.append('')\n",
    "        \n",
    "        isg_id.append(bigg_match_id[0] + '_c')\n",
    "        isg_name.append(bigg_match_name[0]) \n",
    "        \n",
    "        # bigg metadata\n",
    "        metdict = allmetdict[bigg_match_id[0]]\n",
    "        \n",
    "        isg_charge.append(metdict['charges'][0])\n",
    "        isg_formula.append(metdict['formulae'][0])\n",
    "        if len(metdict['charges']) > 1:\n",
    "            bigg_charge.append(metdict['charges'])\n",
    "        else:\n",
    "            bigg_charge.append('')\n",
    "            \n",
    "        if len(metdict['formulae']) > 1:\n",
    "            bigg_formula.append(metdict['formulae'])\n",
    "        else:\n",
    "            bigg_formula.append('')\n",
    "            \n",
    "    else:\n",
    "        bigg_id.append('')\n",
    "        bigg_name.append('')\n",
    "        bigg_formula.append('')\n",
    "        bigg_charge.append('')\n",
    "        isg_charge.append('')\n",
    "        isg_id.append('')\n",
    "        isg_name.append(met.name.split('_')[0])\n",
    "        \n",
    "    # Formula, prioritize bigg (iAT has neutral formulas), use iAT if not possible:\n",
    "    if bigg_formula[-1] != '':\n",
    "        isg_formula.append(bigg_formula[-1])\n",
    "    else:\n",
    "            # Formula from iAT\n",
    "        try:\n",
    "            isg_formula.append(met.name.split('_')[1])\n",
    "        except IndexError:\n",
    "            isg_formula.append(met.name)"
   ]
  },
  {
   "cell_type": "code",
   "execution_count": null,
   "metadata": {
    "collapsed": true
   },
   "outputs": [],
   "source": [
    "# write out\n",
    "col_names = ['iat_id','iat_name','bigg_id(>1)', 'bigg_name(>1)','bigg_charge(>1)','bigg_formula(>1)',\n",
    "             'isg_id','isg_name','isg_formula','isg_charge','isg_kegg']\n",
    "reaction_nom = pd.DataFrame(\n",
    "    {'iat_id': iat_id,\n",
    "     'iat_name': iat_name,\n",
    "     'bigg_id(>1)': bigg_id,\n",
    "     'bigg_name(>1)': bigg_name,\n",
    "     'bigg_charge': bigg_charge,\n",
    "     'bigg_formula': bigg_formula,\n",
    "     'isg_id': isg_id,\n",
    "     'isg_name': isg_name,\n",
    "     'isg_formula': isg_formula,\n",
    "     'isg_charge': isg_charge,\n",
    "     'isg_kegg': isg_kegg},columns=col_names)\n",
    "reaction_nom.to_csv(os.path.abspath(os.path.join('iSG', 'metabolite_nomenclature.csv')),index=False)"
   ]
  },
  {
   "cell_type": "code",
   "execution_count": null,
   "metadata": {},
   "outputs": [],
   "source": []
  }
 ],
 "metadata": {
  "kernelspec": {
   "display_name": "Python 3",
   "language": "python",
   "name": "python3"
  },
  "language_info": {
   "codemirror_mode": {
    "name": "ipython",
    "version": 3
   },
   "file_extension": ".py",
   "mimetype": "text/x-python",
   "name": "python",
   "nbconvert_exporter": "python",
   "pygments_lexer": "ipython3",
   "version": "3.6.1"
  }
 },
 "nbformat": 4,
 "nbformat_minor": 1
}
